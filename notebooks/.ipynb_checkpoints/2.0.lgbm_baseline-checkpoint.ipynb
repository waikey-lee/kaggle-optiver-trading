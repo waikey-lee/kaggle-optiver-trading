{
 "cells": [
  {
   "cell_type": "markdown",
   "metadata": {},
   "source": [
    "# Setup"
   ]
  },
  {
   "cell_type": "code",
   "execution_count": 251,
   "metadata": {
    "tags": []
   },
   "outputs": [],
   "source": [
    "import sys\n",
    "# sys.path.append(\"/kaggle/input/python-helpers/\")\n",
    "sys.path.append(\"../\")\n",
    "import common_utils\n",
    "from common_utils import (\n",
    "    check_memory_usage, check_memory_by_global_variable, # For memory handling\n",
    "    get_time_now, cprint, # For logging\n",
    "    get_cols, downcast_to_32bit, my_concat, my_power, my_log, list_diff, # For preprocessing\n",
    "    plot_feature_importance, plot_scatterplot, # For visualization\n",
    "    get_feature_summary, # For feature engineering & feature selection\n",
    "    check_auc # For EDA\n",
    ")\n",
    "from comp_utils import (\n",
    "    zero_sum, clean_df\n",
    ")"
   ]
  },
  {
   "cell_type": "code",
   "execution_count": 203,
   "metadata": {
    "tags": []
   },
   "outputs": [
    {
     "name": "stdout",
     "output_type": "stream",
     "text": [
      "INFO: Pandarallel will run on 12 workers.\n",
      "INFO: Pandarallel will use standard multiprocessing data transfer (pipe) to transfer data between the main process and workers.\n"
     ]
    }
   ],
   "source": [
    "import gc\n",
    "import joblib\n",
    "import lightgbm as lgb\n",
    "from lightgbm import LGBMRegressor, log_evaluation\n",
    "import math\n",
    "import matplotlib.pyplot as plt\n",
    "import numpy as np\n",
    "import optuna\n",
    "import pandas as pd\n",
    "from pandarallel import pandarallel\n",
    "pandarallel.initialize(progress_bar=False, nb_workers=12)\n",
    "import plotly.express as px\n",
    "import scipy.cluster.hierarchy as sch\n",
    "import seaborn as sns\n",
    "import time\n",
    "\n",
    "from datetime import datetime\n",
    "from itertools import combinations, groupby, product\n",
    "from scipy.stats import pearsonr, chi2_contingency\n",
    "from sklearn.decomposition import PCA\n",
    "from sklearn.model_selection import train_test_split, TimeSeriesSplit\n",
    "from sklearn.metrics import roc_auc_score\n",
    "from tqdm import tqdm\n",
    "tqdm.pandas()\n",
    "\n",
    "import warnings\n",
    "warnings.filterwarnings(\"ignore\")\n",
    "from warnings import simplefilter\n",
    "simplefilter(action=\"ignore\", category=pd.errors.PerformanceWarning)"
   ]
  },
  {
   "cell_type": "code",
   "execution_count": 204,
   "metadata": {},
   "outputs": [
    {
     "name": "stdout",
     "output_type": "stream",
     "text": [
      "The autoreload extension is already loaded. To reload it, use:\n",
      "  %reload_ext autoreload\n"
     ]
    }
   ],
   "source": [
    "%load_ext autoreload\n",
    "%autoreload"
   ]
  },
  {
   "cell_type": "code",
   "execution_count": 205,
   "metadata": {
    "tags": []
   },
   "outputs": [],
   "source": [
    "DATA_DIR = '../data/'"
   ]
  },
  {
   "cell_type": "markdown",
   "metadata": {},
   "source": [
    "## Read Data"
   ]
  },
  {
   "cell_type": "code",
   "execution_count": 147,
   "metadata": {
    "tags": []
   },
   "outputs": [
    {
     "name": "stdout",
     "output_type": "stream",
     "text": [
      "CPU times: user 263 ms, sys: 126 ms, total: 389 ms\n",
      "Wall time: 90.2 ms\n"
     ]
    }
   ],
   "source": [
    "%%time\n",
    "train = pd.read_parquet(f'{DATA_DIR}/optiver-train-data/raw_train.parquet')"
   ]
  },
  {
   "cell_type": "code",
   "execution_count": 148,
   "metadata": {
    "tags": []
   },
   "outputs": [
    {
     "name": "stdout",
     "output_type": "stream",
     "text": [
      "CPU times: user 52.8 ms, sys: 11.7 ms, total: 64.5 ms\n",
      "Wall time: 64.6 ms\n"
     ]
    }
   ],
   "source": [
    "%%time\n",
    "revealed_targets = pd.read_csv(f'{DATA_DIR}/optiver-trading-at-the-close/example_test_files/revealed_targets.csv')\n",
    "test = pd.read_csv(f'{DATA_DIR}/optiver-trading-at-the-close/example_test_files/test.csv')\n",
    "sample_submission = pd.read_csv(f'{DATA_DIR}/optiver-trading-at-the-close/example_test_files/sample_submission.csv')"
   ]
  },
  {
   "cell_type": "code",
   "execution_count": 149,
   "metadata": {
    "tags": []
   },
   "outputs": [],
   "source": [
    "weight_df = pd.read_csv(f\"{DATA_DIR}/optiver-train-data/stock_weight.csv\")\n",
    "median_vol = pd.read_csv(f\"{DATA_DIR}/optiver-memoryreduceddatasets/MedianVolV2.csv\")\n",
    "median_vol.index.name = \"stock_id\"\n",
    "median_vol = median_vol[['overall_medvol', \"first5min_medvol\", \"last5min_medvol\"]]"
   ]
  },
  {
   "cell_type": "code",
   "execution_count": 150,
   "metadata": {
    "tags": []
   },
   "outputs": [
    {
     "name": "stdout",
     "output_type": "stream",
     "text": [
      "CPU times: user 215 ms, sys: 54.8 ms, total: 270 ms\n",
      "Wall time: 268 ms\n"
     ]
    }
   ],
   "source": [
    "%%time\n",
    "prev_day_target_stats = train.groupby([\"stock_id\", \"date_id\"])[\"target\"].agg([\"mean\", \"std\", \"min\", \"median\", \"max\"])\n",
    "prev_day_target_stats = prev_day_target_stats.groupby(\"stock_id\").shift(1).add_prefix(\"ytd_target_\").reset_index()"
   ]
  },
  {
   "cell_type": "code",
   "execution_count": 151,
   "metadata": {},
   "outputs": [
    {
     "name": "stdout",
     "output_type": "stream",
     "text": [
      "CPU times: user 182 ms, sys: 35 ms, total: 217 ms\n",
      "Wall time: 216 ms\n"
     ]
    }
   ],
   "source": [
    "%%time\n",
    "median_bid_ask_size = train.groupby('stock_id').agg(median_bid_size=(\"bid_size\", \"median\"), median_ask_size=(\"ask_size\", \"median\")).sum(axis=1).rename(\"median_bid_ask_size\").reset_index()\n",
    "std_bid_ask_size = train.groupby('stock_id').agg(std_bid_size=(\"bid_size\", \"std\"), std_ask_size=(\"ask_size\", \"std\")).sum(axis=1).rename(\"std_bid_ask_size\").reset_index()"
   ]
  },
  {
   "cell_type": "markdown",
   "metadata": {},
   "source": [
    "# Preprocessing"
   ]
  },
  {
   "cell_type": "markdown",
   "metadata": {},
   "source": [
    "## Simple Cleaning"
   ]
  },
  {
   "cell_type": "code",
   "execution_count": 152,
   "metadata": {
    "tags": []
   },
   "outputs": [],
   "source": [
    "def clean_df(df):\n",
    "    df = df.drop(columns=['row_id', 'time_id'], errors=\"ignore\")\n",
    "    df = df.rename(\n",
    "        columns={\n",
    "            \"seconds_in_bucket\": \"seconds\",\n",
    "            \"imbalance_size\": \"imb_size\",\n",
    "            \"imbalance_buy_sell_flag\": \"imb_flag\",\n",
    "            \"reference_price\": \"ref_price\",\n",
    "            \"wap\": \"wa_price\", \n",
    "        }\n",
    "    )\n",
    "    return df"
   ]
  },
  {
   "cell_type": "code",
   "execution_count": 153,
   "metadata": {
    "tags": []
   },
   "outputs": [
    {
     "name": "stdout",
     "output_type": "stream",
     "text": [
      "CPU times: user 53.3 ms, sys: 67.3 ms, total: 121 ms\n",
      "Wall time: 119 ms\n"
     ]
    }
   ],
   "source": [
    "%%time\n",
    "train = clean_df(train)"
   ]
  },
  {
   "cell_type": "markdown",
   "metadata": {},
   "source": [
    "## Clip"
   ]
  },
  {
   "cell_type": "markdown",
   "metadata": {},
   "source": [
    "Can update this clipping logic\n",
    "- To by group clipping instead of global clipping, because some stock might be always nearer to the clipping bound, while some are not\n",
    "- By defining the bound using outlier factor instead of simple percentile"
   ]
  },
  {
   "cell_type": "code",
   "execution_count": 154,
   "metadata": {
    "tags": []
   },
   "outputs": [],
   "source": [
    "PRICE_CLIP_PERCENTILE = 0.01 # 1 - (2 * PRICE_CLIPPER_TAIL / 100) will remained unclip"
   ]
  },
  {
   "cell_type": "code",
   "execution_count": 155,
   "metadata": {
    "tags": []
   },
   "outputs": [],
   "source": [
    "def get_price_clippers(df, price_cols, price_clip_percentile=PRICE_CLIP_PERCENTILE):\n",
    "    price_clippers = {}\n",
    "    for price_col in price_cols:\n",
    "        upper_bound = np.percentile(df[price_col].dropna(), 100 - price_clip_percentile)\n",
    "        lower_bound = np.percentile(df[price_col].dropna(), price_clip_percentile)\n",
    "        price_clippers[price_col] = (lower_bound, upper_bound)\n",
    "        cprint(f\"For {price_col}, the global clip bound is\", end=\" \", color=\"blue\")\n",
    "        cprint(f\"({lower_bound:.4f}, {upper_bound:.4f})\", color=\"green\")\n",
    "    return price_clippers"
   ]
  },
  {
   "cell_type": "code",
   "execution_count": 156,
   "metadata": {
    "tags": []
   },
   "outputs": [
    {
     "name": "stdout",
     "output_type": "stream",
     "text": [
      "\u001b[34m\u001b[1mFor ref_price, the global clip bound is\u001b[0m \u001b[32m\u001b[1m(0.9798, 1.0246)\u001b[0m\n",
      "\u001b[34m\u001b[1mFor far_price, the global clip bound is\u001b[0m \u001b[32m\u001b[1m(0.7866, 1.3063)\u001b[0m\n",
      "\u001b[34m\u001b[1mFor near_price, the global clip bound is\u001b[0m \u001b[32m\u001b[1m(0.8942, 1.1092)\u001b[0m\n",
      "\u001b[34m\u001b[1mFor bid_price, the global clip bound is\u001b[0m \u001b[32m\u001b[1m(0.9793, 1.0223)\u001b[0m\n",
      "\u001b[34m\u001b[1mFor ask_price, the global clip bound is\u001b[0m \u001b[32m\u001b[1m(0.9814, 1.0249)\u001b[0m\n",
      "\u001b[34m\u001b[1mFor wa_price, the global clip bound is\u001b[0m \u001b[32m\u001b[1m(0.9802, 1.0233)\u001b[0m\n"
     ]
    }
   ],
   "source": [
    "base_price_cols = get_cols(train, contains=\"price\")\n",
    "price_clippers = get_price_clippers(train, base_price_cols)"
   ]
  },
  {
   "cell_type": "code",
   "execution_count": 157,
   "metadata": {
    "tags": []
   },
   "outputs": [],
   "source": [
    "VOLUME_CLIPPER_UPPER_TAIL = 0.01 # only the top VOLUME_CLIPPER_UPPER_TAIL proportion will be clipped"
   ]
  },
  {
   "cell_type": "code",
   "execution_count": 158,
   "metadata": {
    "tags": []
   },
   "outputs": [],
   "source": [
    "def get_volume_clippers(df, volume_cols, volume_clip_upper_percentile=VOLUME_CLIPPER_UPPER_TAIL):\n",
    "    volume_clippers = {}\n",
    "    for volume_col in volume_cols:\n",
    "        upper_bound = np.percentile(df[volume_col].dropna(), 100 - volume_clip_upper_percentile)\n",
    "        volume_clippers[volume_col] = (0, upper_bound)\n",
    "        cprint(f\"For {volume_col}, the global clip bound is\", end=\" \", color=\"blue\")\n",
    "        cprint(f\"(0, {upper_bound:.4f})\", color=\"green\")\n",
    "    return volume_clippers"
   ]
  },
  {
   "cell_type": "code",
   "execution_count": 159,
   "metadata": {
    "tags": []
   },
   "outputs": [
    {
     "name": "stdout",
     "output_type": "stream",
     "text": [
      "\u001b[34m\u001b[1mFor imb_size, the global clip bound is\u001b[0m \u001b[32m\u001b[1m(0, 587222572.7743)\u001b[0m\n",
      "\u001b[34m\u001b[1mFor matched_size, the global clip bound is\u001b[0m \u001b[32m\u001b[1m(0, 4502560423.2681)\u001b[0m\n",
      "\u001b[34m\u001b[1mFor bid_size, the global clip bound is\u001b[0m \u001b[32m\u001b[1m(0, 2392089.1659)\u001b[0m\n",
      "\u001b[34m\u001b[1mFor ask_size, the global clip bound is\u001b[0m \u001b[32m\u001b[1m(0, 2754727.0502)\u001b[0m\n"
     ]
    }
   ],
   "source": [
    "base_volume_cols = get_cols(train, contains=\"size\")\n",
    "volume_clippers = get_volume_clippers(train, base_volume_cols)"
   ]
  },
  {
   "cell_type": "code",
   "execution_count": 160,
   "metadata": {
    "tags": []
   },
   "outputs": [],
   "source": [
    "PRICE_MULTIPLIER = 10 # Factor to multiple the price col after taking the distance to 1\n",
    "PRICE_POWER_FACTOR = 1/2 # Factor to transform the price col to bimodal distribution, the lower the further apart of the modes"
   ]
  },
  {
   "cell_type": "code",
   "execution_count": 161,
   "metadata": {
    "tags": []
   },
   "outputs": [],
   "source": [
    "MIN_TARGET = -100\n",
    "MAX_TARGET = 100"
   ]
  },
  {
   "cell_type": "code",
   "execution_count": 162,
   "metadata": {
    "tags": []
   },
   "outputs": [],
   "source": [
    "def clip_df(df, price_clippers=None, volume_clippers=None):\n",
    "    # Find the column list for each group\n",
    "    price_cols = get_cols(df, endswith=\"price\")\n",
    "    volume_cols = get_cols(df, endswith=\"size\")\n",
    "    flag_cols = get_cols(df, endswith=\"flag\")\n",
    "    base_cols = price_cols + volume_cols + flag_cols\n",
    "    \n",
    "    if price_clippers is None:\n",
    "        price_clippers = get_price_clippers(df, price_cols)\n",
    "    \n",
    "    if volume_clippers is None:\n",
    "        volume_clippers = get_volume_clippers(df, volume_cols)\n",
    "    \n",
    "    # Clip price columns\n",
    "    for price_col in price_cols:\n",
    "        df[price_col] = df[price_col].clip(*price_clippers[price_col])\n",
    "        \n",
    "    # Clip volume columns\n",
    "    for volume_col in volume_cols:\n",
    "        df[volume_col] = df[volume_col].clip(*volume_clippers[volume_col])\n",
    "    \n",
    "    # Clip target columns (if applicable)\n",
    "    if \"target\" in df.columns:\n",
    "        df[\"clipped_target\"] = df[\"target\"].clip(MIN_TARGET, MAX_TARGET)\n",
    "        df[\"is_positive_target\"] = (df[\"target\"] > 0).astype(int)\n",
    "        df[\"is_mild_target\"] = df[\"target\"].between(-4.5, 4.5).astype(int)\n",
    "    return df"
   ]
  },
  {
   "cell_type": "code",
   "execution_count": 163,
   "metadata": {
    "tags": []
   },
   "outputs": [
    {
     "name": "stdout",
     "output_type": "stream",
     "text": [
      "CPU times: user 200 ms, sys: 179 ms, total: 379 ms\n",
      "Wall time: 381 ms\n"
     ]
    }
   ],
   "source": [
    "%%time\n",
    "train = clip_df(train, price_clippers=price_clippers, volume_clippers=volume_clippers)"
   ]
  },
  {
   "cell_type": "markdown",
   "metadata": {},
   "source": [
    "## Scale"
   ]
  },
  {
   "cell_type": "code",
   "execution_count": 164,
   "metadata": {
    "tags": []
   },
   "outputs": [],
   "source": [
    "# price_and_vol_columns = get_cols(train, contains=[\"_price\", \"_size\"], excludes=[\"scaled\"])\n",
    "# base_col_stock_avg_ref = train.groupby(\"stock_id\")[price_and_vol_columns].mean().add_suffix(\"_mean\")\n",
    "# base_col_stock_std_ref = train.groupby(\"stock_id\")[price_and_vol_columns].std().add_suffix(\"_std\")\n",
    "# base_col_date_avg_ref = train.groupby(\"date_id\")[price_and_vol_columns].mean().add_suffix(\"_mean\")\n",
    "# base_col_date_std_ref = train.groupby(\"date_id\")[price_and_vol_columns].std().add_suffix(\"_std\")\n",
    "\n",
    "# def scale(df):\n",
    "#     # Get the base price and base volume columns (base means it is raw or raw after transformed)\n",
    "#     price_and_vol_columns = get_cols(df, contains=[\"_price\", \"_size\"], excludes=[\"scaled\"])\n",
    "    \n",
    "#     # Merge the per-stock base columns avg and std reference prepared before-hand\n",
    "#     df = df.merge(base_col_stock_avg_ref, on=[\"stock_id\"], how=\"left\")\n",
    "#     df = df.merge(base_col_stock_std_ref, on=[\"stock_id\"], how=\"left\")\n",
    "    \n",
    "#     # For each of the base column, standardized it using the stock ID mean and stock ID std\n",
    "#     for col in tqdm(price_and_vol_columns):\n",
    "#         df[\"sc_stock_\" + col] = (df[col] - df[col + \"_mean\"]) / df[col + \"_std\"]\n",
    "        \n",
    "#     # Remove the redundant avg & std reference columns\n",
    "#     df.drop(columns=list(base_col_stock_avg_ref) + list(base_col_stock_std_ref), errors=\"ignore\", inplace=True)\n",
    "    \n",
    "#     # Merge the per-date base columns avg and std reference prepared before-hand\n",
    "#     df = df.merge(base_col_date_avg_ref, on=[\"date_id\"], how=\"left\")\n",
    "#     df = df.merge(base_col_date_std_ref, on=[\"date_id\"], how=\"left\")\n",
    "    \n",
    "#     # For each of the base column, standardized it using the date ID mean and date ID std\n",
    "#     for col in tqdm(price_and_vol_columns):\n",
    "#         df[\"sc_date_\" + col] = (df[col] - df[col + \"_mean\"]) / df[col + \"_std\"]\n",
    "        \n",
    "#     # Remove the redundant avg & std reference columns\n",
    "#     df.drop(columns=list(base_col_date_avg_ref) + list(base_col_date_std_ref), errors=\"ignore\", inplace=True)\n",
    "    \n",
    "#     return df"
   ]
  },
  {
   "cell_type": "code",
   "execution_count": 165,
   "metadata": {
    "tags": []
   },
   "outputs": [],
   "source": [
    "# %%time\n",
    "# train = scale(train)"
   ]
  },
  {
   "cell_type": "markdown",
   "metadata": {},
   "source": [
    "## Merge Additional Data"
   ]
  },
  {
   "cell_type": "code",
   "execution_count": 166,
   "metadata": {
    "tags": []
   },
   "outputs": [],
   "source": [
    "def merge_additional_info(df, pdts=prev_day_target_stats):\n",
    "    # Merge additional static information\n",
    "    df = df.merge(weight_df, on=\"stock_id\", how=\"left\")\n",
    "    df = df.merge(median_vol, left_on=\"stock_id\", right_index=True, how=\"left\")\n",
    "    df = df.merge(median_bid_ask_size, on=\"stock_id\", how=\"left\")\n",
    "    df = df.merge(std_bid_ask_size, on=\"stock_id\", how=\"left\")\n",
    "    \n",
    "    # Merge additional dynamic information\n",
    "    df = df.merge(pdts, on=[\"stock_id\", \"date_id\"], how=\"left\")\n",
    "    return df"
   ]
  },
  {
   "cell_type": "code",
   "execution_count": 167,
   "metadata": {
    "tags": []
   },
   "outputs": [
    {
     "name": "stdout",
     "output_type": "stream",
     "text": [
      "CPU times: user 875 ms, sys: 897 ms, total: 1.77 s\n",
      "Wall time: 1.77 s\n"
     ]
    }
   ],
   "source": [
    "%%time\n",
    "train = merge_additional_info(train)"
   ]
  },
  {
   "cell_type": "markdown",
   "metadata": {},
   "source": [
    "## Interaction Features"
   ]
  },
  {
   "cell_type": "code",
   "execution_count": 168,
   "metadata": {
    "tags": []
   },
   "outputs": [
    {
     "data": {
      "text/plain": [
       "['ref_price',\n",
       " 'far_price',\n",
       " 'near_price',\n",
       " 'bid_price',\n",
       " 'ask_price',\n",
       " 'wa_price',\n",
       " 'imb_size',\n",
       " 'matched_size',\n",
       " 'bid_size',\n",
       " 'ask_size',\n",
       " 'imb_flag']"
      ]
     },
     "execution_count": 168,
     "metadata": {},
     "output_type": "execute_result"
    }
   ],
   "source": [
    "meta_columns = [\"stock_id\", \"date_id\", \"seconds\", \"target\", \"weight\", \"clipped_target\", \"binary_target\"]\n",
    "columns_to_shift = base_price_cols + base_volume_cols + get_cols(train, endswith=\"flag\")\n",
    "columns_to_shift"
   ]
  },
  {
   "cell_type": "code",
   "execution_count": 169,
   "metadata": {
    "tags": []
   },
   "outputs": [],
   "source": [
    "def feature_engineering(df, around_one_price_cols=None, verbose=False):\n",
    "    if verbose:\n",
    "        cprint(f\"{get_time_now()} Getting Price Interaction Features...\", color=\"green\")\n",
    "    for p_col1, p_col2 in combinations(base_price_cols, 2):\n",
    "        p1 = p_col1.replace(\"_price\", \"\")\n",
    "        p2 = p_col2.replace(\"_price\", \"\")\n",
    "        df[f\"{p1}_{p2}_spread\"] = df[p_col1] - df[p_col2]\n",
    "        df[f\"{p1}_{p2}_price\"] = (df[p_col1] + df[p_col2]) / 2\n",
    "        df[f\"{p1}_{p2}_sp_ratio\"] = df[f\"{p1}_{p2}_spread\"] / df[f\"{p1}_{p2}_price\"]\n",
    "    \n",
    "    df[\"bid_ask_price_ratio\"] = df[\"bid_price\"] / (df[\"ask_price\"])\n",
    "    \n",
    "    if verbose:\n",
    "        cprint(f\"{get_time_now()} Getting Volume Interaction Features...\", color=\"green\")\n",
    "    for v_col in base_volume_cols:\n",
    "        # Apply log transformation on 4 volume columns\n",
    "        df[\"log_\" + v_col] = df[v_col].apply(np.log1p)\n",
    "        \n",
    "    df[\"true_imb_size\"] = df[\"imb_size\"] * df[\"imb_flag\"]\n",
    "    df[\"log_true_imb_size\"] = df[\"log_imb_size\"] * df[\"imb_flag\"]\n",
    "    df[\"bid_ask_size\"] = df[\"bid_size\"] + df[\"ask_size\"]\n",
    "    df[\"bid_ask_size_diff\"] = df[\"bid_size\"] - df[\"ask_size\"]\n",
    "    df['bid_ask_size_ds_ratio'] = df[\"bid_ask_size_diff\"] / df[\"bid_ask_size\"]\n",
    "    df[\"match_imb_size\"] = df[\"matched_size\"] + df[\"imb_size\"]\n",
    "    df[\"match_imb_size_diff\"] = df[\"matched_size\"] - df[\"imb_size\"]\n",
    "    df['match_imb_size_ds_ratio'] = df[\"match_imb_size_diff\"] / df[\"match_imb_size\"]\n",
    "    df[\"log_true_imb_matched_size_ratio\"] = df[\"log_true_imb_size\"] / df[\"log_matched_size\"]\n",
    "    df[\"sqrt_imb_matched_size_ratio\"] = my_power(df[\"imb_size\"] / df[\"matched_size\"], 1/2)\n",
    "    df[\"sqrt_true_imb_matched_size_ratio\"] = my_power(df[\"true_imb_size\"] / df[\"matched_size\"], 1/2)\n",
    "    df[\"log_bid_matched_size_ratio\"] = df[\"log_bid_size\"] / df[\"log_matched_size\"]\n",
    "    df[\"log_ask_matched_size_ratio\"] = df[\"log_ask_size\"] / df[\"log_matched_size\"]\n",
    "    df[\"log_bid_ask_diff_true_imb_product\"] = my_log(df[\"bid_ask_size_diff\"] * df[\"true_imb_size\"])\n",
    "    df[\"match_size_ratio\"] = df[\"matched_size\"] / (df[\"matched_size\"] + df[\"imb_size\"])\n",
    "    df[\"bid_size_ratio\"] = df[\"bid_size\"] / (df[\"bid_size\"] + df[\"ask_size\"])\n",
    "    df[\"ask_size_ratio\"] = df[\"ask_size\"] / (df[\"bid_size\"] + df[\"ask_size\"])\n",
    "    df[\"bid_ask_size_ratio\"] = df[\"bid_size\"] / (df[\"ask_size\"])\n",
    "    \n",
    "    if verbose:\n",
    "        cprint(f\"{get_time_now()} Getting Price-Volume Interaction Features...\", color=\"green\")\n",
    "    df[\"ask_sp_product\"] = df[\"ask_size\"] * df[\"ask_price\"]\n",
    "    df[\"bid_sp_product\"] = df[\"bid_size\"] * df[\"bid_price\"]\n",
    "    df[\"bid_ask_sp_product_diff\"] = df[\"ask_sp_product\"] - df[\"bid_sp_product\"]\n",
    "    \n",
    "    if verbose:\n",
    "        cprint(f\"{get_time_now()} Getting Zero-Centered-Price Interaction Features...\", color=\"green\")\n",
    "    \n",
    "    if around_one_price_cols is None:\n",
    "        around_one_price_cols = df.columns[(df.min() > 0.6) & (df.max() < 1.4)].tolist()\n",
    "        \n",
    "    for p_col1, p_col2 in tqdm(combinations(around_one_price_cols, 2), disable=not verbose):\n",
    "        p1 = p_col1.replace(\"_price\", \"\")\n",
    "        p2 = p_col2.replace(\"_price\", \"\")\n",
    "        if \"_\" not in p1 and \"_\" not in p2:\n",
    "            temp1 = (df[p_col1] - 1)\n",
    "            temp2 = (df[p_col2] - 1)\n",
    "            df[f'{p1}_{p2}_sc_product'] = (temp1 * temp2).astype(np.float32)\n",
    "            df[f'{p1}_{p2}_sc_ratio'] = (np.exp(temp1) / np.exp(temp2)).astype(np.float32)\n",
    "    \n",
    "    if verbose:\n",
    "        cprint(f\"{get_time_now()} Getting Price-Triplet Interaction Features...\", color=\"green\")\n",
    "        \n",
    "    for c in tqdm(combinations(around_one_price_cols, 3), disable=not verbose):\n",
    "        p1 = c[0].replace(\"_price\", \"\")\n",
    "        p2 = c[1].replace(\"_price\", \"\")\n",
    "        p3 = c[2].replace(\"_price\", \"\")\n",
    "        if \"_\" not in p1 and \"_\" not in p2 and \"_\" not in p3:\n",
    "            a = df[list(c)].fillna(1)\n",
    "            max_ = a.max(axis=1)\n",
    "            min_ = a.min(axis=1)\n",
    "            mid_ = a.sum(axis=1) - min_ - max_\n",
    "            df[f'{p1}_{p2}_{p3}_imb_ratio'] = (1 + max_ - mid_) / (1 + mid_ - min_)\n",
    "    \n",
    "    num_lags = 4\n",
    "    if verbose:\n",
    "        cprint(f\"{get_time_now()} Getting Lag Features with max Lag={num_lags}...\", color=\"green\")\n",
    "    # Group by 'stock_id' and 'date_id' and apply lags to selected columns\n",
    "    for col in tqdm(columns_to_shift, disable=not verbose):\n",
    "        for lag in range(1, num_lags + 1):\n",
    "            df[f'{col}_l{lag}'] = df.groupby(['stock_id', 'date_id'])[col].shift(lag)\n",
    "    \n",
    "    for col in tqdm(columns_to_shift, disable=not verbose):\n",
    "        if col.endswith(\"_price\"):\n",
    "            df[f\"{col}_l1_ratio\"] = df[col] / df[f\"{col}_l1\"]\n",
    "            df[f\"{col}_l2_ratio\"] = df[col] / df[f\"{col}_l2\"]\n",
    "            df[f\"{col}_l1_l2_ratio_diff\"] = df[f\"{col}_l1_ratio\"] - df[f\"{col}_l2_ratio\"]\n",
    "            df[f\"{col}_l0_l3_ma2_diff\"] = (df[col] + df[f\"{col}_l1\"]) / (df[f\"{col}_l2\"] + df[f\"{col}_l3\"])\n",
    "            \n",
    "            l0 = (df[col] - 1)\n",
    "            l1 = (df[f\"{col}_l1\"] - 1)\n",
    "            l2 = (df[f\"{col}_l2\"] - 1)\n",
    "            l3 = (df[f\"{col}_l3\"] - 1)\n",
    "            df[f\"{col}_sc_l1_ratio\"] = np.exp(l0) / np.exp(l1)\n",
    "            df[f\"{col}_sc_l2_ratio\"] = np.exp(l0) / np.exp(l2)\n",
    "            df[f\"{col}_sc_l1_l2_ratio_diff\"] = df[f\"{col}_sc_l1_ratio\"] - df[f\"{col}_sc_l2_ratio\"]\n",
    "            df[f\"{col}_sc_l0_l3_ma_ratio\"] = np.exp(l0 + l1) / np.exp(l2 + l3)\n",
    "            \n",
    "        elif col.endswith(\"_size\") and not col.startswith(\"log_\"):\n",
    "            df[f\"{col}_l1_ratio\"] = df[col] / (df[col] + df[f\"{col}_l1\"])\n",
    "            df[f\"{col}_l2_ratio\"] = df[col] / (df[col] + df[f\"{col}_l2\"])\n",
    "            df[f\"{col}_l1_l2_ratio_diff\"] = (df[f\"{col}_l1_ratio\"] + df[f\"{col}_l2_ratio\"]) / 2\n",
    "            df[f\"{col}_l0_l3_ma2_diff\"] = (\n",
    "                np.log1p(df[col] + df[f\"{col}_l1\"]) / (1 + np.log1p(df[f\"{col}_l2\"] + df[f\"{col}_l3\"]))\n",
    "            )\n",
    "    \n",
    "    return df, around_one_price_cols"
   ]
  },
  {
   "cell_type": "code",
   "execution_count": 170,
   "metadata": {
    "tags": []
   },
   "outputs": [
    {
     "name": "stdout",
     "output_type": "stream",
     "text": [
      "\u001b[32m\u001b[1m14:15:41 Getting Price Interaction Features...\u001b[0m\n",
      "\u001b[32m\u001b[1m14:15:41 Getting Volume Interaction Features...\u001b[0m\n",
      "\u001b[32m\u001b[1m14:15:42 Getting Price-Volume Interaction Features...\u001b[0m\n",
      "\u001b[32m\u001b[1m14:15:42 Getting Zero-Centered-Price Interaction Features...\u001b[0m\n"
     ]
    },
    {
     "name": "stderr",
     "output_type": "stream",
     "text": [
      "231it [00:01, 227.32it/s]\n"
     ]
    },
    {
     "name": "stdout",
     "output_type": "stream",
     "text": [
      "\u001b[32m\u001b[1m14:15:44 Getting Price-Triplet Interaction Features...\u001b[0m\n"
     ]
    },
    {
     "name": "stderr",
     "output_type": "stream",
     "text": [
      "1540it [00:17, 87.48it/s]\n"
     ]
    },
    {
     "name": "stdout",
     "output_type": "stream",
     "text": [
      "\u001b[32m\u001b[1m14:16:02 Getting Lag Features with max Lag=4...\u001b[0m\n"
     ]
    },
    {
     "name": "stderr",
     "output_type": "stream",
     "text": [
      "100%|█████████████████████████████████████████████████████████████████████████████████████████████████████████████████████████████████████████████████████████████████████████████████| 11/11 [00:05<00:00,  2.14it/s]\n",
      "100%|█████████████████████████████████████████████████████████████████████████████████████████████████████████████████████████████████████████████████████████████████████████████████| 11/11 [00:02<00:00,  4.52it/s]"
     ]
    },
    {
     "name": "stdout",
     "output_type": "stream",
     "text": [
      "CPU times: user 22.6 s, sys: 5.7 s, total: 28.3 s\n",
      "Wall time: 28.7 s\n"
     ]
    },
    {
     "name": "stderr",
     "output_type": "stream",
     "text": [
      "\n"
     ]
    }
   ],
   "source": [
    "%%time\n",
    "train, around_one_price_cols = feature_engineering(train, verbose=True)"
   ]
  },
  {
   "cell_type": "code",
   "execution_count": 171,
   "metadata": {
    "tags": []
   },
   "outputs": [
    {
     "data": {
      "text/plain": [
       "['target', 'clipped_target', 'is_positive_target', 'is_mild_target']"
      ]
     },
     "execution_count": 171,
     "metadata": {},
     "output_type": "execute_result"
    }
   ],
   "source": [
    "FINAL_TARGET_COLUMN = \"clipped_target\"\n",
    "cols_to_remove = [\"date_id\", \"stock_id\"]\n",
    "target_column_list = get_cols(train, \"target\", excludes=[\"ytd_\", \"normalized\"])\n",
    "target_column_list"
   ]
  },
  {
   "cell_type": "code",
   "execution_count": 172,
   "metadata": {},
   "outputs": [],
   "source": []
  },
  {
   "cell_type": "code",
   "execution_count": 173,
   "metadata": {},
   "outputs": [
    {
     "name": "stderr",
     "output_type": "stream",
     "text": [
      "100%|█████████████████████████████████████████████████████████████████████████████████████████████████████████████████████████████████████████████████████████████████████████████████| 10/10 [00:00<00:00, 25.47it/s]\n"
     ]
    }
   ],
   "source": [
    "for col in tqdm(get_cols(stock_date_target_stats, contains=\"normalized\")):\n",
    "    stock_date_target_stats[f\"{col}_ma3\"] = stock_date_target_stats.groupby(\"stock_id\")[col].rolling(3).mean().values\n",
    "    stock_date_target_stats[f\"{col}_ma3_ma2_ratio\"] = (\n",
    "        stock_date_target_stats.groupby(\"stock_id\")[col].rolling(3).mean() / stock_date_target_stats.groupby(\"stock_id\")[col].rolling(2).mean()\n",
    "    ).values"
   ]
  },
  {
   "cell_type": "code",
   "execution_count": 174,
   "metadata": {},
   "outputs": [
    {
     "name": "stdout",
     "output_type": "stream",
     "text": [
      "CPU times: user 1.17 s, sys: 4.95 s, total: 6.12 s\n",
      "Wall time: 14.6 s\n"
     ]
    }
   ],
   "source": [
    "%%time\n",
    "train = train.merge(\n",
    "    stock_date_target_stats[[\"stock_id\", \"date_id\"] + get_cols(stock_date_target_stats, contains=[\"normalized\"])],\n",
    "    on=[\"stock_id\", \"date_id\"],\n",
    "    how=\"left\"\n",
    ")"
   ]
  },
  {
   "cell_type": "code",
   "execution_count": 175,
   "metadata": {},
   "outputs": [],
   "source": [
    "lgbm_model = lgb.Booster(model_file=f\"../models/lgbm/lgbm_model3.txt\")\n",
    "previous_feature_list = lgbm_model.feature_name()"
   ]
  },
  {
   "cell_type": "code",
   "execution_count": 110,
   "metadata": {},
   "outputs": [],
   "source": [
    "def check_chi_square_independece(df, col, target_group_no=8, feature_group_no=8):\n",
    "    temp = df[[col, \"target\"]].dropna()\n",
    "    target_group = pd.qcut(temp['target'], q=target_group_no, duplicates=\"drop\").cat.codes.replace(-1, np.nan)\n",
    "    feature_group = pd.qcut(temp[col], q=feature_group_no, duplicates=\"drop\").cat.codes.replace(-1, np.nan)\n",
    "    table = pd.crosstab(feature_group, target_group)\n",
    "    chi2, p, dof, expected = chi2_contingency(table)\n",
    "    if p > 1e-2:\n",
    "        print(f\"p-value {p:.4f}, for column {col}\")\n",
    "    return chi2, p, dof, expected"
   ]
  },
  {
   "cell_type": "code",
   "execution_count": 113,
   "metadata": {},
   "outputs": [],
   "source": [
    "# check_chi_square_independece(train, col=\"normalized_stock_date_target_mean2_ma3_ma2_ratio\", target_group_no=10, feature_group_no=10)"
   ]
  },
  {
   "cell_type": "code",
   "execution_count": 82,
   "metadata": {},
   "outputs": [],
   "source": [
    "train[\"memang_random\"] = np.random.rand(train.shape[0])"
   ]
  },
  {
   "cell_type": "code",
   "execution_count": 118,
   "metadata": {},
   "outputs": [],
   "source": [
    "# for col in tqdm(train.columns[2:]):\n",
    "#     train['feature_group'] = pd.qcut(train[col], q=8, duplicates=\"drop\").cat.codes.replace(-1, np.nan)\n",
    "#     table = pd.crosstab(train['feature_group'], train['target_group'])\n",
    "#     chi2, p, dof, expected = chi2_contingency(table)\n",
    "#     if p > 1e-2:\n",
    "#         print(f\"p-value {p:.4f}, column {col}\")"
   ]
  },
  {
   "cell_type": "code",
   "execution_count": 88,
   "metadata": {},
   "outputs": [],
   "source": [
    "# plt.figure(figsize=(25, 9))\n",
    "# sns.heatmap(table[::-1], cmap=\"coolwarm\", fmt=\".0f\", annot=True)\n",
    "# plt.show()"
   ]
  },
  {
   "cell_type": "code",
   "execution_count": 85,
   "metadata": {},
   "outputs": [
    {
     "data": {
      "text/plain": [
       "0.8406685654632581"
      ]
     },
     "execution_count": 85,
     "metadata": {},
     "output_type": "execute_result"
    }
   ],
   "source": [
    "# Perform the chi-squared independence test\n",
    "chi2, p, dof, expected = chi2_contingency(table)\n",
    "p"
   ]
  },
  {
   "cell_type": "code",
   "execution_count": 42,
   "metadata": {},
   "outputs": [
    {
     "name": "stdout",
     "output_type": "stream",
     "text": [
      "0.424% of the data dropped due to NA in normalized_stock_date_target_mean2_ma3_ma2_ratio\n",
      "\u001b[34m\u001b[1mThe AUC of normalized_stock_date_target_mean2_ma3_ma2_ratio on is_mild_target is 0.5003\u001b[0m\n"
     ]
    },
    {
     "data": {
      "text/plain": [
       "0.5002984187286843"
      ]
     },
     "execution_count": 42,
     "metadata": {},
     "output_type": "execute_result"
    }
   ],
   "source": [
    "check_auc(train, col=col, target_col=\"is_mild_target\", verbose=True)"
   ]
  },
  {
   "cell_type": "code",
   "execution_count": 104,
   "metadata": {},
   "outputs": [],
   "source": [
    "# for col in train.columns[-17:]:\n",
    "#     auc, proportion_drop = check_auc(train, col=col, target_col=\"is_mild_target\", verbose=True)\n",
    "#     print()"
   ]
  },
  {
   "cell_type": "code",
   "execution_count": 33,
   "metadata": {
    "tags": []
   },
   "outputs": [],
   "source": [
    "# def check_corr(df, col, target_col=\"clipped_target\"):\n",
    "#     temp = train[[col, \"clipped_target\"]].dropna()\n",
    "#     dropped_proportion = 1 - temp.shape[0] / train.shape[0]\n",
    "#     if dropped_proportion > 0.2:\n",
    "#         cprint(f\"{dropped_proportion:.3%} of the rows have been dropped due to NaN\", color=\"red\")\n",
    "#     return temp.corr().values[1][0]"
   ]
  },
  {
   "cell_type": "code",
   "execution_count": 176,
   "metadata": {
    "tags": []
   },
   "outputs": [
    {
     "data": {
      "text/plain": [
       "[]"
      ]
     },
     "execution_count": 176,
     "metadata": {},
     "output_type": "execute_result"
    }
   ],
   "source": [
    "list_diff(previous_feature_list, train.columns, sort=True)"
   ]
  },
  {
   "cell_type": "markdown",
   "metadata": {},
   "source": [
    "# Tree-Based Model Training"
   ]
  },
  {
   "cell_type": "code",
   "execution_count": 217,
   "metadata": {
    "tags": []
   },
   "outputs": [],
   "source": [
    "lgbm_best_params = {\n",
    "    'boosting_type': 'gbdt', \n",
    "    'learning_rate': 0.025,\n",
    "    'max_depth': 13,\n",
    "    'n_estimators': 600,\n",
    "    'num_leaves': 300,\n",
    "    'reg_alpha': 0.005,\n",
    "    'reg_lambda': 0.001,\n",
    "    'colsample_bytree': 0.6,\n",
    "    'subsample': 0.875,\n",
    "    'min_child_samples': 128\n",
    "}"
   ]
  },
  {
   "cell_type": "code",
   "execution_count": 249,
   "metadata": {
    "tags": []
   },
   "outputs": [],
   "source": [
    "default_settings = dict(\n",
    "    # objective='cross_entropy', \n",
    "    objective='mae', \n",
    "    histogram_pool_size=1024, \n",
    "    force_col_wise=True, \n",
    "    random_state=1020,\n",
    "    max_bin=256, \n",
    "    n_jobs=-1, \n",
    "    verbose=-1\n",
    ")"
   ]
  },
  {
   "cell_type": "code",
   "execution_count": 224,
   "metadata": {
    "tags": []
   },
   "outputs": [
    {
     "name": "stdout",
     "output_type": "stream",
     "text": [
      "{'objective': 'mae', 'histogram_pool_size': 1024, 'force_col_wise': True, 'random_state': 1020, 'max_bin': 256, 'n_jobs': -1, 'verbose': -1, 'boosting_type': 'gbdt', 'learning_rate': 0.025, 'max_depth': 13, 'n_estimators': 600, 'num_leaves': 300, 'reg_alpha': 0.005, 'reg_lambda': 0.001, 'colsample_bytree': 0.6, 'subsample': 0.875, 'min_child_samples': 128}\n"
     ]
    }
   ],
   "source": [
    "final_lgbm_params = default_settings | lgbm_best_params\n",
    "print(final_lgbm_params)"
   ]
  },
  {
   "cell_type": "code",
   "execution_count": 180,
   "metadata": {
    "tags": []
   },
   "outputs": [
    {
     "data": {
      "text/plain": [
       "420"
      ]
     },
     "execution_count": 180,
     "metadata": {},
     "output_type": "execute_result"
    }
   ],
   "source": [
    "VAL_DAYS = 60\n",
    "MINIMUM_TRAIN_DAYS = 240\n",
    "LAST_TRAIN_DATE = MINIMUM_TRAIN_DAYS + 3 * VAL_DAYS\n",
    "LAST_TRAIN_DATE"
   ]
  },
  {
   "cell_type": "code",
   "execution_count": 250,
   "metadata": {
    "tags": []
   },
   "outputs": [],
   "source": [
    "# Inference on whole dataset, by batch\n",
    "def lgbm_inference_by_batch(model, data, batch_size=8192, verbose=1):\n",
    "    score_list = []\n",
    "    for i in tqdm(range(int(data.shape[0] / batch_size) + 1), disable=not verbose):\n",
    "        try:\n",
    "            score_list.extend(model.predict(\n",
    "                data[model.feature_name()].iloc[int(i * batch_size): int((i+1) * batch_size)], \n",
    "            ))\n",
    "        except:\n",
    "            print(\"Too Many Batch\")\n",
    "    return score_list"
   ]
  },
  {
   "cell_type": "code",
   "execution_count": 182,
   "metadata": {
    "tags": []
   },
   "outputs": [
    {
     "name": "stdout",
     "output_type": "stream",
     "text": [
      "\u001b[32m\u001b[1mBefore downcast: \u001b[0m\t\u001b[32m\u001b[1mRAM used: 0.7 GB\u001b[0m\n"
     ]
    },
    {
     "name": "stderr",
     "output_type": "stream",
     "text": [
      "100%|███████████████████████████████████████████████████████████████████████████████████████████████████████████████████████████████████████████████████████████████████████████████| 208/208 [00:05<00:00, 35.93it/s]\n"
     ]
    },
    {
     "name": "stdout",
     "output_type": "stream",
     "text": [
      "\u001b[34m\u001b[1mAfter downcast: \u001b[0m\t\u001b[34m\u001b[1mRAM used: 0.9 GB\u001b[0m\n"
     ]
    },
    {
     "data": {
      "text/plain": [
       "22"
      ]
     },
     "execution_count": 182,
     "metadata": {},
     "output_type": "execute_result"
    }
   ],
   "source": [
    "train = downcast_to_32bit(train)\n",
    "gc.collect()"
   ]
  },
  {
   "cell_type": "code",
   "execution_count": 183,
   "metadata": {},
   "outputs": [
    {
     "data": {
      "text/plain": [
       "(['date_id', 'stock_id'],\n",
       " ['target', 'clipped_target', 'is_positive_target', 'is_mild_target'])"
      ]
     },
     "execution_count": 183,
     "metadata": {},
     "output_type": "execute_result"
    }
   ],
   "source": [
    "cols_to_remove, target_column_list"
   ]
  },
  {
   "cell_type": "code",
   "execution_count": 241,
   "metadata": {},
   "outputs": [],
   "source": [
    "add_list = []"
   ]
  },
  {
   "cell_type": "code",
   "execution_count": 264,
   "metadata": {},
   "outputs": [],
   "source": [
    "def objective(trial):\n",
    "    va_score_list = []\n",
    "    for i in range(2, 4):\n",
    "        cprint(f\"{get_time_now()} Preparing Training Dataset...\", color=\"green\")\n",
    "        tr = train.loc[train[\"date_id\"].between(0, MINIMUM_TRAIN_DAYS + i * VAL_DAYS)]\n",
    "        train_data = lgb.Dataset(\n",
    "            tr.drop(columns=target_column_list + cols_to_remove + add_list, errors=\"ignore\"), #.drop(columns=features_to_drop),\n",
    "            tr[\"target\"].values\n",
    "        )\n",
    "        del tr\n",
    "        gc.collect()\n",
    "        \n",
    "        cprint(f\"{get_time_now()} Preparing Validation Dataset...\", color=\"green\")\n",
    "        va = train.loc[train[\"date_id\"].between(MINIMUM_TRAIN_DAYS + i * VAL_DAYS + 1, MINIMUM_TRAIN_DAYS + (i + 1) * VAL_DAYS)]\n",
    "        valid_data = lgb.Dataset(\n",
    "            va.drop(columns=target_column_list + cols_to_remove + add_list, errors=\"ignore\"), #.drop(columns=features_to_drop),\n",
    "            va[\"target\"].values,\n",
    "            reference=train_data\n",
    "        )\n",
    "        \n",
    "        cprint(f\"{get_time_now()} Suggesting hyparameters for this trial...\", color=\"green\")\n",
    "        lgbm_trial_params = dict(\n",
    "            boosting_type=\"gbdt\", # trial.suggest_categorical(\"boosting_type\", [\"gbdt\", \"dart\", \"goss\"]),\n",
    "            learning_rate=trial.suggest_float(\"learning_rate\", 0.015, 0.03), # 0.018052307589575444, \n",
    "            max_depth=trial.suggest_categorical(\"max_depth\", [10, 11, 12, -1]), \n",
    "            n_estimators=trial.suggest_int(\"n_estimators\", 500, 1000, step=100),\n",
    "            num_leaves=trial.suggest_int(\"num_leaves\", 256, 512, step=32), \n",
    "            reg_alpha=trial.suggest_float(\"reg_alpha\", 0.00001, 0.03, log=True), # 0.02216069565875271, \n",
    "            reg_lambda=trial.suggest_float(\"reg_lambda\", 0.00001, 0.03, log=True), # 0.01223572246957101,\n",
    "            colsample_bytree=trial.suggest_float(\"colsample_bytree\", 0.4, 0.8),\n",
    "            subsample=trial.suggest_float(\"subsample\", 0.5, 0.95),\n",
    "            min_child_samples=trial.suggest_int(\"min_child_samples\", 32, 128, step=16),\n",
    "            verbose=-1\n",
    "        )\n",
    "        final_lgbm_params = default_settings | lgbm_trial_params\n",
    "        print(final_lgbm_params)\n",
    "        \n",
    "        cprint(f\"{get_time_now()} Model Training...\", color=\"green\")\n",
    "        model = lgb.train(\n",
    "            params=final_lgbm_params,\n",
    "            train_set=train_data, \n",
    "            valid_sets=[valid_data, train_data], \n",
    "            # feval=lgb_amex_metric, \n",
    "            # early_stopping_rounds=200,\n",
    "            # categorical_feature=[\"stock_id\"],\n",
    "            callbacks=[\n",
    "                log_evaluation(100),\n",
    "            ]\n",
    "        )\n",
    "        del train_data, valid_data\n",
    "        gc.collect()\n",
    "        \n",
    "        va_pred = lgbm_inference_by_batch(model, va, verbose=0)\n",
    "        va_score = (va_pred - va[\"target\"]).abs().mean()\n",
    "        \n",
    "        va_pred_zero_sum = zero_sum(va_pred, va['bid_size'] + va['ask_size'])\n",
    "        va_pred_zero_sum_score = (va_pred_zero_sum - va[\"target\"]).abs().mean()\n",
    "        \n",
    "        cprint(f\"{get_time_now()} Ori score: {va_score:.5f}, Zero sum score: {va_pred_zero_sum_score:.5f}\", color=\"blue\")\n",
    "        va_score_list.append(va_pred_zero_sum_score)\n",
    "        \n",
    "    return np.mean(va_score_list)"
   ]
  },
  {
   "cell_type": "code",
   "execution_count": null,
   "metadata": {},
   "outputs": [
    {
     "name": "stderr",
     "output_type": "stream",
     "text": [
      "[I 2023-10-15 19:23:26,911] A new study created in memory with name: no-name-21cde35b-d879-4e44-aaa2-9bb3c20a86b9\n"
     ]
    },
    {
     "name": "stdout",
     "output_type": "stream",
     "text": [
      "\u001b[32m\u001b[1m19:23:26 Preparing Training Dataset...\u001b[0m\n"
     ]
    }
   ],
   "source": [
    "study = optuna.create_study(direction=\"minimize\")\n",
    "study.optimize(objective, n_trials=50)"
   ]
  },
  {
   "cell_type": "code",
   "execution_count": null,
   "metadata": {},
   "outputs": [],
   "source": []
  },
  {
   "cell_type": "code",
   "execution_count": 242,
   "metadata": {
    "tags": []
   },
   "outputs": [
    {
     "name": "stdout",
     "output_type": "stream",
     "text": [
      "\u001b[32m\u001b[1m17:09:52 Preparing Dataset...\u001b[0m\n",
      "\u001b[33m\u001b[1mTrain shape (4577980, 288)\u001b[0m\n",
      "\u001b[32m\u001b[1m17:10:09 Training...\u001b[0m\n",
      "[200]\ttraining's l1: 6.27314\tvalid_0's l1: 5.69447\n",
      "[400]\ttraining's l1: 6.20388\tvalid_0's l1: 5.68927\n",
      "[600]\ttraining's l1: 6.14759\tvalid_0's l1: 5.68948\n"
     ]
    },
    {
     "name": "stderr",
     "output_type": "stream",
     "text": [
      "100%|█████████████████████████████████████████████████████████████████████████████████████████████████████████████████████████████████████████████████████████████████████████████████| 81/81 [00:24<00:00,  3.30it/s]"
     ]
    },
    {
     "name": "stdout",
     "output_type": "stream",
     "text": [
      "\u001b[34m\u001b[1m17:21:05 5.68949\u001b[0m\n",
      "CPU times: user 1h 19min 26s, sys: 6min 13s, total: 1h 25min 39s\n",
      "Wall time: 11min 12s\n"
     ]
    },
    {
     "name": "stderr",
     "output_type": "stream",
     "text": [
      "\n"
     ]
    }
   ],
   "source": [
    "%%time\n",
    "va_score_list = []\n",
    "model_list = []\n",
    "va_pred_list = []\n",
    "va_list = []\n",
    "for i in [3]:\n",
    "    cprint(f\"{get_time_now()} Preparing Dataset...\", color=\"green\")\n",
    "    \n",
    "    tr = train.loc[train[\"date_id\"].between(0, LAST_TRAIN_DATE)]\n",
    "    # tr = train.loc[train[\"date_id\"].between(0, 480)]\n",
    "    cprint(f\"Train shape {tr.shape}\", color=\"yellow\")\n",
    "    train_data = lgb.Dataset(\n",
    "        tr.drop(columns=target_column_list + cols_to_remove + add_list, errors=\"ignore\"), #.drop(columns=features_to_drop),\n",
    "        tr[\"target\"].values\n",
    "    )\n",
    "    del tr\n",
    "    gc.collect()\n",
    "    \n",
    "    va = train.loc[train[\"date_id\"].between(LAST_TRAIN_DATE + 1, 480)]\n",
    "    valid_data = lgb.Dataset(\n",
    "        va.drop(columns=target_column_list + cols_to_remove + add_list, errors=\"ignore\"), #.drop(columns=features_to_drop),\n",
    "        va[\"target\"].values,\n",
    "        reference=train_data\n",
    "    )\n",
    "    \n",
    "    cprint(f\"{get_time_now()} Training...\", color=\"green\")\n",
    "    model = lgb.train(\n",
    "        params=final_lgbm_params,\n",
    "        train_set=train_data, \n",
    "        valid_sets=[valid_data, train_data], \n",
    "        # feval=lgb_amex_metric, \n",
    "        # early_stopping_rounds=200,\n",
    "        # categorical_feature=[\"stock_id\"],\n",
    "        callbacks=[\n",
    "            log_evaluation(200),\n",
    "        ]\n",
    "    )\n",
    "    del train_data, valid_data\n",
    "    gc.collect()\n",
    "    \n",
    "#     model_list.append(model)\n",
    "    va_pred = lgbm_inference_by_batch(model, va)\n",
    "#     va_pred_list.append(va_pred)\n",
    "\n",
    "    va_score = (va_pred - va[\"target\"]).abs().mean()\n",
    "    cprint(f\"{get_time_now()} {va_score:.5f}\", color=\"blue\")\n",
    "#     va_score_list.append(va_score)"
   ]
  },
  {
   "cell_type": "code",
   "execution_count": 190,
   "metadata": {},
   "outputs": [],
   "source": [
    "# va_pred = lgbm_inference_by_batch(model, va)\n",
    "# va_score = (va_pred - va[\"target\"]).abs().mean()\n",
    "# cprint(f\"{get_time_now()} {va_score:.5f}\", color=\"blue\")"
   ]
  },
  {
   "cell_type": "code",
   "execution_count": 103,
   "metadata": {},
   "outputs": [],
   "source": [
    "# t = np.where(\n",
    "#     np.array(bin_va_pred) < 0.2, \n",
    "#     np.array(va_pred) - 0.02,\n",
    "#     np.where(\n",
    "#         np.array(bin_va_pred) > 0.8, \n",
    "#         np.array(va_pred) + 0.02,\n",
    "#         np.array(va_pred)\n",
    "#     )\n",
    "# )"
   ]
  },
  {
   "cell_type": "code",
   "execution_count": 193,
   "metadata": {},
   "outputs": [
    {
     "data": {
      "image/png": "[encoded data removed]",
      "text/plain": [
       "<Figure size 1600x900 with 1 Axes>"
      ]
     },
     "metadata": {},
     "output_type": "display_data"
    }
   ],
   "source": [
    "feature_imp_df = plot_feature_importance(\n",
    "    features=bin_model.feature_name(), importances=bin_model.feature_importance(), return_df=True\n",
    ")"
   ]
  },
  {
   "cell_type": "code",
   "execution_count": 206,
   "metadata": {},
   "outputs": [
    {
     "name": "stdout",
     "output_type": "stream",
     "text": [
      "\u001b[32m\u001b[1m15:02:19 Calculating Feature Correlation...\u001b[0m\n",
      "\u001b[32m\u001b[1m15:19:59 Forming Feature Clusters...\u001b[0m\n",
      "CPU times: user 8min 50s, sys: 5min 39s, total: 14min 29s\n",
      "Wall time: 17min 40s\n"
     ]
    }
   ],
   "source": [
    "%%time\n",
    "feature_summary_df, feature_corr_df, linkage_matrix = get_feature_summary(bin_model, train, clustering_threshold=0.5)"
   ]
  },
  {
   "cell_type": "code",
   "execution_count": 208,
   "metadata": {},
   "outputs": [
    {
     "data": {
      "text/html": [
       "<div>\n",
       "<style scoped>\n",
       "    .dataframe tbody tr th:only-of-type {\n",
       "        vertical-align: middle;\n",
       "    }\n",
       "\n",
       "    .dataframe tbody tr th {\n",
       "        vertical-align: top;\n",
       "    }\n",
       "\n",
       "    .dataframe thead th {\n",
       "        text-align: right;\n",
       "    }\n",
       "</style>\n",
       "<table border=\"1\" class=\"dataframe\">\n",
       "  <thead>\n",
       "    <tr style=\"text-align: right;\">\n",
       "      <th></th>\n",
       "      <th>feature</th>\n",
       "      <th>feature_importance</th>\n",
       "      <th>feature_importance_rank</th>\n",
       "      <th>clusters</th>\n",
       "    </tr>\n",
       "  </thead>\n",
       "  <tbody>\n",
       "    <tr>\n",
       "      <th>0</th>\n",
       "      <td>seconds</td>\n",
       "      <td>7221</td>\n",
       "      <td>1</td>\n",
       "      <td>65</td>\n",
       "    </tr>\n",
       "    <tr>\n",
       "      <th>1</th>\n",
       "      <td>normalized_stock_date_target_max2_ma3_ma2_ratio</td>\n",
       "      <td>5819</td>\n",
       "      <td>2</td>\n",
       "      <td>67</td>\n",
       "    </tr>\n",
       "    <tr>\n",
       "      <th>2</th>\n",
       "      <td>normalized_stock_date_target_max_ma3_ma2_ratio</td>\n",
       "      <td>5725</td>\n",
       "      <td>3</td>\n",
       "      <td>74</td>\n",
       "    </tr>\n",
       "    <tr>\n",
       "      <th>3</th>\n",
       "      <td>normalized_stock_date_target_min_ma3_ma2_ratio</td>\n",
       "      <td>5699</td>\n",
       "      <td>4</td>\n",
       "      <td>68</td>\n",
       "    </tr>\n",
       "    <tr>\n",
       "      <th>4</th>\n",
       "      <td>normalized_stock_date_target_min2_ma3_ma2_ratio</td>\n",
       "      <td>5677</td>\n",
       "      <td>5</td>\n",
       "      <td>69</td>\n",
       "    </tr>\n",
       "    <tr>\n",
       "      <th>...</th>\n",
       "      <td>...</td>\n",
       "      <td>...</td>\n",
       "      <td>...</td>\n",
       "      <td>...</td>\n",
       "    </tr>\n",
       "    <tr>\n",
       "      <th>277</th>\n",
       "      <td>far_wa_sc_ratio</td>\n",
       "      <td>186</td>\n",
       "      <td>261</td>\n",
       "      <td>123</td>\n",
       "    </tr>\n",
       "    <tr>\n",
       "      <th>278</th>\n",
       "      <td>far_price_sc_l1_l2_ratio_diff</td>\n",
       "      <td>170</td>\n",
       "      <td>262</td>\n",
       "      <td>97</td>\n",
       "    </tr>\n",
       "    <tr>\n",
       "      <th>279</th>\n",
       "      <td>bid_ask_size_ratio</td>\n",
       "      <td>137</td>\n",
       "      <td>263</td>\n",
       "      <td>78</td>\n",
       "    </tr>\n",
       "    <tr>\n",
       "      <th>280</th>\n",
       "      <td>ref_far_sc_ratio</td>\n",
       "      <td>121</td>\n",
       "      <td>264</td>\n",
       "      <td>2</td>\n",
       "    </tr>\n",
       "    <tr>\n",
       "      <th>281</th>\n",
       "      <td>imb_flag</td>\n",
       "      <td>69</td>\n",
       "      <td>265</td>\n",
       "      <td>90</td>\n",
       "    </tr>\n",
       "  </tbody>\n",
       "</table>\n",
       "<p>282 rows × 4 columns</p>\n",
       "</div>"
      ],
      "text/plain": [
       "                                             feature  feature_importance  \\\n",
       "0                                            seconds                7221   \n",
       "1    normalized_stock_date_target_max2_ma3_ma2_ratio                5819   \n",
       "2     normalized_stock_date_target_max_ma3_ma2_ratio                5725   \n",
       "3     normalized_stock_date_target_min_ma3_ma2_ratio                5699   \n",
       "4    normalized_stock_date_target_min2_ma3_ma2_ratio                5677   \n",
       "..                                               ...                 ...   \n",
       "277                                  far_wa_sc_ratio                 186   \n",
       "278                    far_price_sc_l1_l2_ratio_diff                 170   \n",
       "279                               bid_ask_size_ratio                 137   \n",
       "280                                 ref_far_sc_ratio                 121   \n",
       "281                                         imb_flag                  69   \n",
       "\n",
       "     feature_importance_rank  clusters  \n",
       "0                          1        65  \n",
       "1                          2        67  \n",
       "2                          3        74  \n",
       "3                          4        68  \n",
       "4                          5        69  \n",
       "..                       ...       ...  \n",
       "277                      261       123  \n",
       "278                      262        97  \n",
       "279                      263        78  \n",
       "280                      264         2  \n",
       "281                      265        90  \n",
       "\n",
       "[282 rows x 4 columns]"
      ]
     },
     "execution_count": 208,
     "metadata": {},
     "output_type": "execute_result"
    }
   ],
   "source": [
    "feature_summary_df"
   ]
  },
  {
   "cell_type": "code",
   "execution_count": 209,
   "metadata": {},
   "outputs": [
    {
     "data": {
      "text/plain": [
       "clusters\n",
       "133    9\n",
       "123    9\n",
       "4      7\n",
       "121    6\n",
       "132    6\n",
       "      ..\n",
       "60     1\n",
       "25     1\n",
       "35     1\n",
       "102    1\n",
       "67     1\n",
       "Name: feature, Length: 133, dtype: int64"
      ]
     },
     "execution_count": 209,
     "metadata": {},
     "output_type": "execute_result"
    }
   ],
   "source": [
    "feature_summary_df.groupby(\"clusters\")[\"feature\"].count().sort_values(ascending=False)"
   ]
  },
  {
   "cell_type": "code",
   "execution_count": 236,
   "metadata": {},
   "outputs": [
    {
     "data": {
      "text/html": [
       "<div>\n",
       "<style scoped>\n",
       "    .dataframe tbody tr th:only-of-type {\n",
       "        vertical-align: middle;\n",
       "    }\n",
       "\n",
       "    .dataframe tbody tr th {\n",
       "        vertical-align: top;\n",
       "    }\n",
       "\n",
       "    .dataframe thead th {\n",
       "        text-align: right;\n",
       "    }\n",
       "</style>\n",
       "<table border=\"1\" class=\"dataframe\">\n",
       "  <thead>\n",
       "    <tr style=\"text-align: right;\">\n",
       "      <th></th>\n",
       "      <th>feature</th>\n",
       "      <th>feature_importance</th>\n",
       "      <th>feature_importance_rank</th>\n",
       "      <th>clusters</th>\n",
       "    </tr>\n",
       "  </thead>\n",
       "  <tbody>\n",
       "    <tr>\n",
       "      <th>106</th>\n",
       "      <td>far_bid_ask_imb_ratio</td>\n",
       "      <td>1128</td>\n",
       "      <td>106</td>\n",
       "      <td>121</td>\n",
       "    </tr>\n",
       "    <tr>\n",
       "      <th>120</th>\n",
       "      <td>ref_far_bid_imb_ratio</td>\n",
       "      <td>990</td>\n",
       "      <td>119</td>\n",
       "      <td>121</td>\n",
       "    </tr>\n",
       "    <tr>\n",
       "      <th>123</th>\n",
       "      <td>ref_far_ask_imb_ratio</td>\n",
       "      <td>979</td>\n",
       "      <td>122</td>\n",
       "      <td>121</td>\n",
       "    </tr>\n",
       "    <tr>\n",
       "      <th>171</th>\n",
       "      <td>far_ask_wa_imb_ratio</td>\n",
       "      <td>776</td>\n",
       "      <td>164</td>\n",
       "      <td>121</td>\n",
       "    </tr>\n",
       "    <tr>\n",
       "      <th>174</th>\n",
       "      <td>far_bid_wa_imb_ratio</td>\n",
       "      <td>765</td>\n",
       "      <td>167</td>\n",
       "      <td>121</td>\n",
       "    </tr>\n",
       "    <tr>\n",
       "      <th>181</th>\n",
       "      <td>ref_far_wa_imb_ratio</td>\n",
       "      <td>741</td>\n",
       "      <td>172</td>\n",
       "      <td>121</td>\n",
       "    </tr>\n",
       "  </tbody>\n",
       "</table>\n",
       "</div>"
      ],
      "text/plain": [
       "                   feature  feature_importance  feature_importance_rank  \\\n",
       "106  far_bid_ask_imb_ratio                1128                      106   \n",
       "120  ref_far_bid_imb_ratio                 990                      119   \n",
       "123  ref_far_ask_imb_ratio                 979                      122   \n",
       "171   far_ask_wa_imb_ratio                 776                      164   \n",
       "174   far_bid_wa_imb_ratio                 765                      167   \n",
       "181   ref_far_wa_imb_ratio                 741                      172   \n",
       "\n",
       "     clusters  \n",
       "106       121  \n",
       "120       121  \n",
       "123       121  \n",
       "171       121  \n",
       "174       121  \n",
       "181       121  "
      ]
     },
     "execution_count": 236,
     "metadata": {},
     "output_type": "execute_result"
    }
   ],
   "source": [
    "one_cluster_df = feature_summary_df.loc[feature_summary_df[\"clusters\"] == 121]\n",
    "one_cluster_df"
   ]
  },
  {
   "cell_type": "code",
   "execution_count": 237,
   "metadata": {},
   "outputs": [],
   "source": [
    "features_to_drop = one_cluster_df[\"feature\"].tolist()[1:]"
   ]
  },
  {
   "cell_type": "code",
   "execution_count": 245,
   "metadata": {},
   "outputs": [
    {
     "data": {
      "text/plain": [
       "['ref_far_bid_imb_ratio',\n",
       " 'ref_far_ask_imb_ratio',\n",
       " 'far_ask_wa_imb_ratio',\n",
       " 'far_bid_wa_imb_ratio',\n",
       " 'ref_far_wa_imb_ratio']"
      ]
     },
     "execution_count": 245,
     "metadata": {},
     "output_type": "execute_result"
    }
   ],
   "source": [
    "features_to_drop"
   ]
  },
  {
   "cell_type": "code",
   "execution_count": 246,
   "metadata": {},
   "outputs": [
    {
     "data": {
      "text/plain": [
       "5.68949"
      ]
     },
     "execution_count": 246,
     "metadata": {},
     "output_type": "execute_result"
    }
   ],
   "source": [
    "5.68949"
   ]
  },
  {
   "cell_type": "code",
   "execution_count": 247,
   "metadata": {},
   "outputs": [],
   "source": [
    "PRICE_MULTIPLIER = 10 # Factor to multiple the price col after taking the distance to 1\n",
    "PRICE_POWER_FACTOR = 1/2 # Factor to transform the price col to bimodal distribution, the lower the further apart of the modes"
   ]
  },
  {
   "cell_type": "code",
   "execution_count": 248,
   "metadata": {},
   "outputs": [
    {
     "name": "stdout",
     "output_type": "stream",
     "text": [
      "\u001b[32m\u001b[1m17:26:05 Preparing Dataset...\u001b[0m\n",
      "\u001b[33m\u001b[1mTrain shape (4577980, 288)\u001b[0m\n",
      "\u001b[32m\u001b[1m17:26:21 Training...\u001b[0m\n",
      "[100]\ttraining's l1: 6.32011\tvalid_0's l1: 5.70649\n",
      "[200]\ttraining's l1: 6.27321\tvalid_0's l1: 5.69449\n",
      "[300]\ttraining's l1: 6.23598\tvalid_0's l1: 5.69143\n",
      "[400]\ttraining's l1: 6.20294\tvalid_0's l1: 5.69018\n",
      "[500]\ttraining's l1: 6.17411\tvalid_0's l1: 5.68992\n",
      "[600]\ttraining's l1: 6.14798\tvalid_0's l1: 5.69008\n"
     ]
    },
    {
     "name": "stderr",
     "output_type": "stream",
     "text": [
      "100%|█████████████████████████████████████████████████████████████████████████████████████████████████████████████████████████████████████████████████████████████████████████████████| 81/81 [00:23<00:00,  3.48it/s]"
     ]
    },
    {
     "name": "stdout",
     "output_type": "stream",
     "text": [
      "\u001b[34m\u001b[1m17:36:30 5.69009\u001b[0m\n",
      "CPU times: user 1h 18min 14s, sys: 5min 4s, total: 1h 23min 18s\n",
      "Wall time: 10min 25s\n"
     ]
    },
    {
     "name": "stderr",
     "output_type": "stream",
     "text": [
      "\n"
     ]
    }
   ],
   "source": [
    "%%time\n",
    "va_score_list = []\n",
    "model_list = []\n",
    "va_pred_list = []\n",
    "va_list = []\n",
    "for i in [3]:\n",
    "    cprint(f\"{get_time_now()} Preparing Dataset...\", color=\"green\")\n",
    "    \n",
    "    tr = train.loc[train[\"date_id\"].between(0, LAST_TRAIN_DATE)]\n",
    "    # tr = train.loc[train[\"date_id\"].between(0, 480)]\n",
    "    cprint(f\"Train shape {tr.shape}\", color=\"yellow\")\n",
    "    train_data = lgb.Dataset(\n",
    "        tr.drop(columns=target_column_list + cols_to_remove + features_to_drop, errors=\"ignore\"), #.drop(columns=features_to_drop),\n",
    "        tr[\"target\"].values\n",
    "    )\n",
    "    del tr\n",
    "    gc.collect()\n",
    "    \n",
    "    va = train.loc[train[\"date_id\"].between(LAST_TRAIN_DATE + 1, 480)]\n",
    "    valid_data = lgb.Dataset(\n",
    "        va.drop(columns=target_column_list + cols_to_remove + features_to_drop, errors=\"ignore\"), #.drop(columns=features_to_drop),\n",
    "        va[\"target\"].values,\n",
    "        reference=train_data\n",
    "    )\n",
    "    \n",
    "    cprint(f\"{get_time_now()} Training...\", color=\"green\")\n",
    "    model = lgb.train(\n",
    "        params=final_lgbm_params,\n",
    "        train_set=train_data, \n",
    "        valid_sets=[valid_data, train_data], \n",
    "        # feval=lgb_amex_metric, \n",
    "        # early_stopping_rounds=200,\n",
    "        # categorical_feature=[\"stock_id\"],\n",
    "        callbacks=[\n",
    "            log_evaluation(100),\n",
    "        ]\n",
    "    )\n",
    "    del train_data, valid_data\n",
    "    gc.collect()\n",
    "    \n",
    "#     model_list.append(model)\n",
    "    va_pred = lgbm_inference_by_batch(model, va)\n",
    "#     va_pred_list.append(va_pred)\n",
    "\n",
    "    va_score = (va_pred - va[\"target\"]).abs().mean()\n",
    "    cprint(f\"{get_time_now()} {va_score:.5f}\", color=\"blue\")\n",
    "#     va_score_list.append(va_score)"
   ]
  },
  {
   "cell_type": "code",
   "execution_count": null,
   "metadata": {},
   "outputs": [],
   "source": []
  },
  {
   "cell_type": "code",
   "execution_count": null,
   "metadata": {},
   "outputs": [],
   "source": []
  },
  {
   "cell_type": "code",
   "execution_count": 106,
   "metadata": {},
   "outputs": [],
   "source": [
    "# lgbm_model2 = lgb.Booster(model_file='../models/lgbm/lgbm_model2.txt')\n",
    "# lgbm_model3 = lgb.Booster(model_file='../models/lgbm/lgbm_model3.txt')"
   ]
  },
  {
   "cell_type": "code",
   "execution_count": 87,
   "metadata": {},
   "outputs": [
    {
     "name": "stderr",
     "output_type": "stream",
     "text": [
      "100%|█████████████████████████████████████████████████████████████████████████████████████████████████████████████████████████████████████████████████████████████████████████████████| 81/81 [00:32<00:00,  2.48it/s]\n"
     ]
    }
   ],
   "source": [
    "va[\"lgbm_pred2\"] = lgbm_inference_by_batch(lgbm_model2, va)"
   ]
  },
  {
   "cell_type": "code",
   "execution_count": 93,
   "metadata": {},
   "outputs": [
    {
     "name": "stderr",
     "output_type": "stream",
     "text": [
      "100%|█████████████████████████████████████████████████████████████████████████████████████████████████████████████████████████████████████████████████████████████████████████████████| 81/81 [00:47<00:00,  1.71it/s]\n"
     ]
    }
   ],
   "source": [
    "va[\"lgbm_pred3\"] = lgbm_inference_by_batch(lgbm_model3, va)"
   ]
  },
  {
   "cell_type": "code",
   "execution_count": 85,
   "metadata": {},
   "outputs": [],
   "source": [
    "# model.save_model('../models/lgbm/lgbm_model3.txt')"
   ]
  },
  {
   "cell_type": "code",
   "execution_count": 49,
   "metadata": {},
   "outputs": [],
   "source": [
    "va[\"lgbm_pred\"] = va_pred"
   ]
  },
  {
   "cell_type": "code",
   "execution_count": 52,
   "metadata": {},
   "outputs": [
    {
     "data": {
      "text/plain": [
       "(660000, 551954)"
      ]
     },
     "execution_count": 52,
     "metadata": {},
     "output_type": "execute_result"
    }
   ],
   "source": [
    "va.shape[0], keras_va.shape[0]"
   ]
  },
  {
   "cell_type": "code",
   "execution_count": 50,
   "metadata": {},
   "outputs": [],
   "source": [
    "keras_va = pd.read_parquet(\"../keras_val.parquet\")"
   ]
  },
  {
   "cell_type": "code",
   "execution_count": 88,
   "metadata": {},
   "outputs": [
    {
     "data": {
      "text/plain": [
       "4577980   -0.415797\n",
       "4577981    2.407354\n",
       "4577982   -1.593276\n",
       "4577983    0.793018\n",
       "4577984    3.466511\n",
       "             ...   \n",
       "5237975   -2.477129\n",
       "5237976   -1.954007\n",
       "5237977    0.032771\n",
       "5237978    1.310975\n",
       "5237979   -3.378635\n",
       "Name: lgbm_pred2, Length: 660000, dtype: float64"
      ]
     },
     "execution_count": 88,
     "metadata": {},
     "output_type": "execute_result"
    }
   ],
   "source": [
    "va[\"lgbm_pred2\"]"
   ]
  },
  {
   "cell_type": "code",
   "execution_count": 94,
   "metadata": {},
   "outputs": [
    {
     "data": {
      "text/plain": [
       "5.529154709318304"
      ]
     },
     "execution_count": 94,
     "metadata": {},
     "output_type": "execute_result"
    }
   ],
   "source": [
    "(va[\"lgbm_pred3\"] - va[\"target\"]).abs().mean()"
   ]
  },
  {
   "cell_type": "code",
   "execution_count": 95,
   "metadata": {},
   "outputs": [
    {
     "data": {
      "text/plain": [
       "5.5705429153648245"
      ]
     },
     "execution_count": 95,
     "metadata": {},
     "output_type": "execute_result"
    }
   ],
   "source": [
    "(va[\"lgbm_pred2\"] - va[\"target\"]).abs().mean()"
   ]
  },
  {
   "cell_type": "code",
   "execution_count": 97,
   "metadata": {},
   "outputs": [],
   "source": [
    "# (va[\"keras_pred\"] - va[\"target\"]).abs().mean()"
   ]
  },
  {
   "cell_type": "code",
   "execution_count": 79,
   "metadata": {},
   "outputs": [],
   "source": [
    "# va[\"ensemble_pred\"] = np.where(\n",
    "#     va[\"keras_pred\"].isnull(), \n",
    "#     va[\"lgbm_pred\"],\n",
    "#     (0.2 * va[\"keras_pred\"] + 0.8 * va[\"lgbm_pred\"])\n",
    "# )"
   ]
  },
  {
   "cell_type": "code",
   "execution_count": 103,
   "metadata": {},
   "outputs": [],
   "source": [
    "va[\"ensemble_pred\"] = (0.1 * va[\"lgbm_pred2\"] + 0.9 * va[\"lgbm_pred3\"])"
   ]
  },
  {
   "cell_type": "code",
   "execution_count": 104,
   "metadata": {},
   "outputs": [
    {
     "data": {
      "text/plain": [
       "5.532514844776527"
      ]
     },
     "execution_count": 104,
     "metadata": {},
     "output_type": "execute_result"
    }
   ],
   "source": [
    "(va[\"ensemble_pred\"] - va[\"target\"]).abs().mean()"
   ]
  },
  {
   "cell_type": "code",
   "execution_count": 58,
   "metadata": {},
   "outputs": [],
   "source": [
    "va = va.merge(keras_va[[\"stock_id\", \"date_id\", \"seconds\", \"keras_pred\"]], on=[\"stock_id\", \"date_id\", \"seconds\"], how=\"left\")"
   ]
  },
  {
   "cell_type": "code",
   "execution_count": null,
   "metadata": {},
   "outputs": [],
   "source": [
    "(keras_va[\"lgbm_pred\"] - keras_va[\"target\"]).abs().mean()"
   ]
  },
  {
   "cell_type": "code",
   "execution_count": null,
   "metadata": {},
   "outputs": [],
   "source": [
    "5.69353"
   ]
  },
  {
   "cell_type": "code",
   "execution_count": 72,
   "metadata": {
    "execution": {
     "iopub.execute_input": "2023-10-13T10:25:13.520995Z",
     "iopub.status.busy": "2023-10-13T10:25:13.520558Z",
     "iopub.status.idle": "2023-10-13T10:25:13.526951Z",
     "shell.execute_reply": "2023-10-13T10:25:13.525272Z",
     "shell.execute_reply.started": "2023-10-13T10:25:13.520963Z"
    }
   },
   "outputs": [],
   "source": [
    "# for k in np.arange(20, 100, 5):\n",
    "#     cprint(f\"k: {k}\", color=\"green\", end=\"\\t\")\n",
    "#     cprint(\n",
    "#         f\"Val Score: {(pd.Series(va_pred).fillna(0).clip(-k, k) - va['target'].values).abs().mean():.5f}\", \n",
    "#         color=\"blue\"\n",
    "#     )"
   ]
  },
  {
   "cell_type": "code",
   "execution_count": 79,
   "metadata": {
    "execution": {
     "iopub.execute_input": "2023-10-13T10:26:45.480254Z",
     "iopub.status.busy": "2023-10-13T10:26:45.479887Z",
     "iopub.status.idle": "2023-10-13T10:26:45.513266Z",
     "shell.execute_reply": "2023-10-13T10:26:45.512144Z",
     "shell.execute_reply.started": "2023-10-13T10:26:45.480227Z"
    }
   },
   "outputs": [
    {
     "data": {
      "text/plain": [
       "5.693534621170634"
      ]
     },
     "execution_count": 79,
     "metadata": {},
     "output_type": "execute_result"
    }
   ],
   "source": [
    "(va_pred - va[\"target\"]).abs().mean()"
   ]
  },
  {
   "cell_type": "code",
   "execution_count": null,
   "metadata": {},
   "outputs": [],
   "source": []
  },
  {
   "cell_type": "code",
   "execution_count": null,
   "metadata": {},
   "outputs": [],
   "source": [
    "# %%time\n",
    "# X_tr = feat_eng(tr).drop(columns=target_column_list + cols_to_remove)\n",
    "# X_va = feat_eng(va).drop(columns=target_column_list + cols_to_remove)\n",
    "# y_tr = tr[FINAL_TARGET_COLUMN].values\n",
    "# y_va = va[FINAL_TARGET_COLUMN].values"
   ]
  },
  {
   "cell_type": "code",
   "execution_count": null,
   "metadata": {},
   "outputs": [],
   "source": [
    "# %%time\n",
    "# model = lgb.LGBMRegressor(\n",
    "#     learning_rate=0.018052307589575444, \n",
    "#     max_depth=9, \n",
    "#     n_estimators=700,\n",
    "#     num_leaves=442, \n",
    "#     objective='mae', \n",
    "#     random_state=42,\n",
    "#     reg_alpha=0.02216069565875271, \n",
    "#     reg_lambda=0.01223572246957101\n",
    "# )\n",
    "# model.fit(X_tr, y_tr)"
   ]
  },
  {
   "cell_type": "code",
   "execution_count": null,
   "metadata": {},
   "outputs": [],
   "source": [
    "# %%time\n",
    "# y_tr_pred = model.predict(X_tr)\n",
    "# tr_pred_df = pd.DataFrame(dict(gt=tr[\"target\"], pred=y_tr_pred, bid_size=tr[\"bid_size\"], ask_size=tr[\"ask_size\"]))\n",
    "# tr_pred_df.dropna(subset=[\"gt\"], inplace=True)"
   ]
  },
  {
   "cell_type": "code",
   "execution_count": null,
   "metadata": {},
   "outputs": [],
   "source": [
    "# y_va_pred = model.predict(X_va)\n",
    "# va_pred_df = pd.DataFrame(dict(gt=va[\"target\"], pred=y_va_pred, bid_size=va[\"bid_size\"], ask_size=va[\"ask_size\"]))\n",
    "# va_pred_df.dropna(subset=[\"gt\"], inplace=True)\n",
    "# print((zero_sum(va_pred_df[\"pred\"], va_pred_df[\"bid_size\"] + va_pred_df[\"ask_size\"]) - va_pred_df[\"gt\"]).abs().mean())"
   ]
  },
  {
   "cell_type": "code",
   "execution_count": null,
   "metadata": {},
   "outputs": [],
   "source": [
    "# y_va_pred = model.predict(X_va)\n",
    "# va_pred_df = pd.DataFrame(dict(gt=va[\"target\"], pred=y_va_pred, bid_size=va[\"bid_size\"], ask_size=va[\"ask_size\"]))\n",
    "# va_pred_df.dropna(subset=[\"gt\"], inplace=True)\n",
    "# print((zero_sum(va_pred_df[\"pred\"], va_pred_df[\"bid_size\"] + va_pred_df[\"ask_size\"]) - va_pred_df[\"gt\"]).abs().mean())"
   ]
  },
  {
   "cell_type": "code",
   "execution_count": null,
   "metadata": {},
   "outputs": [],
   "source": [
    "# sns.scatterplot(x=tr[\"target\"], y=y_tr_pred)\n",
    "# plt.show()"
   ]
  },
  {
   "cell_type": "code",
   "execution_count": null,
   "metadata": {},
   "outputs": [],
   "source": [
    "# (zero_sum(tr_pred_df[\"pred\"], tr_pred_df[\"bid_size\"] + tr_pred_df[\"ask_size\"]) - tr_pred_df[\"gt\"]).abs().mean()"
   ]
  },
  {
   "cell_type": "code",
   "execution_count": null,
   "metadata": {},
   "outputs": [],
   "source": [
    "# (zero_sum(va_pred_df[\"pred\"], va_pred_df[\"bid_size\"] + va_pred_df[\"ask_size\"]) - va_pred_df[\"gt\"]).abs().mean()"
   ]
  },
  {
   "cell_type": "code",
   "execution_count": null,
   "metadata": {},
   "outputs": [],
   "source": [
    "# column = \"log_imbalance_temp\"\n",
    "# target_column = \"hollow_target\"\n",
    "# sns.scatterplot(x=va[column], y=va[target_column])\n",
    "# plt.show()\n",
    "# va[[column, target_column]].corr()"
   ]
  },
  {
   "cell_type": "code",
   "execution_count": null,
   "metadata": {},
   "outputs": [],
   "source": [
    "# va[\"imbalance_temp\"] = (va[\"imbalance_size\"] - va[\"imbalance_mean\"]) / va[\"imbalance_std\"] * va[\"imbalance_buy_sell_flag\"]"
   ]
  },
  {
   "cell_type": "code",
   "execution_count": null,
   "metadata": {},
   "outputs": [],
   "source": [
    "# train[\"log_imbalance_size\"] = np.log1p(train[\"imbalance_size\"])\n",
    "# va[\"log_imbalance_size\"] = np.log1p(va[\"imbalance_size\"])"
   ]
  },
  {
   "cell_type": "code",
   "execution_count": null,
   "metadata": {},
   "outputs": [],
   "source": [
    "# imbalance_central_tendency = train.groupby(\"stock_id\")[\"log_imbalance_size\"].agg([\"median\", \"mean\", \"std\"]).add_prefix(\"log_imbalance_\")\n",
    "# va.drop(columns=imbalance_central_tendency.columns, errors=\"ignore\", inplace=True)\n",
    "# va = va.merge(imbalance_central_tendency, left_on=[\"stock_id\"], right_index=True, how=\"left\")"
   ]
  },
  {
   "cell_type": "code",
   "execution_count": null,
   "metadata": {},
   "outputs": [],
   "source": [
    "# va[\"log_imbalance_temp\"] = va[\"log_imbalance_size\"] / va[\"log_imbalance_std\"]"
   ]
  },
  {
   "cell_type": "code",
   "execution_count": null,
   "metadata": {},
   "outputs": [],
   "source": [
    "# plot_feature_importance(model.feature_name_, model.feature_importances_)"
   ]
  },
  {
   "cell_type": "markdown",
   "metadata": {},
   "source": [
    "# Prepare Submission"
   ]
  },
  {
   "cell_type": "code",
   "execution_count": 47,
   "metadata": {
    "execution": {
     "iopub.execute_input": "2023-10-13T14:51:50.672281Z",
     "iopub.status.busy": "2023-10-13T14:51:50.671858Z",
     "iopub.status.idle": "2023-10-13T14:51:50.694801Z",
     "shell.execute_reply": "2023-10-13T14:51:50.693845Z",
     "shell.execute_reply.started": "2023-10-13T14:51:50.672240Z"
    }
   },
   "outputs": [],
   "source": [
    "import optiver2023"
   ]
  },
  {
   "cell_type": "code",
   "execution_count": 48,
   "metadata": {
    "execution": {
     "iopub.execute_input": "2023-10-13T14:51:51.026722Z",
     "iopub.status.busy": "2023-10-13T14:51:51.026100Z",
     "iopub.status.idle": "2023-10-13T14:51:51.032828Z",
     "shell.execute_reply": "2023-10-13T14:51:51.031722Z",
     "shell.execute_reply.started": "2023-10-13T14:51:51.026682Z"
    }
   },
   "outputs": [],
   "source": [
    "SUBMIT = False"
   ]
  },
  {
   "cell_type": "code",
   "execution_count": 49,
   "metadata": {
    "execution": {
     "iopub.execute_input": "2023-10-13T14:51:51.549716Z",
     "iopub.status.busy": "2023-10-13T14:51:51.549289Z",
     "iopub.status.idle": "2023-10-13T14:51:51.970688Z",
     "shell.execute_reply": "2023-10-13T14:51:51.969563Z",
     "shell.execute_reply.started": "2023-10-13T14:51:51.549686Z"
    }
   },
   "outputs": [],
   "source": [
    "if SUBMIT:\n",
    "    env = optiver2023.make_env()\n",
    "    iter_test = env.iter_test()\n",
    "else:\n",
    "    iter_test = joblib.load(\"/kaggle/input/optiver-test-data/iter_test_copy.pkl\")"
   ]
  },
  {
   "cell_type": "code",
   "execution_count": 50,
   "metadata": {
    "execution": {
     "iopub.execute_input": "2023-10-13T14:51:53.375165Z",
     "iopub.status.busy": "2023-10-13T14:51:53.374751Z",
     "iopub.status.idle": "2023-10-13T14:51:53.380427Z",
     "shell.execute_reply": "2023-10-13T14:51:53.379604Z",
     "shell.execute_reply.started": "2023-10-13T14:51:53.375131Z"
    }
   },
   "outputs": [],
   "source": [
    "# Inference on whole dataset, by batch\n",
    "def lgbm_inference_by_batch(model, data, batch_size=8192):\n",
    "    score_list = []\n",
    "    for i in tqdm(range(int(data.shape[0] / batch_size) + 1)):\n",
    "        try:\n",
    "            score_list.extend(model.predict(\n",
    "                data[model.feature_name()].iloc[int(i * batch_size): int((i+1) * batch_size)], \n",
    "            ))\n",
    "        except:\n",
    "            print(\"Too Many Batch\")\n",
    "    return score_list"
   ]
  },
  {
   "cell_type": "code",
   "execution_count": 51,
   "metadata": {
    "execution": {
     "iopub.execute_input": "2023-10-13T14:51:55.058256Z",
     "iopub.status.busy": "2023-10-13T14:51:55.057886Z",
     "iopub.status.idle": "2023-10-13T14:51:55.249488Z",
     "shell.execute_reply": "2023-10-13T14:51:55.248539Z",
     "shell.execute_reply.started": "2023-10-13T14:51:55.058229Z"
    }
   },
   "outputs": [],
   "source": [
    "lgbm_model = lgb.Booster(model_file='/kaggle/input/optiver-lgbm-models/lgbm_model2.txt')"
   ]
  },
  {
   "cell_type": "code",
   "execution_count": 54,
   "metadata": {
    "execution": {
     "iopub.execute_input": "2023-10-13T14:52:42.721905Z",
     "iopub.status.busy": "2023-10-13T14:52:42.720903Z",
     "iopub.status.idle": "2023-10-13T14:52:42.746313Z",
     "shell.execute_reply": "2023-10-13T14:52:42.745603Z",
     "shell.execute_reply.started": "2023-10-13T14:52:42.721868Z"
    }
   },
   "outputs": [
    {
     "data": {
      "text/html": [
       "<div>\n",
       "<style scoped>\n",
       "    .dataframe tbody tr th:only-of-type {\n",
       "        vertical-align: middle;\n",
       "    }\n",
       "\n",
       "    .dataframe tbody tr th {\n",
       "        vertical-align: top;\n",
       "    }\n",
       "\n",
       "    .dataframe thead th {\n",
       "        text-align: right;\n",
       "    }\n",
       "</style>\n",
       "<table border=\"1\" class=\"dataframe\">\n",
       "  <thead>\n",
       "    <tr style=\"text-align: right;\">\n",
       "      <th></th>\n",
       "      <th>stock_id</th>\n",
       "      <th>date_id</th>\n",
       "      <th>seconds_in_bucket</th>\n",
       "      <th>imbalance_size</th>\n",
       "      <th>imbalance_buy_sell_flag</th>\n",
       "      <th>reference_price</th>\n",
       "      <th>matched_size</th>\n",
       "      <th>far_price</th>\n",
       "      <th>near_price</th>\n",
       "      <th>bid_price</th>\n",
       "      <th>bid_size</th>\n",
       "      <th>ask_price</th>\n",
       "      <th>ask_size</th>\n",
       "      <th>wap</th>\n",
       "      <th>row_id</th>\n",
       "      <th>order</th>\n",
       "    </tr>\n",
       "  </thead>\n",
       "  <tbody>\n",
       "    <tr>\n",
       "      <th>0</th>\n",
       "      <td>0</td>\n",
       "      <td>478</td>\n",
       "      <td>0</td>\n",
       "      <td>3753451.43</td>\n",
       "      <td>-1</td>\n",
       "      <td>0.999875</td>\n",
       "      <td>11548975.43</td>\n",
       "      <td>NaN</td>\n",
       "      <td>NaN</td>\n",
       "      <td>0.999875</td>\n",
       "      <td>22940.00</td>\n",
       "      <td>1.000050</td>\n",
       "      <td>9177.60</td>\n",
       "      <td>1.0</td>\n",
       "      <td>478_0_0</td>\n",
       "      <td>0</td>\n",
       "    </tr>\n",
       "    <tr>\n",
       "      <th>1</th>\n",
       "      <td>1</td>\n",
       "      <td>478</td>\n",
       "      <td>0</td>\n",
       "      <td>985977.11</td>\n",
       "      <td>-1</td>\n",
       "      <td>1.000245</td>\n",
       "      <td>3850033.97</td>\n",
       "      <td>NaN</td>\n",
       "      <td>NaN</td>\n",
       "      <td>0.999940</td>\n",
       "      <td>1967.90</td>\n",
       "      <td>1.000601</td>\n",
       "      <td>19692.00</td>\n",
       "      <td>1.0</td>\n",
       "      <td>478_0_1</td>\n",
       "      <td>1</td>\n",
       "    </tr>\n",
       "    <tr>\n",
       "      <th>2</th>\n",
       "      <td>2</td>\n",
       "      <td>478</td>\n",
       "      <td>0</td>\n",
       "      <td>599128.74</td>\n",
       "      <td>1</td>\n",
       "      <td>1.000584</td>\n",
       "      <td>4359198.25</td>\n",
       "      <td>NaN</td>\n",
       "      <td>NaN</td>\n",
       "      <td>0.999918</td>\n",
       "      <td>4488.22</td>\n",
       "      <td>1.000636</td>\n",
       "      <td>34955.12</td>\n",
       "      <td>1.0</td>\n",
       "      <td>478_0_2</td>\n",
       "      <td>2</td>\n",
       "    </tr>\n",
       "    <tr>\n",
       "      <th>3</th>\n",
       "      <td>3</td>\n",
       "      <td>478</td>\n",
       "      <td>0</td>\n",
       "      <td>2872317.54</td>\n",
       "      <td>-1</td>\n",
       "      <td>0.999802</td>\n",
       "      <td>27129551.64</td>\n",
       "      <td>NaN</td>\n",
       "      <td>NaN</td>\n",
       "      <td>0.999705</td>\n",
       "      <td>16082.04</td>\n",
       "      <td>1.000189</td>\n",
       "      <td>10314.00</td>\n",
       "      <td>1.0</td>\n",
       "      <td>478_0_3</td>\n",
       "      <td>3</td>\n",
       "    </tr>\n",
       "    <tr>\n",
       "      <th>4</th>\n",
       "      <td>4</td>\n",
       "      <td>478</td>\n",
       "      <td>0</td>\n",
       "      <td>740059.14</td>\n",
       "      <td>-1</td>\n",
       "      <td>0.999886</td>\n",
       "      <td>8880890.78</td>\n",
       "      <td>NaN</td>\n",
       "      <td>NaN</td>\n",
       "      <td>0.999720</td>\n",
       "      <td>19012.35</td>\n",
       "      <td>1.000107</td>\n",
       "      <td>7245.60</td>\n",
       "      <td>1.0</td>\n",
       "      <td>478_0_4</td>\n",
       "      <td>4</td>\n",
       "    </tr>\n",
       "    <tr>\n",
       "      <th>...</th>\n",
       "      <td>...</td>\n",
       "      <td>...</td>\n",
       "      <td>...</td>\n",
       "      <td>...</td>\n",
       "      <td>...</td>\n",
       "      <td>...</td>\n",
       "      <td>...</td>\n",
       "      <td>...</td>\n",
       "      <td>...</td>\n",
       "      <td>...</td>\n",
       "      <td>...</td>\n",
       "      <td>...</td>\n",
       "      <td>...</td>\n",
       "      <td>...</td>\n",
       "      <td>...</td>\n",
       "      <td>...</td>\n",
       "    </tr>\n",
       "    <tr>\n",
       "      <th>195</th>\n",
       "      <td>195</td>\n",
       "      <td>478</td>\n",
       "      <td>0</td>\n",
       "      <td>11075474.70</td>\n",
       "      <td>1</td>\n",
       "      <td>0.999672</td>\n",
       "      <td>11165016.52</td>\n",
       "      <td>NaN</td>\n",
       "      <td>NaN</td>\n",
       "      <td>0.999792</td>\n",
       "      <td>24960.00</td>\n",
       "      <td>1.000153</td>\n",
       "      <td>18310.60</td>\n",
       "      <td>1.0</td>\n",
       "      <td>478_0_195</td>\n",
       "      <td>195</td>\n",
       "    </tr>\n",
       "    <tr>\n",
       "      <th>196</th>\n",
       "      <td>196</td>\n",
       "      <td>478</td>\n",
       "      <td>0</td>\n",
       "      <td>1303523.55</td>\n",
       "      <td>1</td>\n",
       "      <td>0.999953</td>\n",
       "      <td>2280988.82</td>\n",
       "      <td>NaN</td>\n",
       "      <td>NaN</td>\n",
       "      <td>0.999953</td>\n",
       "      <td>4533.30</td>\n",
       "      <td>1.000206</td>\n",
       "      <td>19715.00</td>\n",
       "      <td>1.0</td>\n",
       "      <td>478_0_196</td>\n",
       "      <td>196</td>\n",
       "    </tr>\n",
       "    <tr>\n",
       "      <th>197</th>\n",
       "      <td>197</td>\n",
       "      <td>478</td>\n",
       "      <td>0</td>\n",
       "      <td>3920578.20</td>\n",
       "      <td>-1</td>\n",
       "      <td>1.000605</td>\n",
       "      <td>2969820.70</td>\n",
       "      <td>NaN</td>\n",
       "      <td>NaN</td>\n",
       "      <td>0.999650</td>\n",
       "      <td>5760.15</td>\n",
       "      <td>1.000318</td>\n",
       "      <td>5240.00</td>\n",
       "      <td>1.0</td>\n",
       "      <td>478_0_197</td>\n",
       "      <td>197</td>\n",
       "    </tr>\n",
       "    <tr>\n",
       "      <th>198</th>\n",
       "      <td>198</td>\n",
       "      <td>478</td>\n",
       "      <td>0</td>\n",
       "      <td>5074285.84</td>\n",
       "      <td>-1</td>\n",
       "      <td>1.000136</td>\n",
       "      <td>34865444.24</td>\n",
       "      <td>NaN</td>\n",
       "      <td>NaN</td>\n",
       "      <td>0.999894</td>\n",
       "      <td>74171.94</td>\n",
       "      <td>1.000136</td>\n",
       "      <td>95381.00</td>\n",
       "      <td>1.0</td>\n",
       "      <td>478_0_198</td>\n",
       "      <td>198</td>\n",
       "    </tr>\n",
       "    <tr>\n",
       "      <th>199</th>\n",
       "      <td>199</td>\n",
       "      <td>478</td>\n",
       "      <td>0</td>\n",
       "      <td>1560808.25</td>\n",
       "      <td>1</td>\n",
       "      <td>0.999441</td>\n",
       "      <td>5375971.35</td>\n",
       "      <td>NaN</td>\n",
       "      <td>NaN</td>\n",
       "      <td>0.999761</td>\n",
       "      <td>28143.00</td>\n",
       "      <td>1.000081</td>\n",
       "      <td>9540.40</td>\n",
       "      <td>1.0</td>\n",
       "      <td>478_0_199</td>\n",
       "      <td>199</td>\n",
       "    </tr>\n",
       "  </tbody>\n",
       "</table>\n",
       "<p>200 rows × 16 columns</p>\n",
       "</div>"
      ],
      "text/plain": [
       "     stock_id  date_id  seconds_in_bucket  imbalance_size  \\\n",
       "0           0      478                  0      3753451.43   \n",
       "1           1      478                  0       985977.11   \n",
       "2           2      478                  0       599128.74   \n",
       "3           3      478                  0      2872317.54   \n",
       "4           4      478                  0       740059.14   \n",
       "..        ...      ...                ...             ...   \n",
       "195       195      478                  0     11075474.70   \n",
       "196       196      478                  0      1303523.55   \n",
       "197       197      478                  0      3920578.20   \n",
       "198       198      478                  0      5074285.84   \n",
       "199       199      478                  0      1560808.25   \n",
       "\n",
       "     imbalance_buy_sell_flag  reference_price  matched_size  far_price  \\\n",
       "0                         -1         0.999875   11548975.43        NaN   \n",
       "1                         -1         1.000245    3850033.97        NaN   \n",
       "2                          1         1.000584    4359198.25        NaN   \n",
       "3                         -1         0.999802   27129551.64        NaN   \n",
       "4                         -1         0.999886    8880890.78        NaN   \n",
       "..                       ...              ...           ...        ...   \n",
       "195                        1         0.999672   11165016.52        NaN   \n",
       "196                        1         0.999953    2280988.82        NaN   \n",
       "197                       -1         1.000605    2969820.70        NaN   \n",
       "198                       -1         1.000136   34865444.24        NaN   \n",
       "199                        1         0.999441    5375971.35        NaN   \n",
       "\n",
       "     near_price  bid_price  bid_size  ask_price  ask_size  wap     row_id  \\\n",
       "0           NaN   0.999875  22940.00   1.000050   9177.60  1.0    478_0_0   \n",
       "1           NaN   0.999940   1967.90   1.000601  19692.00  1.0    478_0_1   \n",
       "2           NaN   0.999918   4488.22   1.000636  34955.12  1.0    478_0_2   \n",
       "3           NaN   0.999705  16082.04   1.000189  10314.00  1.0    478_0_3   \n",
       "4           NaN   0.999720  19012.35   1.000107   7245.60  1.0    478_0_4   \n",
       "..          ...        ...       ...        ...       ...  ...        ...   \n",
       "195         NaN   0.999792  24960.00   1.000153  18310.60  1.0  478_0_195   \n",
       "196         NaN   0.999953   4533.30   1.000206  19715.00  1.0  478_0_196   \n",
       "197         NaN   0.999650   5760.15   1.000318   5240.00  1.0  478_0_197   \n",
       "198         NaN   0.999894  74171.94   1.000136  95381.00  1.0  478_0_198   \n",
       "199         NaN   0.999761  28143.00   1.000081   9540.40  1.0  478_0_199   \n",
       "\n",
       "     order  \n",
       "0        0  \n",
       "1        1  \n",
       "2        2  \n",
       "3        3  \n",
       "4        4  \n",
       "..     ...  \n",
       "195    195  \n",
       "196    196  \n",
       "197    197  \n",
       "198    198  \n",
       "199    199  \n",
       "\n",
       "[200 rows x 16 columns]"
      ]
     },
     "execution_count": 54,
     "metadata": {},
     "output_type": "execute_result"
    }
   ],
   "source": [
    "test"
   ]
  },
  {
   "cell_type": "code",
   "execution_count": 59,
   "metadata": {
    "execution": {
     "iopub.execute_input": "2023-10-13T14:53:52.132932Z",
     "iopub.status.busy": "2023-10-13T14:53:52.132521Z",
     "iopub.status.idle": "2023-10-13T14:53:52.680971Z",
     "shell.execute_reply": "2023-10-13T14:53:52.679921Z",
     "shell.execute_reply.started": "2023-10-13T14:53:52.132905Z"
    }
   },
   "outputs": [
    {
     "data": {
      "text/html": [
       "<div>\n",
       "<style scoped>\n",
       "    .dataframe tbody tr th:only-of-type {\n",
       "        vertical-align: middle;\n",
       "    }\n",
       "\n",
       "    .dataframe tbody tr th {\n",
       "        vertical-align: top;\n",
       "    }\n",
       "\n",
       "    .dataframe thead th {\n",
       "        text-align: right;\n",
       "    }\n",
       "</style>\n",
       "<table border=\"1\" class=\"dataframe\">\n",
       "  <thead>\n",
       "    <tr style=\"text-align: right;\">\n",
       "      <th></th>\n",
       "      <th></th>\n",
       "      <th>count</th>\n",
       "      <th>mean</th>\n",
       "      <th>std</th>\n",
       "      <th>min</th>\n",
       "      <th>25%</th>\n",
       "      <th>50%</th>\n",
       "      <th>75%</th>\n",
       "      <th>max</th>\n",
       "    </tr>\n",
       "    <tr>\n",
       "      <th>stock_id</th>\n",
       "      <th>revealed_date_id</th>\n",
       "      <th></th>\n",
       "      <th></th>\n",
       "      <th></th>\n",
       "      <th></th>\n",
       "      <th></th>\n",
       "      <th></th>\n",
       "      <th></th>\n",
       "      <th></th>\n",
       "    </tr>\n",
       "  </thead>\n",
       "  <tbody>\n",
       "    <tr>\n",
       "      <th>0</th>\n",
       "      <th>477</th>\n",
       "      <td>55.0</td>\n",
       "      <td>-1.736532</td>\n",
       "      <td>3.995226</td>\n",
       "      <td>-12.480021</td>\n",
       "      <td>-4.009902</td>\n",
       "      <td>-1.620054</td>\n",
       "      <td>1.245141</td>\n",
       "      <td>6.610155</td>\n",
       "    </tr>\n",
       "    <tr>\n",
       "      <th>1</th>\n",
       "      <th>477</th>\n",
       "      <td>55.0</td>\n",
       "      <td>-2.834667</td>\n",
       "      <td>6.917208</td>\n",
       "      <td>-20.099878</td>\n",
       "      <td>-5.914867</td>\n",
       "      <td>-0.249743</td>\n",
       "      <td>1.254678</td>\n",
       "      <td>7.640123</td>\n",
       "    </tr>\n",
       "    <tr>\n",
       "      <th>2</th>\n",
       "      <th>477</th>\n",
       "      <td>55.0</td>\n",
       "      <td>0.025966</td>\n",
       "      <td>9.563973</td>\n",
       "      <td>-14.389753</td>\n",
       "      <td>-5.804896</td>\n",
       "      <td>-1.839995</td>\n",
       "      <td>4.374981</td>\n",
       "      <td>27.610064</td>\n",
       "    </tr>\n",
       "    <tr>\n",
       "      <th>3</th>\n",
       "      <th>477</th>\n",
       "      <td>55.0</td>\n",
       "      <td>-0.940529</td>\n",
       "      <td>4.132701</td>\n",
       "      <td>-9.959936</td>\n",
       "      <td>-3.530085</td>\n",
       "      <td>-0.370145</td>\n",
       "      <td>0.964999</td>\n",
       "      <td>8.620024</td>\n",
       "    </tr>\n",
       "    <tr>\n",
       "      <th>4</th>\n",
       "      <th>477</th>\n",
       "      <td>55.0</td>\n",
       "      <td>0.487458</td>\n",
       "      <td>4.455853</td>\n",
       "      <td>-6.809831</td>\n",
       "      <td>-2.194941</td>\n",
       "      <td>-0.140071</td>\n",
       "      <td>2.444983</td>\n",
       "      <td>13.780594</td>\n",
       "    </tr>\n",
       "    <tr>\n",
       "      <th>...</th>\n",
       "      <th>...</th>\n",
       "      <td>...</td>\n",
       "      <td>...</td>\n",
       "      <td>...</td>\n",
       "      <td>...</td>\n",
       "      <td>...</td>\n",
       "      <td>...</td>\n",
       "      <td>...</td>\n",
       "      <td>...</td>\n",
       "    </tr>\n",
       "    <tr>\n",
       "      <th>195</th>\n",
       "      <th>477</th>\n",
       "      <td>55.0</td>\n",
       "      <td>1.95151</td>\n",
       "      <td>5.62217</td>\n",
       "      <td>-12.050271</td>\n",
       "      <td>-1.710057</td>\n",
       "      <td>2.510548</td>\n",
       "      <td>5.620122</td>\n",
       "      <td>15.920401</td>\n",
       "    </tr>\n",
       "    <tr>\n",
       "      <th>196</th>\n",
       "      <th>477</th>\n",
       "      <td>55.0</td>\n",
       "      <td>-2.73982</td>\n",
       "      <td>4.895452</td>\n",
       "      <td>-14.110208</td>\n",
       "      <td>-6.840229</td>\n",
       "      <td>-1.490116</td>\n",
       "      <td>0.734925</td>\n",
       "      <td>5.270243</td>\n",
       "    </tr>\n",
       "    <tr>\n",
       "      <th>197</th>\n",
       "      <th>477</th>\n",
       "      <td>55.0</td>\n",
       "      <td>-2.646381</td>\n",
       "      <td>6.36294</td>\n",
       "      <td>-16.149879</td>\n",
       "      <td>-7.130206</td>\n",
       "      <td>-1.320243</td>\n",
       "      <td>1.564622</td>\n",
       "      <td>11.310577</td>\n",
       "    </tr>\n",
       "    <tr>\n",
       "      <th>198</th>\n",
       "      <th>477</th>\n",
       "      <td>55.0</td>\n",
       "      <td>-0.420906</td>\n",
       "      <td>4.024972</td>\n",
       "      <td>-10.020137</td>\n",
       "      <td>-2.315044</td>\n",
       "      <td>0.150204</td>\n",
       "      <td>2.070069</td>\n",
       "      <td>9.499788</td>\n",
       "    </tr>\n",
       "    <tr>\n",
       "      <th>199</th>\n",
       "      <th>477</th>\n",
       "      <td>55.0</td>\n",
       "      <td>-4.226024</td>\n",
       "      <td>4.536808</td>\n",
       "      <td>-15.050173</td>\n",
       "      <td>-6.9502</td>\n",
       "      <td>-4.870296</td>\n",
       "      <td>0.144839</td>\n",
       "      <td>3.709793</td>\n",
       "    </tr>\n",
       "  </tbody>\n",
       "</table>\n",
       "<p>200 rows × 8 columns</p>\n",
       "</div>"
      ],
      "text/plain": [
       "                           count      mean       std        min       25%  \\\n",
       "stock_id revealed_date_id                                                   \n",
       "0        477                55.0 -1.736532  3.995226 -12.480021 -4.009902   \n",
       "1        477                55.0 -2.834667  6.917208 -20.099878 -5.914867   \n",
       "2        477                55.0  0.025966  9.563973 -14.389753 -5.804896   \n",
       "3        477                55.0 -0.940529  4.132701  -9.959936 -3.530085   \n",
       "4        477                55.0  0.487458  4.455853  -6.809831 -2.194941   \n",
       "...                          ...       ...       ...        ...       ...   \n",
       "195      477                55.0   1.95151   5.62217 -12.050271 -1.710057   \n",
       "196      477                55.0  -2.73982  4.895452 -14.110208 -6.840229   \n",
       "197      477                55.0 -2.646381   6.36294 -16.149879 -7.130206   \n",
       "198      477                55.0 -0.420906  4.024972 -10.020137 -2.315044   \n",
       "199      477                55.0 -4.226024  4.536808 -15.050173   -6.9502   \n",
       "\n",
       "                                50%       75%        max  \n",
       "stock_id revealed_date_id                                 \n",
       "0        477              -1.620054  1.245141   6.610155  \n",
       "1        477              -0.249743  1.254678   7.640123  \n",
       "2        477              -1.839995  4.374981  27.610064  \n",
       "3        477              -0.370145  0.964999   8.620024  \n",
       "4        477              -0.140071  2.444983  13.780594  \n",
       "...                             ...       ...        ...  \n",
       "195      477               2.510548  5.620122  15.920401  \n",
       "196      477              -1.490116  0.734925   5.270243  \n",
       "197      477              -1.320243  1.564622  11.310577  \n",
       "198      477               0.150204  2.070069   9.499788  \n",
       "199      477              -4.870296  0.144839   3.709793  \n",
       "\n",
       "[200 rows x 8 columns]"
      ]
     },
     "execution_count": 59,
     "metadata": {},
     "output_type": "execute_result"
    }
   ],
   "source": [
    "revealed_targets.groupby([\"stock_id\", \"revealed_date_id\"])[\"revealed_target\"].describe()"
   ]
  },
  {
   "cell_type": "code",
   "execution_count": 52,
   "metadata": {
    "execution": {
     "iopub.execute_input": "2023-10-13T14:52:20.634766Z",
     "iopub.status.busy": "2023-10-13T14:52:20.634384Z",
     "iopub.status.idle": "2023-10-13T14:52:20.970017Z",
     "shell.execute_reply": "2023-10-13T14:52:20.967726Z",
     "shell.execute_reply.started": "2023-10-13T14:52:20.634739Z"
    }
   },
   "outputs": [
    {
     "name": "stderr",
     "output_type": "stream",
     "text": [
      "100%|██████████| 1/1 [00:00<00:00, 19.31it/s]"
     ]
    },
    {
     "name": "stdout",
     "output_type": "stream",
     "text": [
      "CPU times: user 363 ms, sys: 2.57 ms, total: 365 ms\n",
      "Wall time: 324 ms\n"
     ]
    },
    {
     "name": "stderr",
     "output_type": "stream",
     "text": [
      "\n"
     ]
    }
   ],
   "source": [
    "%%time\n",
    "N = 3\n",
    "temp_list = []\n",
    "test_list = []\n",
    "targets_list = []\n",
    "sample_pred_list = []\n",
    "for (test, revealed_targets, sample_prediction) in iter_test:\n",
    "    test[\"order\"] = range(test.shape[0])\n",
    "    \n",
    "    # Reset list if next day (seconds == 0) is seen\n",
    "    second = test[\"seconds_in_bucket\"].values[0]\n",
    "    if second == 0:\n",
    "        temp_list = []\n",
    "    elif len(temp_list) == N:\n",
    "        # If the list equals max_elem dataframes, remove the first dataframe then only append\n",
    "        temp_list.pop(0)\n",
    "        \n",
    "    temp_list.append(test)\n",
    "    \n",
    "    # Concatenate the dataframes so that we can calculate lag features\n",
    "    a = pd.concat(temp_list, ignore_index=True)\n",
    "    \n",
    "    # Clean & Preprocess, then apply feature engineering\n",
    "    a = clean_df(a)\n",
    "    a = clip_df(a, price_clippers=price_clippers, volume_clippers=volume_clippers)\n",
    "    a, _ = feature_engineering(a, around_one_price_cols=around_one_price_cols, verbose=False)\n",
    "    \n",
    "    # Retrieve only the last 10-seconds row, since they are the 主角 for this batch\n",
    "    a = a.loc[a[\"seconds\"] == second].sort_values(by=\"order\").drop(columns=\"order\").reset_index(drop=True)\n",
    "\n",
    "    # Prediction using our model(s)\n",
    "    sample_prediction['target'] = lgbm_inference_by_batch(lgbm_model, data=a)\n",
    "    sample_prediction['target'] = sample_prediction['target'].fillna(0).clip(-50, 50)\n",
    "    \n",
    "#     # Adjust our prediction using this function, actually I don't know what is its function\n",
    "#     sample_prediction['target'] = zero_sum(\n",
    "#         sample_prediction['target'], \n",
    "#         a['bid_size'] + a['ask_size']\n",
    "#     ).values\n",
    "    sample_pred_list.append(sample_prediction)\n",
    "    \n",
    "    if SUBMIT:\n",
    "        # Need to call this env.predict to update / submit our prediction\n",
    "        env.predict(sample_prediction)\n",
    "        \n",
    "    break"
   ]
  },
  {
   "cell_type": "code",
   "execution_count": null,
   "metadata": {
    "execution": {
     "iopub.execute_input": "2023-10-12T17:55:53.465408Z",
     "iopub.status.busy": "2023-10-12T17:55:53.464983Z",
     "iopub.status.idle": "2023-10-12T17:55:53.472163Z",
     "shell.execute_reply": "2023-10-12T17:55:53.471349Z",
     "shell.execute_reply.started": "2023-10-12T17:55:53.465377Z"
    }
   },
   "outputs": [],
   "source": [
    "if len(sample_pred_list) == 165:\n",
    "    raw_train = pd.read_csv(f'{DATA_DIR}/optiver-trading-at-the-close/train.csv')\n",
    "    result = pd.concat(sample_pred_list)\n",
    "    result = result.merge(raw_train[[\"row_id\", \"target\", \"bid_size\"]], on=\"row_id\", how=\"left\")\n",
    "    print((result[\"target_x\"] - result[\"target_y\"]).abs().mean())"
   ]
  },
  {
   "cell_type": "markdown",
   "metadata": {},
   "source": [
    "## Get Feature Summary & Plot Feature Cluster"
   ]
  },
  {
   "cell_type": "code",
   "execution_count": 38,
   "metadata": {},
   "outputs": [],
   "source": [
    "# def plot_clustering_dendogram(linkage_matrix, distance_df):\n",
    "#     fig, ax = plt.subplots(figsize=(19, 25))\n",
    "#     dendrogram = sch.dendrogram(linkage_matrix, labels=distance_df.index, orientation='right')\n",
    "#     plt.xlabel('Correlation Distance')\n",
    "#     plt.title('Hierarchical Clustering Dendrogram')\n",
    "#     plt.show()"
   ]
  },
  {
   "cell_type": "code",
   "execution_count": 39,
   "metadata": {},
   "outputs": [],
   "source": [
    "# %%time\n",
    "# feature_summary, feature_corr_df, feature_linkage_matrix = get_feature_summary(lgbm_model, train.sample(523798), clustering_threshold=1.5)\n",
    "# plot_clustering_dendogram(feature_linkage_matrix, feature_corr_df)"
   ]
  },
  {
   "cell_type": "code",
   "execution_count": null,
   "metadata": {},
   "outputs": [],
   "source": []
  },
  {
   "cell_type": "markdown",
   "metadata": {},
   "source": [
    "# Previous Temporal Features Calculation"
   ]
  },
  {
   "cell_type": "code",
   "execution_count": 34,
   "metadata": {},
   "outputs": [
    {
     "name": "stdout",
     "output_type": "stream",
     "text": [
      "CPU times: user 284 ms, sys: 39.7 ms, total: 323 ms\n",
      "Wall time: 322 ms\n"
     ]
    },
    {
     "data": {
      "text/html": [
       "<div>\n",
       "<style scoped>\n",
       "    .dataframe tbody tr th:only-of-type {\n",
       "        vertical-align: middle;\n",
       "    }\n",
       "\n",
       "    .dataframe tbody tr th {\n",
       "        vertical-align: top;\n",
       "    }\n",
       "\n",
       "    .dataframe thead th {\n",
       "        text-align: right;\n",
       "    }\n",
       "</style>\n",
       "<table border=\"1\" class=\"dataframe\">\n",
       "  <thead>\n",
       "    <tr style=\"text-align: right;\">\n",
       "      <th></th>\n",
       "      <th>date_id</th>\n",
       "      <th>prev_date_global_target_mean</th>\n",
       "      <th>prev_date_global_target_median</th>\n",
       "      <th>prev_date_global_target_min</th>\n",
       "      <th>prev_date_global_target_max</th>\n",
       "      <th>prev_date_global_target_std</th>\n",
       "    </tr>\n",
       "  </thead>\n",
       "  <tbody>\n",
       "    <tr>\n",
       "      <th>0</th>\n",
       "      <td>0</td>\n",
       "      <td>None</td>\n",
       "      <td>None</td>\n",
       "      <td>None</td>\n",
       "      <td>None</td>\n",
       "      <td>None</td>\n",
       "    </tr>\n",
       "    <tr>\n",
       "      <th>1</th>\n",
       "      <td>1</td>\n",
       "      <td>[-0.5574731230735779]</td>\n",
       "      <td>[-0.5298852920532227]</td>\n",
       "      <td>[-60.200096130371094]</td>\n",
       "      <td>[85.19053649902344]</td>\n",
       "      <td>[8.168275833129883]</td>\n",
       "    </tr>\n",
       "    <tr>\n",
       "      <th>2</th>\n",
       "      <td>2</td>\n",
       "      <td>[-0.2828964293003082, -0.5574731230735779]</td>\n",
       "      <td>[-0.2598762512207031, -0.5298852920532227]</td>\n",
       "      <td>[-130.82980346679688, -60.200096130371094]</td>\n",
       "      <td>[98.84953308105469, 85.19053649902344]</td>\n",
       "      <td>[9.041149139404297, 8.168275833129883]</td>\n",
       "    </tr>\n",
       "    <tr>\n",
       "      <th>3</th>\n",
       "      <td>3</td>\n",
       "      <td>[-0.1406160593032837, -0.2828964293003082, -0....</td>\n",
       "      <td>[-0.12993812561035156, -0.2598762512207031, -0...</td>\n",
       "      <td>[-66.77985382080078, -130.82980346679688, -60....</td>\n",
       "      <td>[96.4701156616211, 98.84953308105469, 85.19053...</td>\n",
       "      <td>[9.153743743896484, 9.041149139404297, 8.16827...</td>\n",
       "    </tr>\n",
       "    <tr>\n",
       "      <th>4</th>\n",
       "      <td>4</td>\n",
       "      <td>[-0.026630481705069542, -0.1406160593032837, -...</td>\n",
       "      <td>[-0.14007091522216797, -0.12993812561035156, -...</td>\n",
       "      <td>[-100.1900405883789, -66.77985382080078, -130....</td>\n",
       "      <td>[73.64988708496094, 96.4701156616211, 98.84953...</td>\n",
       "      <td>[8.285481452941895, 9.153743743896484, 9.04114...</td>\n",
       "    </tr>\n",
       "    <tr>\n",
       "      <th>...</th>\n",
       "      <td>...</td>\n",
       "      <td>...</td>\n",
       "      <td>...</td>\n",
       "      <td>...</td>\n",
       "      <td>...</td>\n",
       "      <td>...</td>\n",
       "    </tr>\n",
       "    <tr>\n",
       "      <th>476</th>\n",
       "      <td>476</td>\n",
       "      <td>[0.07772993296384811, -0.39757010340690613, -0...</td>\n",
       "      <td>[0.30994415283203125, -0.050067901611328125, -...</td>\n",
       "      <td>[-138.63026428222656, -133.70989990234375, -56...</td>\n",
       "      <td>[111.83976745605469, 268.87060546875, 51.61046...</td>\n",
       "      <td>[8.591558456420898, 13.051695823669434, 6.7846...</td>\n",
       "    </tr>\n",
       "    <tr>\n",
       "      <th>477</th>\n",
       "      <td>477</td>\n",
       "      <td>[-0.3104068636894226, 0.07772993296384811, -0....</td>\n",
       "      <td>[-0.209808349609375, 0.30994415283203125, -0.0...</td>\n",
       "      <td>[-64.12029266357422, -138.63026428222656, -133...</td>\n",
       "      <td>[61.78974914550781, 111.83976745605469, 268.87...</td>\n",
       "      <td>[7.446479320526123, 8.591558456420898, 13.0516...</td>\n",
       "    </tr>\n",
       "    <tr>\n",
       "      <th>478</th>\n",
       "      <td>478</td>\n",
       "      <td>[-0.1384873241186142, -0.3104068636894226, 0.0...</td>\n",
       "      <td>[-0.29981136322021484, -0.209808349609375, 0.3...</td>\n",
       "      <td>[-90.789794921875, -64.12029266357422, -138.63...</td>\n",
       "      <td>[71.05946350097656, 61.78974914550781, 111.839...</td>\n",
       "      <td>[7.664499759674072, 7.446479320526123, 8.59155...</td>\n",
       "    </tr>\n",
       "    <tr>\n",
       "      <th>479</th>\n",
       "      <td>479</td>\n",
       "      <td>[0.02312465012073517, -0.1384873241186142, -0....</td>\n",
       "      <td>[-0.029802322387695312, -0.29981136322021484, ...</td>\n",
       "      <td>[-89.76995849609375, -90.789794921875, -64.120...</td>\n",
       "      <td>[77.12960052490234, 71.05946350097656, 61.7897...</td>\n",
       "      <td>[7.532643795013428, 7.664499759674072, 7.44647...</td>\n",
       "    </tr>\n",
       "    <tr>\n",
       "      <th>480</th>\n",
       "      <td>480</td>\n",
       "      <td>[-0.3666825592517853, 0.02312465012073517, -0....</td>\n",
       "      <td>[-0.07987022399902344, -0.029802322387695312, ...</td>\n",
       "      <td>[-144.37973022460938, -89.76995849609375, -90....</td>\n",
       "      <td>[70.14990234375, 77.12960052490234, 71.0594635...</td>\n",
       "      <td>[8.829319953918457, 7.532643795013428, 7.66449...</td>\n",
       "    </tr>\n",
       "  </tbody>\n",
       "</table>\n",
       "<p>481 rows × 6 columns</p>\n",
       "</div>"
      ],
      "text/plain": [
       "     date_id                       prev_date_global_target_mean  \\\n",
       "0          0                                               None   \n",
       "1          1                              [-0.5574731230735779]   \n",
       "2          2         [-0.2828964293003082, -0.5574731230735779]   \n",
       "3          3  [-0.1406160593032837, -0.2828964293003082, -0....   \n",
       "4          4  [-0.026630481705069542, -0.1406160593032837, -...   \n",
       "..       ...                                                ...   \n",
       "476      476  [0.07772993296384811, -0.39757010340690613, -0...   \n",
       "477      477  [-0.3104068636894226, 0.07772993296384811, -0....   \n",
       "478      478  [-0.1384873241186142, -0.3104068636894226, 0.0...   \n",
       "479      479  [0.02312465012073517, -0.1384873241186142, -0....   \n",
       "480      480  [-0.3666825592517853, 0.02312465012073517, -0....   \n",
       "\n",
       "                        prev_date_global_target_median  \\\n",
       "0                                                 None   \n",
       "1                                [-0.5298852920532227]   \n",
       "2           [-0.2598762512207031, -0.5298852920532227]   \n",
       "3    [-0.12993812561035156, -0.2598762512207031, -0...   \n",
       "4    [-0.14007091522216797, -0.12993812561035156, -...   \n",
       "..                                                 ...   \n",
       "476  [0.30994415283203125, -0.050067901611328125, -...   \n",
       "477  [-0.209808349609375, 0.30994415283203125, -0.0...   \n",
       "478  [-0.29981136322021484, -0.209808349609375, 0.3...   \n",
       "479  [-0.029802322387695312, -0.29981136322021484, ...   \n",
       "480  [-0.07987022399902344, -0.029802322387695312, ...   \n",
       "\n",
       "                           prev_date_global_target_min  \\\n",
       "0                                                 None   \n",
       "1                                [-60.200096130371094]   \n",
       "2           [-130.82980346679688, -60.200096130371094]   \n",
       "3    [-66.77985382080078, -130.82980346679688, -60....   \n",
       "4    [-100.1900405883789, -66.77985382080078, -130....   \n",
       "..                                                 ...   \n",
       "476  [-138.63026428222656, -133.70989990234375, -56...   \n",
       "477  [-64.12029266357422, -138.63026428222656, -133...   \n",
       "478  [-90.789794921875, -64.12029266357422, -138.63...   \n",
       "479  [-89.76995849609375, -90.789794921875, -64.120...   \n",
       "480  [-144.37973022460938, -89.76995849609375, -90....   \n",
       "\n",
       "                           prev_date_global_target_max  \\\n",
       "0                                                 None   \n",
       "1                                  [85.19053649902344]   \n",
       "2               [98.84953308105469, 85.19053649902344]   \n",
       "3    [96.4701156616211, 98.84953308105469, 85.19053...   \n",
       "4    [73.64988708496094, 96.4701156616211, 98.84953...   \n",
       "..                                                 ...   \n",
       "476  [111.83976745605469, 268.87060546875, 51.61046...   \n",
       "477  [61.78974914550781, 111.83976745605469, 268.87...   \n",
       "478  [71.05946350097656, 61.78974914550781, 111.839...   \n",
       "479  [77.12960052490234, 71.05946350097656, 61.7897...   \n",
       "480  [70.14990234375, 77.12960052490234, 71.0594635...   \n",
       "\n",
       "                           prev_date_global_target_std  \n",
       "0                                                 None  \n",
       "1                                  [8.168275833129883]  \n",
       "2               [9.041149139404297, 8.168275833129883]  \n",
       "3    [9.153743743896484, 9.041149139404297, 8.16827...  \n",
       "4    [8.285481452941895, 9.153743743896484, 9.04114...  \n",
       "..                                                 ...  \n",
       "476  [8.591558456420898, 13.051695823669434, 6.7846...  \n",
       "477  [7.446479320526123, 8.591558456420898, 13.0516...  \n",
       "478  [7.664499759674072, 7.446479320526123, 8.59155...  \n",
       "479  [7.532643795013428, 7.664499759674072, 7.44647...  \n",
       "480  [8.829319953918457, 7.532643795013428, 7.66449...  \n",
       "\n",
       "[481 rows x 6 columns]"
      ]
     },
     "execution_count": 34,
     "metadata": {},
     "output_type": "execute_result"
    }
   ],
   "source": [
    "%%time\n",
    "LOOK_BACK_DATE = 30\n",
    "daily_global_target_stats = {}\n",
    "for stats in [\"mean\", \"median\", \"min\", \"max\", \"std\"]:\n",
    "    daily_global_target_stats[f\"prev_date_global_target_{stats}\"] = train.groupby(\"date_id\")[\"target\"].agg(stats).apply(\n",
    "        lambda x: [x] # Convert the target mean into a list with just one item so that we can use cumsum to concatenate the daily target mean\n",
    "    ).cumsum().apply(\n",
    "        lambda x: x[::-1][:LOOK_BACK_DATE] # Reverse the list so that the most recent one is at the start, then truncated by only taking the first N most recent target\n",
    "    ).shift(1) # Shift to avoid data leakage\n",
    "    \n",
    "daily_global_target_stats = pd.DataFrame(daily_global_target_stats).reset_index()\n",
    "daily_global_target_stats"
   ]
  },
  {
   "cell_type": "code",
   "execution_count": 60,
   "metadata": {},
   "outputs": [],
   "source": [
    "# daily_global_target_stats.to_parquet(\"../data/optiver-support-data/daily_global_target_stats.parquet\")"
   ]
  },
  {
   "cell_type": "code",
   "execution_count": 42,
   "metadata": {},
   "outputs": [
    {
     "name": "stderr",
     "output_type": "stream",
     "text": [
      "100%|█████████████████████████████████████████████████████████████████████████████████████████████████████████████████████████████████████████████████████████████████████████| 95236/95236 [00:43<00:00, 2173.55it/s]\n",
      "100%|█████████████████████████████████████████████████████████████████████████████████████████████████████████████████████████████████████████████████████████████████████████| 95236/95236 [00:50<00:00, 1890.83it/s]\n",
      "100%|█████████████████████████████████████████████████████████████████████████████████████████████████████████████████████████████████████████████████████████████████████████| 95236/95236 [00:42<00:00, 2237.94it/s]\n",
      "100%|██████████████████████████████████████████████████████████████████████████████████████████████████████████████████████████████████████████████████████████████████████████| 95236/95236 [01:39<00:00, 954.97it/s]\n",
      "100%|██████████████████████████████████████████████████████████████████████████████████████████████████████████████████████████████████████████████████████████████████████████| 95236/95236 [01:53<00:00, 839.66it/s]\n"
     ]
    },
    {
     "name": "stdout",
     "output_type": "stream",
     "text": [
      "CPU times: user 3min 24s, sys: 3min 32s, total: 6min 56s\n",
      "Wall time: 11min 43s\n"
     ]
    },
    {
     "data": {
      "text/html": [
       "<div>\n",
       "<style scoped>\n",
       "    .dataframe tbody tr th:only-of-type {\n",
       "        vertical-align: middle;\n",
       "    }\n",
       "\n",
       "    .dataframe tbody tr th {\n",
       "        vertical-align: top;\n",
       "    }\n",
       "\n",
       "    .dataframe thead th {\n",
       "        text-align: right;\n",
       "    }\n",
       "</style>\n",
       "<table border=\"1\" class=\"dataframe\">\n",
       "  <thead>\n",
       "    <tr style=\"text-align: right;\">\n",
       "      <th></th>\n",
       "      <th>stock_id</th>\n",
       "      <th>date_id</th>\n",
       "      <th>prev_date_stock_target_mean</th>\n",
       "      <th>prev_date_stock_target_median</th>\n",
       "      <th>prev_date_stock_target_min</th>\n",
       "      <th>prev_date_stock_target_max</th>\n",
       "      <th>prev_date_stock_target_std</th>\n",
       "    </tr>\n",
       "  </thead>\n",
       "  <tbody>\n",
       "    <tr>\n",
       "      <th>0</th>\n",
       "      <td>0</td>\n",
       "      <td>0</td>\n",
       "      <td>None</td>\n",
       "      <td>None</td>\n",
       "      <td>None</td>\n",
       "      <td>None</td>\n",
       "      <td>None</td>\n",
       "    </tr>\n",
       "    <tr>\n",
       "      <th>1</th>\n",
       "      <td>0</td>\n",
       "      <td>1</td>\n",
       "      <td>[-0.7345351576805115]</td>\n",
       "      <td>[0.020265579223632812]</td>\n",
       "      <td>[-10.679960250854492]</td>\n",
       "      <td>[9.759664535522461]</td>\n",
       "      <td>[4.185722827911377]</td>\n",
       "    </tr>\n",
       "    <tr>\n",
       "      <th>2</th>\n",
       "      <td>0</td>\n",
       "      <td>2</td>\n",
       "      <td>[0.3289417624473572, -0.7345351576805115]</td>\n",
       "      <td>[1.0097026824951172, 0.020265579223632812]</td>\n",
       "      <td>[-14.08994197845459, -10.679960250854492]</td>\n",
       "      <td>[6.7996978759765625, 9.759664535522461]</td>\n",
       "      <td>[4.007033824920654, 4.185722827911377]</td>\n",
       "    </tr>\n",
       "    <tr>\n",
       "      <th>3</th>\n",
       "      <td>0</td>\n",
       "      <td>3</td>\n",
       "      <td>[-0.3267093300819397, 0.3289417624473572, -0.7...</td>\n",
       "      <td>[0.040531158447265625, 1.0097026824951172, 0.0...</td>\n",
       "      <td>[-15.569925308227539, -14.08994197845459, -10....</td>\n",
       "      <td>[8.629560470581055, 6.7996978759765625, 9.7596...</td>\n",
       "      <td>[5.143941879272461, 4.007033824920654, 4.18572...</td>\n",
       "    </tr>\n",
       "    <tr>\n",
       "      <th>4</th>\n",
       "      <td>0</td>\n",
       "      <td>4</td>\n",
       "      <td>[-3.2250990867614746, -0.3267093300819397, 0.3...</td>\n",
       "      <td>[-3.8701295852661133, 0.040531158447265625, 1....</td>\n",
       "      <td>[-17.899871826171875, -15.569925308227539, -14...</td>\n",
       "      <td>[8.759498596191406, 8.629560470581055, 6.79969...</td>\n",
       "      <td>[5.174627780914307, 5.143941879272461, 4.00703...</td>\n",
       "    </tr>\n",
       "    <tr>\n",
       "      <th>...</th>\n",
       "      <td>...</td>\n",
       "      <td>...</td>\n",
       "      <td>...</td>\n",
       "      <td>...</td>\n",
       "      <td>...</td>\n",
       "      <td>...</td>\n",
       "      <td>...</td>\n",
       "    </tr>\n",
       "    <tr>\n",
       "      <th>95231</th>\n",
       "      <td>199</td>\n",
       "      <td>476</td>\n",
       "      <td>[-0.3231005370616913, 0.9247280955314636, -1.9...</td>\n",
       "      <td>[0.30040740966796875, 1.519918441772461, -2.58...</td>\n",
       "      <td>[-12.249946594238281, -19.02997589111328, -12....</td>\n",
       "      <td>[11.14964485168457, 14.35995101928711, 6.09040...</td>\n",
       "      <td>[5.55213737487793, 6.242770195007324, 4.272174...</td>\n",
       "    </tr>\n",
       "    <tr>\n",
       "      <th>95232</th>\n",
       "      <td>199</td>\n",
       "      <td>477</td>\n",
       "      <td>[0.9665055871009827, -0.3231005370616913, 0.92...</td>\n",
       "      <td>[0.7402896881103516, 0.30040740966796875, 1.51...</td>\n",
       "      <td>[-10.579824447631836, -12.249946594238281, -19...</td>\n",
       "      <td>[12.860298156738281, 11.14964485168457, 14.359...</td>\n",
       "      <td>[5.772026538848877, 5.55213737487793, 6.242770...</td>\n",
       "    </tr>\n",
       "    <tr>\n",
       "      <th>95233</th>\n",
       "      <td>199</td>\n",
       "      <td>478</td>\n",
       "      <td>[-4.2260236740112305, 0.9665055871009827, -0.3...</td>\n",
       "      <td>[-4.870295524597168, 0.7402896881103516, 0.300...</td>\n",
       "      <td>[-15.050172805786133, -10.579824447631836, -12...</td>\n",
       "      <td>[3.7097930908203125, 12.860298156738281, 11.14...</td>\n",
       "      <td>[4.536808013916016, 5.772026538848877, 5.55213...</td>\n",
       "    </tr>\n",
       "    <tr>\n",
       "      <th>95234</th>\n",
       "      <td>199</td>\n",
       "      <td>479</td>\n",
       "      <td>[1.3231254816055298, -4.2260236740112305, 0.96...</td>\n",
       "      <td>[1.920461654663086, -4.870295524597168, 0.7402...</td>\n",
       "      <td>[-11.900067329406738, -15.050172805786133, -10...</td>\n",
       "      <td>[13.500452041625977, 3.7097930908203125, 12.86...</td>\n",
       "      <td>[5.631494998931885, 4.536808013916016, 5.77202...</td>\n",
       "    </tr>\n",
       "    <tr>\n",
       "      <th>95235</th>\n",
       "      <td>199</td>\n",
       "      <td>480</td>\n",
       "      <td>[3.3000059127807617, 1.3231254816055298, -4.22...</td>\n",
       "      <td>[3.7801265716552734, 1.920461654663086, -4.870...</td>\n",
       "      <td>[-8.6897611618042, -11.900067329406738, -15.05...</td>\n",
       "      <td>[11.539459228515625, 13.500452041625977, 3.709...</td>\n",
       "      <td>[4.84799861907959, 5.631494998931885, 4.536808...</td>\n",
       "    </tr>\n",
       "  </tbody>\n",
       "</table>\n",
       "<p>95236 rows × 7 columns</p>\n",
       "</div>"
      ],
      "text/plain": [
       "       stock_id  date_id                        prev_date_stock_target_mean  \\\n",
       "0             0        0                                               None   \n",
       "1             0        1                              [-0.7345351576805115]   \n",
       "2             0        2          [0.3289417624473572, -0.7345351576805115]   \n",
       "3             0        3  [-0.3267093300819397, 0.3289417624473572, -0.7...   \n",
       "4             0        4  [-3.2250990867614746, -0.3267093300819397, 0.3...   \n",
       "...         ...      ...                                                ...   \n",
       "95231       199      476  [-0.3231005370616913, 0.9247280955314636, -1.9...   \n",
       "95232       199      477  [0.9665055871009827, -0.3231005370616913, 0.92...   \n",
       "95233       199      478  [-4.2260236740112305, 0.9665055871009827, -0.3...   \n",
       "95234       199      479  [1.3231254816055298, -4.2260236740112305, 0.96...   \n",
       "95235       199      480  [3.3000059127807617, 1.3231254816055298, -4.22...   \n",
       "\n",
       "                           prev_date_stock_target_median  \\\n",
       "0                                                   None   \n",
       "1                                 [0.020265579223632812]   \n",
       "2             [1.0097026824951172, 0.020265579223632812]   \n",
       "3      [0.040531158447265625, 1.0097026824951172, 0.0...   \n",
       "4      [-3.8701295852661133, 0.040531158447265625, 1....   \n",
       "...                                                  ...   \n",
       "95231  [0.30040740966796875, 1.519918441772461, -2.58...   \n",
       "95232  [0.7402896881103516, 0.30040740966796875, 1.51...   \n",
       "95233  [-4.870295524597168, 0.7402896881103516, 0.300...   \n",
       "95234  [1.920461654663086, -4.870295524597168, 0.7402...   \n",
       "95235  [3.7801265716552734, 1.920461654663086, -4.870...   \n",
       "\n",
       "                              prev_date_stock_target_min  \\\n",
       "0                                                   None   \n",
       "1                                  [-10.679960250854492]   \n",
       "2              [-14.08994197845459, -10.679960250854492]   \n",
       "3      [-15.569925308227539, -14.08994197845459, -10....   \n",
       "4      [-17.899871826171875, -15.569925308227539, -14...   \n",
       "...                                                  ...   \n",
       "95231  [-12.249946594238281, -19.02997589111328, -12....   \n",
       "95232  [-10.579824447631836, -12.249946594238281, -19...   \n",
       "95233  [-15.050172805786133, -10.579824447631836, -12...   \n",
       "95234  [-11.900067329406738, -15.050172805786133, -10...   \n",
       "95235  [-8.6897611618042, -11.900067329406738, -15.05...   \n",
       "\n",
       "                              prev_date_stock_target_max  \\\n",
       "0                                                   None   \n",
       "1                                    [9.759664535522461]   \n",
       "2                [6.7996978759765625, 9.759664535522461]   \n",
       "3      [8.629560470581055, 6.7996978759765625, 9.7596...   \n",
       "4      [8.759498596191406, 8.629560470581055, 6.79969...   \n",
       "...                                                  ...   \n",
       "95231  [11.14964485168457, 14.35995101928711, 6.09040...   \n",
       "95232  [12.860298156738281, 11.14964485168457, 14.359...   \n",
       "95233  [3.7097930908203125, 12.860298156738281, 11.14...   \n",
       "95234  [13.500452041625977, 3.7097930908203125, 12.86...   \n",
       "95235  [11.539459228515625, 13.500452041625977, 3.709...   \n",
       "\n",
       "                              prev_date_stock_target_std  \n",
       "0                                                   None  \n",
       "1                                    [4.185722827911377]  \n",
       "2                 [4.007033824920654, 4.185722827911377]  \n",
       "3      [5.143941879272461, 4.007033824920654, 4.18572...  \n",
       "4      [5.174627780914307, 5.143941879272461, 4.00703...  \n",
       "...                                                  ...  \n",
       "95231  [5.55213737487793, 6.242770195007324, 4.272174...  \n",
       "95232  [5.772026538848877, 5.55213737487793, 6.242770...  \n",
       "95233  [4.536808013916016, 5.772026538848877, 5.55213...  \n",
       "95234  [5.631494998931885, 4.536808013916016, 5.77202...  \n",
       "95235  [4.84799861907959, 5.631494998931885, 4.536808...  \n",
       "\n",
       "[95236 rows x 7 columns]"
      ]
     },
     "execution_count": 42,
     "metadata": {},
     "output_type": "execute_result"
    }
   ],
   "source": [
    "%%time\n",
    "LOOK_BACK_DATE = 30\n",
    "train = train.sort_values(by=[\"stock_id\", \"date_id\"]).reset_index(drop=True)\n",
    "daily_stock_target_stats = {}\n",
    "for stats in [\"mean\", \"median\", \"min\", \"max\", \"std\"]:\n",
    "    daily_stock_target_stats[f\"prev_date_stock_target_{stats}\"] = train.groupby([\"stock_id\", \"date_id\"])[\"target\"].agg(stats).apply(\n",
    "        lambda x: [x] # Convert the target mean into a list with just one item so that we can use cumsum to concatenate the daily target mean\n",
    "    ).cumsum().progress_apply(\n",
    "        lambda x: x[::-1][:LOOK_BACK_DATE] # Reverse the list so that the most recent one is at the start, then truncated by only taking the first N most recent target\n",
    "    ).shift(1) # Shift to avoid data leakage\n",
    "    \n",
    "daily_stock_target_stats = pd.DataFrame(daily_stock_target_stats).reset_index()\n",
    "daily_stock_target_stats"
   ]
  },
  {
   "cell_type": "code",
   "execution_count": 45,
   "metadata": {},
   "outputs": [],
   "source": [
    "# daily_stock_target_stats.to_parquet(\"../data/optiver-support-data/daily_stock_target_stats.parquet\")"
   ]
  },
  {
   "cell_type": "code",
   "execution_count": 96,
   "metadata": {},
   "outputs": [],
   "source": [
    "daily_target_stats = daily_stock_target_stats.merge(daily_global_target_stats, on=\"date_id\", how=\"left\")\n",
    "daily_target_stats = daily_target_stats.dropna()"
   ]
  },
  {
   "cell_type": "code",
   "execution_count": 104,
   "metadata": {},
   "outputs": [],
   "source": [
    "for col in daily_target_stats.columns[2:]:\n",
    "    daily_target_stats[col] = daily_target_stats[col].apply(np.array)"
   ]
  },
  {
   "cell_type": "code",
   "execution_count": 109,
   "metadata": {},
   "outputs": [
    {
     "data": {
      "text/plain": [
       "array([-3.19846861, -0.18609327,  0.61183819, -0.17706203])"
      ]
     },
     "execution_count": 109,
     "metadata": {},
     "output_type": "execute_result"
    }
   ],
   "source": [
    "daily_target_stats[\"prev_date_stock_target_mean\"].iloc[3] - daily_target_stats[\"prev_date_global_target_mean\"].iloc[3]"
   ]
  },
  {
   "cell_type": "code",
   "execution_count": null,
   "metadata": {},
   "outputs": [],
   "source": [
    "def pr(row):\n",
    "    try:\n",
    "        row.prev_date_stock_target_mean - row.prev_date_global_target_mean"
   ]
  },
  {
   "cell_type": "code",
   "execution_count": 116,
   "metadata": {},
   "outputs": [
    {
     "data": {
      "text/html": [
       "<div>\n",
       "<style scoped>\n",
       "    .dataframe tbody tr th:only-of-type {\n",
       "        vertical-align: middle;\n",
       "    }\n",
       "\n",
       "    .dataframe tbody tr th {\n",
       "        vertical-align: top;\n",
       "    }\n",
       "\n",
       "    .dataframe thead th {\n",
       "        text-align: right;\n",
       "    }\n",
       "</style>\n",
       "<table border=\"1\" class=\"dataframe\">\n",
       "  <thead>\n",
       "    <tr style=\"text-align: right;\">\n",
       "      <th></th>\n",
       "      <th>stock_id</th>\n",
       "      <th>date_id</th>\n",
       "      <th>prev_date_stock_target_mean</th>\n",
       "      <th>prev_date_stock_target_median</th>\n",
       "      <th>prev_date_stock_target_min</th>\n",
       "      <th>prev_date_stock_target_max</th>\n",
       "      <th>prev_date_stock_target_std</th>\n",
       "      <th>prev_date_global_target_mean</th>\n",
       "      <th>prev_date_global_target_median</th>\n",
       "      <th>prev_date_global_target_min</th>\n",
       "      <th>prev_date_global_target_max</th>\n",
       "      <th>prev_date_global_target_std</th>\n",
       "    </tr>\n",
       "  </thead>\n",
       "  <tbody>\n",
       "    <tr>\n",
       "      <th>482</th>\n",
       "      <td>1</td>\n",
       "      <td>1</td>\n",
       "      <td>[1.1445717811584473, 0.5915165543556213, -1.39...</td>\n",
       "      <td>[-1.5497207641601562, 0.6496906280517578, -0.1...</td>\n",
       "      <td>[-10.449886322021484, -10.420083999633789, -11...</td>\n",
       "      <td>[28.949975967407227, 8.510351181030273, 6.4694...</td>\n",
       "      <td>[8.197073936462402, 3.9718258380889893, 4.3429...</td>\n",
       "      <td>[-0.5574731230735779]</td>\n",
       "      <td>[-0.5298852920532227]</td>\n",
       "      <td>[-60.200096130371094]</td>\n",
       "      <td>[85.19053649902344]</td>\n",
       "      <td>[8.168275833129883]</td>\n",
       "    </tr>\n",
       "    <tr>\n",
       "      <th>483</th>\n",
       "      <td>1</td>\n",
       "      <td>2</td>\n",
       "      <td>[1.6627745628356934, 1.1445717811584473, 0.591...</td>\n",
       "      <td>[1.4102458953857422, -1.5497207641601562, 0.64...</td>\n",
       "      <td>[-11.969804763793945, -10.449886322021484, -10...</td>\n",
       "      <td>[16.280412673950195, 28.949975967407227, 8.510...</td>\n",
       "      <td>[6.597947597503662, 8.197073936462402, 3.97182...</td>\n",
       "      <td>[-0.2828964293003082, -0.5574731230735779]</td>\n",
       "      <td>[-0.2598762512207031, -0.5298852920532227]</td>\n",
       "      <td>[-130.82980346679688, -60.200096130371094]</td>\n",
       "      <td>[98.84953308105469, 85.19053649902344]</td>\n",
       "      <td>[9.041149139404297, 8.168275833129883]</td>\n",
       "    </tr>\n",
       "    <tr>\n",
       "      <th>484</th>\n",
       "      <td>1</td>\n",
       "      <td>3</td>\n",
       "      <td>[0.07706336677074432, 1.6627745628356934, 1.14...</td>\n",
       "      <td>[1.0395050048828125, 1.4102458953857422, -1.54...</td>\n",
       "      <td>[-24.639965057373047, -11.969804763793945, -10...</td>\n",
       "      <td>[34.1796875, 16.280412673950195, 28.9499759674...</td>\n",
       "      <td>[12.275678634643555, 6.597947597503662, 8.1970...</td>\n",
       "      <td>[-0.1406160593032837, -0.2828964293003082, -0....</td>\n",
       "      <td>[-0.12993812561035156, -0.2598762512207031, -0...</td>\n",
       "      <td>[-66.77985382080078, -130.82980346679688, -60....</td>\n",
       "      <td>[96.4701156616211, 98.84953308105469, 85.19053...</td>\n",
       "      <td>[9.153743743896484, 9.041149139404297, 8.16827...</td>\n",
       "    </tr>\n",
       "    <tr>\n",
       "      <th>485</th>\n",
       "      <td>1</td>\n",
       "      <td>4</td>\n",
       "      <td>[1.6297861337661743, 0.07706336677074432, 1.66...</td>\n",
       "      <td>[1.7201900482177734, 1.0395050048828125, 1.410...</td>\n",
       "      <td>[-16.07000732421875, -24.639965057373047, -11....</td>\n",
       "      <td>[17.080307006835938, 34.1796875, 16.2804126739...</td>\n",
       "      <td>[8.477258682250977, 12.275678634643555, 6.5979...</td>\n",
       "      <td>[-0.026630481705069542, -0.1406160593032837, -...</td>\n",
       "      <td>[-0.14007091522216797, -0.12993812561035156, -...</td>\n",
       "      <td>[-100.1900405883789, -66.77985382080078, -130....</td>\n",
       "      <td>[73.64988708496094, 96.4701156616211, 98.84953...</td>\n",
       "      <td>[8.285481452941895, 9.153743743896484, 9.04114...</td>\n",
       "    </tr>\n",
       "    <tr>\n",
       "      <th>486</th>\n",
       "      <td>1</td>\n",
       "      <td>5</td>\n",
       "      <td>[-0.2847476303577423, 1.6297861337661743, 0.07...</td>\n",
       "      <td>[-2.2101402282714844, 1.7201900482177734, 1.03...</td>\n",
       "      <td>[-14.380216598510742, -16.07000732421875, -24....</td>\n",
       "      <td>[19.919872283935547, 17.080307006835938, 34.17...</td>\n",
       "      <td>[9.826698303222656, 8.477258682250977, 12.2756...</td>\n",
       "      <td>[-0.11555680632591248, -0.026630481705069542, ...</td>\n",
       "      <td>[0.059604644775390625, -0.14007091522216797, -...</td>\n",
       "      <td>[-81.4300765991211, -100.1900405883789, -66.77...</td>\n",
       "      <td>[64.69010925292969, 73.64988708496094, 96.4701...</td>\n",
       "      <td>[8.244714736938477, 8.285481452941895, 9.15374...</td>\n",
       "    </tr>\n",
       "    <tr>\n",
       "      <th>...</th>\n",
       "      <td>...</td>\n",
       "      <td>...</td>\n",
       "      <td>...</td>\n",
       "      <td>...</td>\n",
       "      <td>...</td>\n",
       "      <td>...</td>\n",
       "      <td>...</td>\n",
       "      <td>...</td>\n",
       "      <td>...</td>\n",
       "      <td>...</td>\n",
       "      <td>...</td>\n",
       "      <td>...</td>\n",
       "    </tr>\n",
       "    <tr>\n",
       "      <th>94387</th>\n",
       "      <td>198</td>\n",
       "      <td>25</td>\n",
       "      <td>[-0.48817288875579834, 0.39641425013542175, 1....</td>\n",
       "      <td>[-1.0901689529418945, 1.1301040649414062, 1.46...</td>\n",
       "      <td>[-6.369948387145996, -11.069774627685547, -7.4...</td>\n",
       "      <td>[6.510019302368164, 4.71949577331543, 7.890462...</td>\n",
       "      <td>[2.9460933208465576, 3.5450358390808105, 3.744...</td>\n",
       "      <td>[-0.43549665808677673, -0.12510010600090027, 0...</td>\n",
       "      <td>[-0.5799531936645508, 0.050067901611328125, 0....</td>\n",
       "      <td>[-69.19026184082031, -43.9101448059082, -53.33...</td>\n",
       "      <td>[44.46983337402344, 64.17990112304688, 53.0803...</td>\n",
       "      <td>[6.154864311218262, 7.035421848297119, 6.70116...</td>\n",
       "    </tr>\n",
       "    <tr>\n",
       "      <th>94388</th>\n",
       "      <td>198</td>\n",
       "      <td>26</td>\n",
       "      <td>[-0.2252296805381775, -0.48817288875579834, 0....</td>\n",
       "      <td>[-1.0597705841064453, -1.0901689529418945, 1.1...</td>\n",
       "      <td>[-10.780096054077148, -6.369948387145996, -11....</td>\n",
       "      <td>[17.420053482055664, 6.510019302368164, 4.7194...</td>\n",
       "      <td>[6.7027130126953125, 2.9460933208465576, 3.545...</td>\n",
       "      <td>[-0.1317184865474701, -0.43549665808677673, -0...</td>\n",
       "      <td>[0.08940696716308594, -0.5799531936645508, 0.0...</td>\n",
       "      <td>[-82.03983306884766, -69.19026184082031, -43.9...</td>\n",
       "      <td>[40.88043975830078, 44.46983337402344, 64.1799...</td>\n",
       "      <td>[7.143494606018066, 6.154864311218262, 7.03542...</td>\n",
       "    </tr>\n",
       "    <tr>\n",
       "      <th>94389</th>\n",
       "      <td>198</td>\n",
       "      <td>27</td>\n",
       "      <td>[-1.9321658611297607, -0.2252296805381775, -0....</td>\n",
       "      <td>[-2.250075340270996, -1.0597705841064453, -1.0...</td>\n",
       "      <td>[-11.039972305297852, -10.780096054077148, -6....</td>\n",
       "      <td>[6.899833679199219, 17.420053482055664, 6.5100...</td>\n",
       "      <td>[4.3648247718811035, 6.7027130126953125, 2.946...</td>\n",
       "      <td>[-0.11248745769262314, -0.1317184865474701, -0...</td>\n",
       "      <td>[-0.020265579223632812, 0.08940696716308594, -...</td>\n",
       "      <td>[-48.37989807128906, -82.03983306884766, -69.1...</td>\n",
       "      <td>[45.180320739746094, 40.88043975830078, 44.469...</td>\n",
       "      <td>[6.929687023162842, 7.143494606018066, 6.15486...</td>\n",
       "    </tr>\n",
       "    <tr>\n",
       "      <th>94390</th>\n",
       "      <td>198</td>\n",
       "      <td>28</td>\n",
       "      <td>[-0.7074421048164368, -1.9321658611297607, -0....</td>\n",
       "      <td>[-0.9900331497192383, -2.250075340270996, -1.0...</td>\n",
       "      <td>[-10.160207748413086, -11.039972305297852, -10...</td>\n",
       "      <td>[8.770227432250977, 6.899833679199219, 17.4200...</td>\n",
       "      <td>[3.6985859870910645, 4.3648247718811035, 6.702...</td>\n",
       "      <td>[-0.37800148129463196, -0.11248745769262314, -...</td>\n",
       "      <td>[-0.04500150680541992, -0.020265579223632812, ...</td>\n",
       "      <td>[-53.290130615234375, -48.37989807128906, -82....</td>\n",
       "      <td>[51.419734954833984, 45.180320739746094, 40.88...</td>\n",
       "      <td>[7.050216197967529, 6.929687023162842, 7.14349...</td>\n",
       "    </tr>\n",
       "    <tr>\n",
       "      <th>94391</th>\n",
       "      <td>198</td>\n",
       "      <td>29</td>\n",
       "      <td>[-0.8418235182762146, -0.7074421048164368, -1....</td>\n",
       "      <td>[-0.34987926483154297, -0.9900331497192383, -2...</td>\n",
       "      <td>[-8.389949798583984, -10.160207748413086, -11....</td>\n",
       "      <td>[4.229545593261719, 8.770227432250977, 6.89983...</td>\n",
       "      <td>[2.9229249954223633, 3.6985859870910645, 4.364...</td>\n",
       "      <td>[-0.31479278206825256, -0.37800148129463196, -...</td>\n",
       "      <td>[-0.09000301361083984, -0.04500150680541992, -...</td>\n",
       "      <td>[-103.03020477294922, -53.290130615234375, -48...</td>\n",
       "      <td>[69.559814453125, 51.419734954833984, 45.18032...</td>\n",
       "      <td>[7.968112945556641, 7.050216197967529, 6.92968...</td>\n",
       "    </tr>\n",
       "  </tbody>\n",
       "</table>\n",
       "<p>5536 rows × 12 columns</p>\n",
       "</div>"
      ],
      "text/plain": [
       "       stock_id  date_id                        prev_date_stock_target_mean  \\\n",
       "482           1        1  [1.1445717811584473, 0.5915165543556213, -1.39...   \n",
       "483           1        2  [1.6627745628356934, 1.1445717811584473, 0.591...   \n",
       "484           1        3  [0.07706336677074432, 1.6627745628356934, 1.14...   \n",
       "485           1        4  [1.6297861337661743, 0.07706336677074432, 1.66...   \n",
       "486           1        5  [-0.2847476303577423, 1.6297861337661743, 0.07...   \n",
       "...         ...      ...                                                ...   \n",
       "94387       198       25  [-0.48817288875579834, 0.39641425013542175, 1....   \n",
       "94388       198       26  [-0.2252296805381775, -0.48817288875579834, 0....   \n",
       "94389       198       27  [-1.9321658611297607, -0.2252296805381775, -0....   \n",
       "94390       198       28  [-0.7074421048164368, -1.9321658611297607, -0....   \n",
       "94391       198       29  [-0.8418235182762146, -0.7074421048164368, -1....   \n",
       "\n",
       "                           prev_date_stock_target_median  \\\n",
       "482    [-1.5497207641601562, 0.6496906280517578, -0.1...   \n",
       "483    [1.4102458953857422, -1.5497207641601562, 0.64...   \n",
       "484    [1.0395050048828125, 1.4102458953857422, -1.54...   \n",
       "485    [1.7201900482177734, 1.0395050048828125, 1.410...   \n",
       "486    [-2.2101402282714844, 1.7201900482177734, 1.03...   \n",
       "...                                                  ...   \n",
       "94387  [-1.0901689529418945, 1.1301040649414062, 1.46...   \n",
       "94388  [-1.0597705841064453, -1.0901689529418945, 1.1...   \n",
       "94389  [-2.250075340270996, -1.0597705841064453, -1.0...   \n",
       "94390  [-0.9900331497192383, -2.250075340270996, -1.0...   \n",
       "94391  [-0.34987926483154297, -0.9900331497192383, -2...   \n",
       "\n",
       "                              prev_date_stock_target_min  \\\n",
       "482    [-10.449886322021484, -10.420083999633789, -11...   \n",
       "483    [-11.969804763793945, -10.449886322021484, -10...   \n",
       "484    [-24.639965057373047, -11.969804763793945, -10...   \n",
       "485    [-16.07000732421875, -24.639965057373047, -11....   \n",
       "486    [-14.380216598510742, -16.07000732421875, -24....   \n",
       "...                                                  ...   \n",
       "94387  [-6.369948387145996, -11.069774627685547, -7.4...   \n",
       "94388  [-10.780096054077148, -6.369948387145996, -11....   \n",
       "94389  [-11.039972305297852, -10.780096054077148, -6....   \n",
       "94390  [-10.160207748413086, -11.039972305297852, -10...   \n",
       "94391  [-8.389949798583984, -10.160207748413086, -11....   \n",
       "\n",
       "                              prev_date_stock_target_max  \\\n",
       "482    [28.949975967407227, 8.510351181030273, 6.4694...   \n",
       "483    [16.280412673950195, 28.949975967407227, 8.510...   \n",
       "484    [34.1796875, 16.280412673950195, 28.9499759674...   \n",
       "485    [17.080307006835938, 34.1796875, 16.2804126739...   \n",
       "486    [19.919872283935547, 17.080307006835938, 34.17...   \n",
       "...                                                  ...   \n",
       "94387  [6.510019302368164, 4.71949577331543, 7.890462...   \n",
       "94388  [17.420053482055664, 6.510019302368164, 4.7194...   \n",
       "94389  [6.899833679199219, 17.420053482055664, 6.5100...   \n",
       "94390  [8.770227432250977, 6.899833679199219, 17.4200...   \n",
       "94391  [4.229545593261719, 8.770227432250977, 6.89983...   \n",
       "\n",
       "                              prev_date_stock_target_std  \\\n",
       "482    [8.197073936462402, 3.9718258380889893, 4.3429...   \n",
       "483    [6.597947597503662, 8.197073936462402, 3.97182...   \n",
       "484    [12.275678634643555, 6.597947597503662, 8.1970...   \n",
       "485    [8.477258682250977, 12.275678634643555, 6.5979...   \n",
       "486    [9.826698303222656, 8.477258682250977, 12.2756...   \n",
       "...                                                  ...   \n",
       "94387  [2.9460933208465576, 3.5450358390808105, 3.744...   \n",
       "94388  [6.7027130126953125, 2.9460933208465576, 3.545...   \n",
       "94389  [4.3648247718811035, 6.7027130126953125, 2.946...   \n",
       "94390  [3.6985859870910645, 4.3648247718811035, 6.702...   \n",
       "94391  [2.9229249954223633, 3.6985859870910645, 4.364...   \n",
       "\n",
       "                            prev_date_global_target_mean  \\\n",
       "482                                [-0.5574731230735779]   \n",
       "483           [-0.2828964293003082, -0.5574731230735779]   \n",
       "484    [-0.1406160593032837, -0.2828964293003082, -0....   \n",
       "485    [-0.026630481705069542, -0.1406160593032837, -...   \n",
       "486    [-0.11555680632591248, -0.026630481705069542, ...   \n",
       "...                                                  ...   \n",
       "94387  [-0.43549665808677673, -0.12510010600090027, 0...   \n",
       "94388  [-0.1317184865474701, -0.43549665808677673, -0...   \n",
       "94389  [-0.11248745769262314, -0.1317184865474701, -0...   \n",
       "94390  [-0.37800148129463196, -0.11248745769262314, -...   \n",
       "94391  [-0.31479278206825256, -0.37800148129463196, -...   \n",
       "\n",
       "                          prev_date_global_target_median  \\\n",
       "482                                [-0.5298852920532227]   \n",
       "483           [-0.2598762512207031, -0.5298852920532227]   \n",
       "484    [-0.12993812561035156, -0.2598762512207031, -0...   \n",
       "485    [-0.14007091522216797, -0.12993812561035156, -...   \n",
       "486    [0.059604644775390625, -0.14007091522216797, -...   \n",
       "...                                                  ...   \n",
       "94387  [-0.5799531936645508, 0.050067901611328125, 0....   \n",
       "94388  [0.08940696716308594, -0.5799531936645508, 0.0...   \n",
       "94389  [-0.020265579223632812, 0.08940696716308594, -...   \n",
       "94390  [-0.04500150680541992, -0.020265579223632812, ...   \n",
       "94391  [-0.09000301361083984, -0.04500150680541992, -...   \n",
       "\n",
       "                             prev_date_global_target_min  \\\n",
       "482                                [-60.200096130371094]   \n",
       "483           [-130.82980346679688, -60.200096130371094]   \n",
       "484    [-66.77985382080078, -130.82980346679688, -60....   \n",
       "485    [-100.1900405883789, -66.77985382080078, -130....   \n",
       "486    [-81.4300765991211, -100.1900405883789, -66.77...   \n",
       "...                                                  ...   \n",
       "94387  [-69.19026184082031, -43.9101448059082, -53.33...   \n",
       "94388  [-82.03983306884766, -69.19026184082031, -43.9...   \n",
       "94389  [-48.37989807128906, -82.03983306884766, -69.1...   \n",
       "94390  [-53.290130615234375, -48.37989807128906, -82....   \n",
       "94391  [-103.03020477294922, -53.290130615234375, -48...   \n",
       "\n",
       "                             prev_date_global_target_max  \\\n",
       "482                                  [85.19053649902344]   \n",
       "483               [98.84953308105469, 85.19053649902344]   \n",
       "484    [96.4701156616211, 98.84953308105469, 85.19053...   \n",
       "485    [73.64988708496094, 96.4701156616211, 98.84953...   \n",
       "486    [64.69010925292969, 73.64988708496094, 96.4701...   \n",
       "...                                                  ...   \n",
       "94387  [44.46983337402344, 64.17990112304688, 53.0803...   \n",
       "94388  [40.88043975830078, 44.46983337402344, 64.1799...   \n",
       "94389  [45.180320739746094, 40.88043975830078, 44.469...   \n",
       "94390  [51.419734954833984, 45.180320739746094, 40.88...   \n",
       "94391  [69.559814453125, 51.419734954833984, 45.18032...   \n",
       "\n",
       "                             prev_date_global_target_std  \n",
       "482                                  [8.168275833129883]  \n",
       "483               [9.041149139404297, 8.168275833129883]  \n",
       "484    [9.153743743896484, 9.041149139404297, 8.16827...  \n",
       "485    [8.285481452941895, 9.153743743896484, 9.04114...  \n",
       "486    [8.244714736938477, 8.285481452941895, 9.15374...  \n",
       "...                                                  ...  \n",
       "94387  [6.154864311218262, 7.035421848297119, 6.70116...  \n",
       "94388  [7.143494606018066, 6.154864311218262, 7.03542...  \n",
       "94389  [6.929687023162842, 7.143494606018066, 6.15486...  \n",
       "94390  [7.050216197967529, 6.929687023162842, 7.14349...  \n",
       "94391  [7.968112945556641, 7.050216197967529, 6.92968...  \n",
       "\n",
       "[5536 rows x 12 columns]"
      ]
     },
     "execution_count": 116,
     "metadata": {},
     "output_type": "execute_result"
    }
   ],
   "source": [
    "daily_target_stats.loc[daily_target_stats[\"prev_date_stock_target_mean\"].str.len() != daily_target_stats[\"prev_date_global_target_mean\"].str.len()]"
   ]
  },
  {
   "cell_type": "code",
   "execution_count": 56,
   "metadata": {},
   "outputs": [
    {
     "name": "stdout",
     "output_type": "stream",
     "text": [
      "CPU times: user 5.39 s, sys: 46.4 ms, total: 5.43 s\n",
      "Wall time: 5.43 s\n"
     ]
    }
   ],
   "source": [
    "%%time\n",
    "new_feature_list = []\n",
    "for i in [3, 5, 7, 9]:\n",
    "    for stats in [\"mean\", \"median\", \"min\", \"max\", \"std\"]:\n",
    "        new_feature_name = f\"target_{stats}_ma{i}\"\n",
    "        daily_target_stats[new_feature_name] = daily_target_stats[f\"prev_date_stock_target_{stats}\"].apply(lambda x: np.mean(x[:i]) if x is not None else np.nan)\n",
    "        new_feature_list.append(new_feature_name)"
   ]
  },
  {
   "cell_type": "code",
   "execution_count": 62,
   "metadata": {},
   "outputs": [
    {
     "name": "stdout",
     "output_type": "stream",
     "text": [
      "CPU times: user 898 ms, sys: 3.64 s, total: 4.53 s\n",
      "Wall time: 7.6 s\n"
     ]
    }
   ],
   "source": [
    "%%time\n",
    "train = train.merge(\n",
    "    daily_target_stats[[\"stock_id\", \"date_id\"] + new_feature_list],\n",
    "    on=[\"stock_id\", \"date_id\"],\n",
    "    how=\"left\"\n",
    ")"
   ]
  },
  {
   "cell_type": "code",
   "execution_count": 63,
   "metadata": {},
   "outputs": [],
   "source": [
    "# fig, ax = plt.subplots(figsize=(18, 7))\n",
    "# ax.plot(range(480 - LOOK_BACK_DATE, 480), daily_global_target_stats[\"prev_date_target_mean\"][480], label=\"target_mean\")\n",
    "# plt.xlabel(\"Date ID\")\n",
    "# plt.title(\"Previous Date Average Target\")\n",
    "# plt.show()"
   ]
  }
 ],
 "metadata": {
  "kernelspec": {
   "display_name": "optiver",
   "language": "python",
   "name": "optiver"
  },
  "language_info": {
   "codemirror_mode": {
    "name": "ipython",
    "version": 3
   },
   "file_extension": ".py",
   "mimetype": "text/x-python",
   "name": "python",
   "nbconvert_exporter": "python",
   "pygments_lexer": "ipython3",
   "version": "3.10.0"
  }
 },
 "nbformat": 4,
 "nbformat_minor": 4
}
