{
 "cells": [
  {
   "cell_type": "markdown",
   "id": "f41fed03-9c02-4ae2-9f62-803067f2c38e",
   "metadata": {},
   "source": [
    "# Setup"
   ]
  },
  {
   "cell_type": "code",
   "execution_count": 1,
   "id": "dae926f5-1e89-4719-9e09-5d3d18d4d47f",
   "metadata": {},
   "outputs": [],
   "source": [
    "import sys\n",
    "# sys.path.append(\"/kaggle/input/python-helpers/\")\n",
    "sys.path.append(\"../\")\n",
    "import common_utils\n",
    "from common_utils import (\n",
    "    check_memory_usage, check_memory_by_global_variable, # For memory handling\n",
    "    get_time_now, cprint, # For logging\n",
    "    get_cols, downcast_to_32bit, my_concat, my_power, my_log, list_diff, # For preprocessing\n",
    "    plot_feature_importance, plot_scatterplot, # For visualization\n",
    "    get_feature_summary, # For feature engineering & feature selection\n",
    "    check_auc # For EDA\n",
    ")\n",
    "from comp_utils import (\n",
    "    zero_sum, clean_df\n",
    ")"
   ]
  },
  {
   "cell_type": "code",
   "execution_count": 2,
   "id": "f8ed829d-a584-4ac4-a5ca-1919641dd9d5",
   "metadata": {},
   "outputs": [],
   "source": [
    "import gc\n",
    "import joblib\n",
    "import numpy as np\n",
    "import pandas as pd\n",
    "from tqdm import tqdm"
   ]
  },
  {
   "cell_type": "code",
   "execution_count": 3,
   "id": "ab83df4e-0753-4abc-8e52-99e3d94ff82c",
   "metadata": {},
   "outputs": [],
   "source": [
    "%load_ext autoreload\n",
    "%autoreload"
   ]
  },
  {
   "cell_type": "code",
   "execution_count": 4,
   "id": "502fbb0b-93f4-4384-9cb9-fedfdec611ac",
   "metadata": {},
   "outputs": [],
   "source": [
    "# This should be equivalent to '/kaggle/input' in kaggel environment\n",
    "# Meaning to say, we should place our working data folder same as the Kaggle datasets structure to make our life easier\n",
    "DATA_DIR = '../data/'"
   ]
  },
  {
   "cell_type": "code",
   "execution_count": 5,
   "id": "d575be7f-25ac-42a7-bee9-27605f28e0d0",
   "metadata": {},
   "outputs": [
    {
     "name": "stdout",
     "output_type": "stream",
     "text": [
      "CPU times: user 3.73 s, sys: 453 ms, total: 4.19 s\n",
      "Wall time: 4.19 s\n"
     ]
    }
   ],
   "source": [
    "%%time\n",
    "train = pd.read_csv(f\"{DATA_DIR}/optiver-trading-at-the-close/train.csv\")"
   ]
  },
  {
   "cell_type": "code",
   "execution_count": 6,
   "id": "b9cb266c-4010-424b-a063-d3f6880d0cdb",
   "metadata": {},
   "outputs": [
    {
     "name": "stdout",
     "output_type": "stream",
     "text": [
      "CPU times: user 1.69 s, sys: 90.3 ms, total: 1.78 s\n",
      "Wall time: 1.63 s\n"
     ]
    }
   ],
   "source": [
    "%%time\n",
    "train.to_parquet(f'{DATA_DIR}/optiver-train-data/raw_train.parquet')"
   ]
  },
  {
   "cell_type": "markdown",
   "id": "bbbef479-7710-4f22-a7b4-9579cdd55433",
   "metadata": {},
   "source": [
    "# Simple Cleaning\n",
    "Steps:\n",
    "- Remove columns\n",
    "- Downcast DataType\n",
    "- Rename columns\n",
    "\n",
    "Further Enhancements:\n",
    "- To 16bit? Maybe too much for now, memory still ok, and only int16 is possible without affecting data quality\n",
    "- Not sure if we could use row_id & time_id to ease our preprocessing"
   ]
  },
  {
   "cell_type": "code",
   "execution_count": 7,
   "id": "aaba25bb-fbec-4151-803c-d7d8b4c19122",
   "metadata": {},
   "outputs": [],
   "source": [
    "def clean_df(df, columns_to_drop=['row_id', 'time_id']):\n",
    "    df = df.drop(columns=columns_to_drop, errors=\"ignore\")\n",
    "    df = downcast_to_32bit(df)\n",
    "    df = df.rename(\n",
    "        columns={\n",
    "            \"seconds_in_bucket\": \"seconds\",\n",
    "            \"imbalance_size\": \"imb_size\",\n",
    "            \"imbalance_buy_sell_flag\": \"imb_flag\",\n",
    "            \"reference_price\": \"ref_price\",\n",
    "            \"wap\": \"wa_price\", \n",
    "        }\n",
    "    )\n",
    "    return df"
   ]
  },
  {
   "cell_type": "code",
   "execution_count": 8,
   "id": "03e37c76-fbaa-4589-b513-c6af7ba8c1a6",
   "metadata": {},
   "outputs": [
    {
     "name": "stdout",
     "output_type": "stream",
     "text": [
      "(5237980, 17)\n"
     ]
    },
    {
     "data": {
      "text/html": [
       "<div>\n",
       "<style scoped>\n",
       "    .dataframe tbody tr th:only-of-type {\n",
       "        vertical-align: middle;\n",
       "    }\n",
       "\n",
       "    .dataframe tbody tr th {\n",
       "        vertical-align: top;\n",
       "    }\n",
       "\n",
       "    .dataframe thead th {\n",
       "        text-align: right;\n",
       "    }\n",
       "</style>\n",
       "<table border=\"1\" class=\"dataframe\">\n",
       "  <thead>\n",
       "    <tr style=\"text-align: right;\">\n",
       "      <th></th>\n",
       "      <th>stock_id</th>\n",
       "      <th>date_id</th>\n",
       "      <th>seconds_in_bucket</th>\n",
       "      <th>imbalance_size</th>\n",
       "      <th>imbalance_buy_sell_flag</th>\n",
       "      <th>reference_price</th>\n",
       "      <th>matched_size</th>\n",
       "      <th>far_price</th>\n",
       "      <th>near_price</th>\n",
       "      <th>bid_price</th>\n",
       "      <th>bid_size</th>\n",
       "      <th>ask_price</th>\n",
       "      <th>ask_size</th>\n",
       "      <th>wap</th>\n",
       "      <th>target</th>\n",
       "      <th>time_id</th>\n",
       "      <th>row_id</th>\n",
       "    </tr>\n",
       "  </thead>\n",
       "  <tbody>\n",
       "    <tr>\n",
       "      <th>0</th>\n",
       "      <td>0</td>\n",
       "      <td>0</td>\n",
       "      <td>0</td>\n",
       "      <td>3180602.69</td>\n",
       "      <td>1</td>\n",
       "      <td>0.999812</td>\n",
       "      <td>13380276.64</td>\n",
       "      <td>NaN</td>\n",
       "      <td>NaN</td>\n",
       "      <td>0.999812</td>\n",
       "      <td>60651.50</td>\n",
       "      <td>1.000026</td>\n",
       "      <td>8493.03</td>\n",
       "      <td>1.0</td>\n",
       "      <td>-3.029704</td>\n",
       "      <td>0</td>\n",
       "      <td>0_0_0</td>\n",
       "    </tr>\n",
       "    <tr>\n",
       "      <th>1</th>\n",
       "      <td>1</td>\n",
       "      <td>0</td>\n",
       "      <td>0</td>\n",
       "      <td>166603.91</td>\n",
       "      <td>-1</td>\n",
       "      <td>0.999896</td>\n",
       "      <td>1642214.25</td>\n",
       "      <td>NaN</td>\n",
       "      <td>NaN</td>\n",
       "      <td>0.999896</td>\n",
       "      <td>3233.04</td>\n",
       "      <td>1.000660</td>\n",
       "      <td>20605.09</td>\n",
       "      <td>1.0</td>\n",
       "      <td>-5.519986</td>\n",
       "      <td>0</td>\n",
       "      <td>0_0_1</td>\n",
       "    </tr>\n",
       "    <tr>\n",
       "      <th>2</th>\n",
       "      <td>2</td>\n",
       "      <td>0</td>\n",
       "      <td>0</td>\n",
       "      <td>302879.87</td>\n",
       "      <td>-1</td>\n",
       "      <td>0.999561</td>\n",
       "      <td>1819368.03</td>\n",
       "      <td>NaN</td>\n",
       "      <td>NaN</td>\n",
       "      <td>0.999403</td>\n",
       "      <td>37956.00</td>\n",
       "      <td>1.000298</td>\n",
       "      <td>18995.00</td>\n",
       "      <td>1.0</td>\n",
       "      <td>-8.389950</td>\n",
       "      <td>0</td>\n",
       "      <td>0_0_2</td>\n",
       "    </tr>\n",
       "    <tr>\n",
       "      <th>3</th>\n",
       "      <td>3</td>\n",
       "      <td>0</td>\n",
       "      <td>0</td>\n",
       "      <td>11917682.27</td>\n",
       "      <td>-1</td>\n",
       "      <td>1.000171</td>\n",
       "      <td>18389745.62</td>\n",
       "      <td>NaN</td>\n",
       "      <td>NaN</td>\n",
       "      <td>0.999999</td>\n",
       "      <td>2324.90</td>\n",
       "      <td>1.000214</td>\n",
       "      <td>479032.40</td>\n",
       "      <td>1.0</td>\n",
       "      <td>-4.010200</td>\n",
       "      <td>0</td>\n",
       "      <td>0_0_3</td>\n",
       "    </tr>\n",
       "    <tr>\n",
       "      <th>4</th>\n",
       "      <td>4</td>\n",
       "      <td>0</td>\n",
       "      <td>0</td>\n",
       "      <td>447549.96</td>\n",
       "      <td>-1</td>\n",
       "      <td>0.999532</td>\n",
       "      <td>17860614.95</td>\n",
       "      <td>NaN</td>\n",
       "      <td>NaN</td>\n",
       "      <td>0.999394</td>\n",
       "      <td>16485.54</td>\n",
       "      <td>1.000016</td>\n",
       "      <td>434.10</td>\n",
       "      <td>1.0</td>\n",
       "      <td>-7.349849</td>\n",
       "      <td>0</td>\n",
       "      <td>0_0_4</td>\n",
       "    </tr>\n",
       "  </tbody>\n",
       "</table>\n",
       "</div>"
      ],
      "text/plain": [
       "   stock_id  date_id  seconds_in_bucket  imbalance_size  \\\n",
       "0         0        0                  0      3180602.69   \n",
       "1         1        0                  0       166603.91   \n",
       "2         2        0                  0       302879.87   \n",
       "3         3        0                  0     11917682.27   \n",
       "4         4        0                  0       447549.96   \n",
       "\n",
       "   imbalance_buy_sell_flag  reference_price  matched_size  far_price  \\\n",
       "0                        1         0.999812   13380276.64        NaN   \n",
       "1                       -1         0.999896    1642214.25        NaN   \n",
       "2                       -1         0.999561    1819368.03        NaN   \n",
       "3                       -1         1.000171   18389745.62        NaN   \n",
       "4                       -1         0.999532   17860614.95        NaN   \n",
       "\n",
       "   near_price  bid_price  bid_size  ask_price   ask_size  wap    target  \\\n",
       "0         NaN   0.999812  60651.50   1.000026    8493.03  1.0 -3.029704   \n",
       "1         NaN   0.999896   3233.04   1.000660   20605.09  1.0 -5.519986   \n",
       "2         NaN   0.999403  37956.00   1.000298   18995.00  1.0 -8.389950   \n",
       "3         NaN   0.999999   2324.90   1.000214  479032.40  1.0 -4.010200   \n",
       "4         NaN   0.999394  16485.54   1.000016     434.10  1.0 -7.349849   \n",
       "\n",
       "   time_id row_id  \n",
       "0        0  0_0_0  \n",
       "1        0  0_0_1  \n",
       "2        0  0_0_2  \n",
       "3        0  0_0_3  \n",
       "4        0  0_0_4  "
      ]
     },
     "execution_count": 8,
     "metadata": {},
     "output_type": "execute_result"
    }
   ],
   "source": [
    "print(train.shape)\n",
    "train.head()"
   ]
  },
  {
   "cell_type": "code",
   "execution_count": 9,
   "id": "9e2da630-8940-4d5f-a74e-1ee22acc4094",
   "metadata": {},
   "outputs": [
    {
     "name": "stdout",
     "output_type": "stream",
     "text": [
      "\u001b[32m\u001b[1mBefore downcast: \u001b[0m\t\u001b[32m\u001b[1mRAM used: 2.9 GB\u001b[0m\n"
     ]
    },
    {
     "name": "stderr",
     "output_type": "stream",
     "text": [
      "100%|████████████████████████████████████████████████████████████████████████████████████████████████████████████████████████████████████████████████████████████████████████████████| 15/15 [00:00<00:00, 175.60it/s]"
     ]
    },
    {
     "name": "stdout",
     "output_type": "stream",
     "text": [
      "\u001b[34m\u001b[1mAfter downcast: \u001b[0m\t\u001b[34m\u001b[1mRAM used: 2.6 GB\u001b[0m\n"
     ]
    },
    {
     "name": "stderr",
     "output_type": "stream",
     "text": [
      "\n"
     ]
    },
    {
     "name": "stdout",
     "output_type": "stream",
     "text": [
      "CPU times: user 111 ms, sys: 207 ms, total: 318 ms\n",
      "Wall time: 317 ms\n"
     ]
    }
   ],
   "source": [
    "%%time\n",
    "train = clean_df(train)"
   ]
  },
  {
   "cell_type": "code",
   "execution_count": 10,
   "id": "3caa4f15-2c4d-4869-9f2a-401d17445f38",
   "metadata": {},
   "outputs": [
    {
     "name": "stdout",
     "output_type": "stream",
     "text": [
      "(5237980, 15)\n"
     ]
    },
    {
     "data": {
      "text/html": [
       "<div>\n",
       "<style scoped>\n",
       "    .dataframe tbody tr th:only-of-type {\n",
       "        vertical-align: middle;\n",
       "    }\n",
       "\n",
       "    .dataframe tbody tr th {\n",
       "        vertical-align: top;\n",
       "    }\n",
       "\n",
       "    .dataframe thead th {\n",
       "        text-align: right;\n",
       "    }\n",
       "</style>\n",
       "<table border=\"1\" class=\"dataframe\">\n",
       "  <thead>\n",
       "    <tr style=\"text-align: right;\">\n",
       "      <th></th>\n",
       "      <th>stock_id</th>\n",
       "      <th>date_id</th>\n",
       "      <th>seconds</th>\n",
       "      <th>imb_size</th>\n",
       "      <th>imb_flag</th>\n",
       "      <th>ref_price</th>\n",
       "      <th>matched_size</th>\n",
       "      <th>far_price</th>\n",
       "      <th>near_price</th>\n",
       "      <th>bid_price</th>\n",
       "      <th>bid_size</th>\n",
       "      <th>ask_price</th>\n",
       "      <th>ask_size</th>\n",
       "      <th>wa_price</th>\n",
       "      <th>target</th>\n",
       "    </tr>\n",
       "  </thead>\n",
       "  <tbody>\n",
       "    <tr>\n",
       "      <th>0</th>\n",
       "      <td>0</td>\n",
       "      <td>0</td>\n",
       "      <td>0</td>\n",
       "      <td>3.180603e+06</td>\n",
       "      <td>1</td>\n",
       "      <td>0.999812</td>\n",
       "      <td>13380277.00</td>\n",
       "      <td>NaN</td>\n",
       "      <td>NaN</td>\n",
       "      <td>0.999812</td>\n",
       "      <td>60651.500000</td>\n",
       "      <td>1.000026</td>\n",
       "      <td>8493.030273</td>\n",
       "      <td>1.0</td>\n",
       "      <td>-3.029704</td>\n",
       "    </tr>\n",
       "    <tr>\n",
       "      <th>1</th>\n",
       "      <td>1</td>\n",
       "      <td>0</td>\n",
       "      <td>0</td>\n",
       "      <td>1.666039e+05</td>\n",
       "      <td>-1</td>\n",
       "      <td>0.999896</td>\n",
       "      <td>1642214.25</td>\n",
       "      <td>NaN</td>\n",
       "      <td>NaN</td>\n",
       "      <td>0.999896</td>\n",
       "      <td>3233.040039</td>\n",
       "      <td>1.000660</td>\n",
       "      <td>20605.089844</td>\n",
       "      <td>1.0</td>\n",
       "      <td>-5.519986</td>\n",
       "    </tr>\n",
       "    <tr>\n",
       "      <th>2</th>\n",
       "      <td>2</td>\n",
       "      <td>0</td>\n",
       "      <td>0</td>\n",
       "      <td>3.028799e+05</td>\n",
       "      <td>-1</td>\n",
       "      <td>0.999561</td>\n",
       "      <td>1819368.00</td>\n",
       "      <td>NaN</td>\n",
       "      <td>NaN</td>\n",
       "      <td>0.999403</td>\n",
       "      <td>37956.000000</td>\n",
       "      <td>1.000298</td>\n",
       "      <td>18995.000000</td>\n",
       "      <td>1.0</td>\n",
       "      <td>-8.389950</td>\n",
       "    </tr>\n",
       "    <tr>\n",
       "      <th>3</th>\n",
       "      <td>3</td>\n",
       "      <td>0</td>\n",
       "      <td>0</td>\n",
       "      <td>1.191768e+07</td>\n",
       "      <td>-1</td>\n",
       "      <td>1.000171</td>\n",
       "      <td>18389746.00</td>\n",
       "      <td>NaN</td>\n",
       "      <td>NaN</td>\n",
       "      <td>0.999999</td>\n",
       "      <td>2324.899902</td>\n",
       "      <td>1.000214</td>\n",
       "      <td>479032.406250</td>\n",
       "      <td>1.0</td>\n",
       "      <td>-4.010201</td>\n",
       "    </tr>\n",
       "    <tr>\n",
       "      <th>4</th>\n",
       "      <td>4</td>\n",
       "      <td>0</td>\n",
       "      <td>0</td>\n",
       "      <td>4.475500e+05</td>\n",
       "      <td>-1</td>\n",
       "      <td>0.999532</td>\n",
       "      <td>17860614.00</td>\n",
       "      <td>NaN</td>\n",
       "      <td>NaN</td>\n",
       "      <td>0.999394</td>\n",
       "      <td>16485.539062</td>\n",
       "      <td>1.000016</td>\n",
       "      <td>434.100006</td>\n",
       "      <td>1.0</td>\n",
       "      <td>-7.349849</td>\n",
       "    </tr>\n",
       "  </tbody>\n",
       "</table>\n",
       "</div>"
      ],
      "text/plain": [
       "   stock_id  date_id  seconds      imb_size  imb_flag  ref_price  \\\n",
       "0         0        0        0  3.180603e+06         1   0.999812   \n",
       "1         1        0        0  1.666039e+05        -1   0.999896   \n",
       "2         2        0        0  3.028799e+05        -1   0.999561   \n",
       "3         3        0        0  1.191768e+07        -1   1.000171   \n",
       "4         4        0        0  4.475500e+05        -1   0.999532   \n",
       "\n",
       "   matched_size  far_price  near_price  bid_price      bid_size  ask_price  \\\n",
       "0   13380277.00        NaN         NaN   0.999812  60651.500000   1.000026   \n",
       "1    1642214.25        NaN         NaN   0.999896   3233.040039   1.000660   \n",
       "2    1819368.00        NaN         NaN   0.999403  37956.000000   1.000298   \n",
       "3   18389746.00        NaN         NaN   0.999999   2324.899902   1.000214   \n",
       "4   17860614.00        NaN         NaN   0.999394  16485.539062   1.000016   \n",
       "\n",
       "        ask_size  wa_price    target  \n",
       "0    8493.030273       1.0 -3.029704  \n",
       "1   20605.089844       1.0 -5.519986  \n",
       "2   18995.000000       1.0 -8.389950  \n",
       "3  479032.406250       1.0 -4.010201  \n",
       "4     434.100006       1.0 -7.349849  "
      ]
     },
     "execution_count": 10,
     "metadata": {},
     "output_type": "execute_result"
    }
   ],
   "source": [
    "print(train.shape)\n",
    "train.head()"
   ]
  },
  {
   "cell_type": "markdown",
   "id": "d724ccdd-6d48-4f30-be93-9c401a2896e7",
   "metadata": {},
   "source": [
    "- Simple cleaning is done successfully :)"
   ]
  },
  {
   "cell_type": "code",
   "execution_count": 11,
   "id": "a32ded82-80f9-4566-8c0b-bb0f7cd040eb",
   "metadata": {
    "tags": []
   },
   "outputs": [
    {
     "name": "stdout",
     "output_type": "stream",
     "text": [
      "CPU times: user 1.21 s, sys: 71.4 ms, total: 1.28 s\n",
      "Wall time: 1.13 s\n"
     ]
    }
   ],
   "source": [
    "%%time\n",
    "train.to_parquet(f'{DATA_DIR}/optiver-train-data/cleaned_train.parquet')"
   ]
  },
  {
   "cell_type": "markdown",
   "id": "ad669b18-9848-4b87-9cee-be8d3ad82e8f",
   "metadata": {},
   "source": [
    "# Simple Clipping"
   ]
  },
  {
   "cell_type": "markdown",
   "id": "6cf6afb1-4c4d-47d8-9216-ce7d614d2631",
   "metadata": {},
   "source": [
    "Steps:\n",
    "- Clip price columns from both tails\n",
    "- Clip volume columns from upper tail\n",
    "- Clip target column from both tails\n",
    "- Create 2 extra binary target columns\n",
    "\n",
    "Further Enhancements:\n",
    "- To implement stock-based clipping instead of global clipping, because some stock might have high trading volumes / higher volatility\n",
    "- By defining the bound using outlier factor instead of simple percentile for all [price / volume] columns"
   ]
  },
  {
   "cell_type": "code",
   "execution_count": 12,
   "id": "4eeb8a8f-1627-4342-a0f9-726c7c7b04f5",
   "metadata": {
    "tags": []
   },
   "outputs": [],
   "source": [
    "PRICE_CLIP_PERCENTILE = 0.01 # 1 - (2 * PRICE_CLIPPER_TAIL / 100) will remained unclip\n",
    "VOLUME_CLIPPER_UPPER_TAIL = 0.01 # only the top VOLUME_CLIPPER_UPPER_TAIL proportion will be clipped"
   ]
  },
  {
   "cell_type": "code",
   "execution_count": 13,
   "id": "76a65210-e523-43cd-b93f-9706c1c9de68",
   "metadata": {
    "tags": []
   },
   "outputs": [],
   "source": [
    "MIN_TARGET = -100 # Target lower than -100 will be clip to -100\n",
    "MAX_TARGET = 100 # Target higher than 100 will be clip to 100"
   ]
  },
  {
   "cell_type": "code",
   "execution_count": 14,
   "id": "995c68ab-3512-4266-a121-9cfe472e9c2c",
   "metadata": {
    "tags": []
   },
   "outputs": [],
   "source": [
    "MILD_TARGET_LOWER_BOUND = -4.5\n",
    "MILD_TARGET_UPPER_BOUND = 4.5"
   ]
  },
  {
   "cell_type": "code",
   "execution_count": 15,
   "id": "3ea98f57-a300-412d-b52d-4ebe868c4446",
   "metadata": {
    "tags": []
   },
   "outputs": [],
   "source": [
    "def get_price_clippers(df, price_cols, price_clip_percentile=PRICE_CLIP_PERCENTILE):\n",
    "    price_clippers = {}\n",
    "    for price_col in price_cols:\n",
    "        upper_bound = np.percentile(df[price_col].dropna(), 100 - price_clip_percentile)\n",
    "        lower_bound = np.percentile(df[price_col].dropna(), price_clip_percentile)\n",
    "        price_clippers[price_col] = (lower_bound, upper_bound)\n",
    "        cprint(f\"For {price_col}, the global clip bound is\", end=\" \", color=\"blue\")\n",
    "        cprint(f\"({lower_bound:.4f}, {upper_bound:.4f})\", color=\"green\")\n",
    "    return price_clippers"
   ]
  },
  {
   "cell_type": "code",
   "execution_count": 16,
   "id": "b102cac6-6a56-4e60-b534-58f928fd2f01",
   "metadata": {
    "tags": []
   },
   "outputs": [
    {
     "name": "stdout",
     "output_type": "stream",
     "text": [
      "\u001b[34m\u001b[1mFor ref_price, the global clip bound is\u001b[0m \u001b[32m\u001b[1m(0.9798, 1.0246)\u001b[0m\n",
      "\u001b[34m\u001b[1mFor far_price, the global clip bound is\u001b[0m \u001b[32m\u001b[1m(0.7866, 1.3063)\u001b[0m\n",
      "\u001b[34m\u001b[1mFor near_price, the global clip bound is\u001b[0m \u001b[32m\u001b[1m(0.8942, 1.1092)\u001b[0m\n",
      "\u001b[34m\u001b[1mFor bid_price, the global clip bound is\u001b[0m \u001b[32m\u001b[1m(0.9793, 1.0223)\u001b[0m\n",
      "\u001b[34m\u001b[1mFor ask_price, the global clip bound is\u001b[0m \u001b[32m\u001b[1m(0.9814, 1.0249)\u001b[0m\n",
      "\u001b[34m\u001b[1mFor wa_price, the global clip bound is\u001b[0m \u001b[32m\u001b[1m(0.9802, 1.0233)\u001b[0m\n"
     ]
    }
   ],
   "source": [
    "base_price_cols = get_cols(train, contains=\"price\")\n",
    "price_clippers = get_price_clippers(train, base_price_cols)"
   ]
  },
  {
   "cell_type": "code",
   "execution_count": 17,
   "id": "562010db-7504-48d0-8177-0f2354db383e",
   "metadata": {
    "tags": []
   },
   "outputs": [],
   "source": [
    "def get_volume_clippers(df, volume_cols, volume_clip_upper_percentile=VOLUME_CLIPPER_UPPER_TAIL):\n",
    "    volume_clippers = {}\n",
    "    for volume_col in volume_cols:\n",
    "        upper_bound = int(round(np.percentile(df[volume_col].dropna(), 100 - volume_clip_upper_percentile), -3))\n",
    "        volume_clippers[volume_col] = (0, upper_bound)\n",
    "        cprint(f\"For {volume_col}, the global clip bound is\", end=\" \", color=\"blue\")\n",
    "        cprint(f\"(0, {upper_bound:,.0f})\", color=\"green\")\n",
    "    return volume_clippers"
   ]
  },
  {
   "cell_type": "code",
   "execution_count": 18,
   "id": "e02025ff-b7c5-4e3c-8484-12d08fdf9925",
   "metadata": {
    "tags": []
   },
   "outputs": [
    {
     "name": "stdout",
     "output_type": "stream",
     "text": [
      "\u001b[34m\u001b[1mFor imb_size, the global clip bound is\u001b[0m \u001b[32m\u001b[1m(0, 587,223,000)\u001b[0m\n",
      "\u001b[34m\u001b[1mFor matched_size, the global clip bound is\u001b[0m \u001b[32m\u001b[1m(0, 4,502,560,000)\u001b[0m\n",
      "\u001b[34m\u001b[1mFor bid_size, the global clip bound is\u001b[0m \u001b[32m\u001b[1m(0, 2,392,000)\u001b[0m\n",
      "\u001b[34m\u001b[1mFor ask_size, the global clip bound is\u001b[0m \u001b[32m\u001b[1m(0, 2,755,000)\u001b[0m\n"
     ]
    }
   ],
   "source": [
    "base_volume_cols = get_cols(train, contains=\"size\")\n",
    "volume_clippers = get_volume_clippers(train, base_volume_cols)"
   ]
  },
  {
   "cell_type": "code",
   "execution_count": 19,
   "id": "208a7f92-6cb4-413d-9e5c-6669b02eb55b",
   "metadata": {
    "tags": []
   },
   "outputs": [],
   "source": [
    "def clip_df(df, price_clippers=None, volume_clippers=None):\n",
    "    # Find the column list for each group\n",
    "    price_cols = get_cols(df, endswith=\"price\")\n",
    "    volume_cols = get_cols(df, endswith=\"size\")\n",
    "    flag_cols = get_cols(df, endswith=\"flag\")\n",
    "    base_cols = price_cols + volume_cols + flag_cols\n",
    "    \n",
    "    if price_clippers is None:\n",
    "        price_clippers = get_price_clippers(df, price_cols)\n",
    "    \n",
    "    if volume_clippers is None:\n",
    "        volume_clippers = get_volume_clippers(df, volume_cols)\n",
    "    \n",
    "    # Clip price columns\n",
    "    for price_col in price_cols:\n",
    "        df[price_col] = df[price_col].clip(*price_clippers[price_col])\n",
    "        \n",
    "    # Clip volume columns\n",
    "    for volume_col in volume_cols:\n",
    "        df[volume_col] = df[volume_col].clip(*volume_clippers[volume_col])\n",
    "    \n",
    "    # Clip target columns (if applicable)\n",
    "    if \"target\" in df.columns:\n",
    "        df[\"clipped_target\"] = df[\"target\"].clip(MIN_TARGET, MAX_TARGET)\n",
    "        # This 2 transformed binary targets are for the feature analysis and potentially for supporting model(s)\n",
    "        df[\"is_positive_target\"] = (df[\"target\"] > 0).astype(int)\n",
    "        df[\"is_mild_target\"] = df[\"target\"].between(MILD_TARGET_LOWER_BOUND, MILD_TARGET_UPPER_BOUND).astype(int)\n",
    "    return df"
   ]
  },
  {
   "cell_type": "code",
   "execution_count": 20,
   "id": "58558ce3-67a5-4103-991c-a254aa89d905",
   "metadata": {},
   "outputs": [],
   "source": [
    "# Set the float formatting options\n",
    "pd.options.display.float_format = lambda x: f\"{x:,.0f}\""
   ]
  },
  {
   "cell_type": "code",
   "execution_count": 21,
   "id": "4262b974-27ae-4211-8ee5-811c4d0b6fc0",
   "metadata": {},
   "outputs": [
    {
     "data": {
      "text/html": [
       "<div>\n",
       "<style scoped>\n",
       "    .dataframe tbody tr th:only-of-type {\n",
       "        vertical-align: middle;\n",
       "    }\n",
       "\n",
       "    .dataframe tbody tr th {\n",
       "        vertical-align: top;\n",
       "    }\n",
       "\n",
       "    .dataframe thead th {\n",
       "        text-align: right;\n",
       "    }\n",
       "</style>\n",
       "<table border=\"1\" class=\"dataframe\">\n",
       "  <thead>\n",
       "    <tr style=\"text-align: right;\">\n",
       "      <th></th>\n",
       "      <th>imb_size</th>\n",
       "      <th>matched_size</th>\n",
       "      <th>bid_size</th>\n",
       "      <th>ask_size</th>\n",
       "    </tr>\n",
       "  </thead>\n",
       "  <tbody>\n",
       "    <tr>\n",
       "      <th>count</th>\n",
       "      <td>5,237,760</td>\n",
       "      <td>5,237,760</td>\n",
       "      <td>5,237,980</td>\n",
       "      <td>5,237,980</td>\n",
       "    </tr>\n",
       "    <tr>\n",
       "      <th>mean</th>\n",
       "      <td>5,715,294</td>\n",
       "      <td>45,100,236</td>\n",
       "      <td>51,814</td>\n",
       "      <td>53,576</td>\n",
       "    </tr>\n",
       "    <tr>\n",
       "      <th>std</th>\n",
       "      <td>20,515,906</td>\n",
       "      <td>139,841,296</td>\n",
       "      <td>111,421</td>\n",
       "      <td>129,355</td>\n",
       "    </tr>\n",
       "    <tr>\n",
       "      <th>min</th>\n",
       "      <td>0</td>\n",
       "      <td>4,317</td>\n",
       "      <td>0</td>\n",
       "      <td>0</td>\n",
       "    </tr>\n",
       "    <tr>\n",
       "      <th>25%</th>\n",
       "      <td>84,534</td>\n",
       "      <td>5,279,576</td>\n",
       "      <td>7,375</td>\n",
       "      <td>7,824</td>\n",
       "    </tr>\n",
       "    <tr>\n",
       "      <th>50%</th>\n",
       "      <td>1,113,604</td>\n",
       "      <td>12,882,638</td>\n",
       "      <td>21,969</td>\n",
       "      <td>23,018</td>\n",
       "    </tr>\n",
       "    <tr>\n",
       "      <th>75%</th>\n",
       "      <td>4,190,951</td>\n",
       "      <td>32,700,130</td>\n",
       "      <td>55,832</td>\n",
       "      <td>57,878</td>\n",
       "    </tr>\n",
       "    <tr>\n",
       "      <th>max</th>\n",
       "      <td>2,982,027,776</td>\n",
       "      <td>7,713,681,920</td>\n",
       "      <td>30,287,840</td>\n",
       "      <td>54,405,000</td>\n",
       "    </tr>\n",
       "  </tbody>\n",
       "</table>\n",
       "</div>"
      ],
      "text/plain": [
       "           imb_size  matched_size   bid_size   ask_size\n",
       "count     5,237,760     5,237,760  5,237,980  5,237,980\n",
       "mean      5,715,294    45,100,236     51,814     53,576\n",
       "std      20,515,906   139,841,296    111,421    129,355\n",
       "min               0         4,317          0          0\n",
       "25%          84,534     5,279,576      7,375      7,824\n",
       "50%       1,113,604    12,882,638     21,969     23,018\n",
       "75%       4,190,951    32,700,130     55,832     57,878\n",
       "max   2,982,027,776 7,713,681,920 30,287,840 54,405,000"
      ]
     },
     "execution_count": 21,
     "metadata": {},
     "output_type": "execute_result"
    }
   ],
   "source": [
    "train[get_cols(train, \"size\")].describe()"
   ]
  },
  {
   "cell_type": "code",
   "execution_count": 22,
   "id": "f89604cf-26b9-45e8-88a1-a8bc1b03fdc1",
   "metadata": {
    "tags": []
   },
   "outputs": [
    {
     "name": "stdout",
     "output_type": "stream",
     "text": [
      "CPU times: user 182 ms, sys: 144 ms, total: 326 ms\n",
      "Wall time: 323 ms\n"
     ]
    }
   ],
   "source": [
    "%%time\n",
    "train = clip_df(train, price_clippers=price_clippers, volume_clippers=volume_clippers)"
   ]
  },
  {
   "cell_type": "code",
   "execution_count": 23,
   "id": "9c7b16ef-fd3e-4694-881a-80fd328d7c94",
   "metadata": {},
   "outputs": [
    {
     "data": {
      "text/html": [
       "<div>\n",
       "<style scoped>\n",
       "    .dataframe tbody tr th:only-of-type {\n",
       "        vertical-align: middle;\n",
       "    }\n",
       "\n",
       "    .dataframe tbody tr th {\n",
       "        vertical-align: top;\n",
       "    }\n",
       "\n",
       "    .dataframe thead th {\n",
       "        text-align: right;\n",
       "    }\n",
       "</style>\n",
       "<table border=\"1\" class=\"dataframe\">\n",
       "  <thead>\n",
       "    <tr style=\"text-align: right;\">\n",
       "      <th></th>\n",
       "      <th>imb_size</th>\n",
       "      <th>matched_size</th>\n",
       "      <th>bid_size</th>\n",
       "      <th>ask_size</th>\n",
       "    </tr>\n",
       "  </thead>\n",
       "  <tbody>\n",
       "    <tr>\n",
       "      <th>count</th>\n",
       "      <td>5,237,760</td>\n",
       "      <td>5,237,760</td>\n",
       "      <td>5,237,980</td>\n",
       "      <td>5,237,980</td>\n",
       "    </tr>\n",
       "    <tr>\n",
       "      <th>mean</th>\n",
       "      <td>5,687,389</td>\n",
       "      <td>44,978,084</td>\n",
       "      <td>51,576</td>\n",
       "      <td>53,208</td>\n",
       "    </tr>\n",
       "    <tr>\n",
       "      <th>std</th>\n",
       "      <td>18,984,529</td>\n",
       "      <td>135,028,233</td>\n",
       "      <td>94,601</td>\n",
       "      <td>98,628</td>\n",
       "    </tr>\n",
       "    <tr>\n",
       "      <th>min</th>\n",
       "      <td>0</td>\n",
       "      <td>4,317</td>\n",
       "      <td>0</td>\n",
       "      <td>0</td>\n",
       "    </tr>\n",
       "    <tr>\n",
       "      <th>25%</th>\n",
       "      <td>84,534</td>\n",
       "      <td>5,279,575</td>\n",
       "      <td>7,375</td>\n",
       "      <td>7,824</td>\n",
       "    </tr>\n",
       "    <tr>\n",
       "      <th>50%</th>\n",
       "      <td>1,113,604</td>\n",
       "      <td>12,882,638</td>\n",
       "      <td>21,969</td>\n",
       "      <td>23,018</td>\n",
       "    </tr>\n",
       "    <tr>\n",
       "      <th>75%</th>\n",
       "      <td>4,190,951</td>\n",
       "      <td>32,700,130</td>\n",
       "      <td>55,832</td>\n",
       "      <td>57,878</td>\n",
       "    </tr>\n",
       "    <tr>\n",
       "      <th>max</th>\n",
       "      <td>587,223,000</td>\n",
       "      <td>4,502,560,000</td>\n",
       "      <td>2,392,000</td>\n",
       "      <td>2,755,000</td>\n",
       "    </tr>\n",
       "  </tbody>\n",
       "</table>\n",
       "</div>"
      ],
      "text/plain": [
       "         imb_size  matched_size  bid_size  ask_size\n",
       "count   5,237,760     5,237,760 5,237,980 5,237,980\n",
       "mean    5,687,389    44,978,084    51,576    53,208\n",
       "std    18,984,529   135,028,233    94,601    98,628\n",
       "min             0         4,317         0         0\n",
       "25%        84,534     5,279,575     7,375     7,824\n",
       "50%     1,113,604    12,882,638    21,969    23,018\n",
       "75%     4,190,951    32,700,130    55,832    57,878\n",
       "max   587,223,000 4,502,560,000 2,392,000 2,755,000"
      ]
     },
     "execution_count": 23,
     "metadata": {},
     "output_type": "execute_result"
    }
   ],
   "source": [
    "train[get_cols(train, \"size\")].describe()"
   ]
  },
  {
   "cell_type": "markdown",
   "id": "0cf2e3b6-292e-4ca9-a361-0b992fe0f819",
   "metadata": {},
   "source": [
    "- Simple clipping is done successfully :)"
   ]
  },
  {
   "cell_type": "code",
   "execution_count": 24,
   "id": "da52eac3-1c31-4ccc-ba6d-41981353e1aa",
   "metadata": {},
   "outputs": [],
   "source": [
    "pd.reset_option(\"display.float_format\")"
   ]
  },
  {
   "cell_type": "code",
   "execution_count": 25,
   "id": "6afd7806-c243-402a-82e3-a042168defef",
   "metadata": {},
   "outputs": [
    {
     "name": "stdout",
     "output_type": "stream",
     "text": [
      "CPU times: user 1.47 s, sys: 39.4 ms, total: 1.51 s\n",
      "Wall time: 1.4 s\n"
     ]
    }
   ],
   "source": [
    "%%time\n",
    "train.to_parquet(f'{DATA_DIR}/optiver-train-data/clipped_train.parquet')"
   ]
  },
  {
   "cell_type": "code",
   "execution_count": 26,
   "id": "e6b9d108-a496-4319-a575-dc6f14f37660",
   "metadata": {},
   "outputs": [
    {
     "data": {
      "text/plain": [
       "['../data//optiver-preprocess-helpers/volume_clippers.pkl']"
      ]
     },
     "execution_count": 26,
     "metadata": {},
     "output_type": "execute_result"
    }
   ],
   "source": [
    "joblib.dump(price_clippers, f\"{DATA_DIR}/optiver-preprocess-helpers/price_clippers.pkl\")\n",
    "joblib.dump(volume_clippers, f\"{DATA_DIR}/optiver-preprocess-helpers/volume_clippers.pkl\")"
   ]
  },
  {
   "cell_type": "markdown",
   "id": "80469776-e086-4145-ab34-ff27a7c57a38",
   "metadata": {},
   "source": [
    "# Reference Data Extraction "
   ]
  },
  {
   "cell_type": "code",
   "execution_count": null,
   "id": "f72eafa9-8606-4c0b-b19f-98703a412f0b",
   "metadata": {},
   "outputs": [],
   "source": []
  }
 ],
 "metadata": {
  "kernelspec": {
   "display_name": "optiver",
   "language": "python",
   "name": "optiver"
  },
  "language_info": {
   "codemirror_mode": {
    "name": "ipython",
    "version": 3
   },
   "file_extension": ".py",
   "mimetype": "text/x-python",
   "name": "python",
   "nbconvert_exporter": "python",
   "pygments_lexer": "ipython3",
   "version": "3.10.0"
  },
  "toc-autonumbering": true
 },
 "nbformat": 4,
 "nbformat_minor": 5
}
