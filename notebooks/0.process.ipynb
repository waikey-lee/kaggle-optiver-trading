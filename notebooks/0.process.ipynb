{
 "cells": [
  {
   "cell_type": "markdown",
   "id": "f41fed03-9c02-4ae2-9f62-803067f2c38e",
   "metadata": {},
   "source": [
    "# Setup"
   ]
  },
  {
   "cell_type": "code",
   "execution_count": 18,
   "id": "dae926f5-1e89-4719-9e09-5d3d18d4d47f",
   "metadata": {},
   "outputs": [],
   "source": [
    "import sys\n",
    "# sys.path.append(\"/kaggle/input/python-helpers/\") # Comment this out when you are not in Kaggle kernel\n",
    "sys.path.append(\"../\") # Comment this out when you are not in local environment\n",
    "import utils\n",
    "from utils import (\n",
    "    # General Functions\n",
    "    check_memory_usage, check_memory_by_global_variable, # For memory handling\n",
    "    get_time_now, cprint, # For logging\n",
    "    get_cols, downcast_to_32bit, my_concat, my_power, my_log, list_diff, # For preprocessing\n",
    "    plot_feature_importance, plot_scatterplot, # For visualization\n",
    "    get_feature_summary, # For feature engineering & feature selection\n",
    "    check_auc, plot_heatmap, # For EDA\n",
    "    # Competition Constants\n",
    "    META_COLUMNS, \n",
    "    # Competition Functions\n",
    "    filter_df, sort_df, check_target_dependency, # EDA\n",
    "    calculate_psi, # Validation\n",
    "    train_lgbm, # Model Training\n",
    "    clean_df, get_price_clippers, get_volume_clippers, clip_df, # Pre-processing: Clean & Clip\n",
    "    calc_robust_scale, calc_std_scale, scale_base_columns,  # Pre-processing: Scaling\n",
    "    setup_validation_zip, # Simulation\n",
    "    lgbm_inference_by_batch, # Inference\n",
    "    zero_sum, # Post-processing\n",
    ")\n",
    "from utils import (\n",
    "    get_master_daily_target_data, generate_interday_target_features, \n",
    "    get_master_daily_price_data, generate_interday_price_features, \n",
    "    get_master_daily_volume_data, generate_interday_volume_features\n",
    ")"
   ]
  },
  {
   "cell_type": "code",
   "execution_count": 19,
   "id": "f8ed829d-a584-4ac4-a5ca-1919641dd9d5",
   "metadata": {},
   "outputs": [],
   "source": [
    "import gc\n",
    "import joblib\n",
    "import matplotlib.pyplot as plt\n",
    "import numpy as np\n",
    "import pandas as pd\n",
    "import seaborn as sns\n",
    "from itertools import chain, repeat\n",
    "from tqdm import tqdm\n",
    "tqdm.pandas()"
   ]
  },
  {
   "cell_type": "code",
   "execution_count": 20,
   "id": "ab83df4e-0753-4abc-8e52-99e3d94ff82c",
   "metadata": {},
   "outputs": [
    {
     "name": "stdout",
     "output_type": "stream",
     "text": [
      "The autoreload extension is already loaded. To reload it, use:\n",
      "  %reload_ext autoreload\n"
     ]
    }
   ],
   "source": [
    "%load_ext autoreload\n",
    "%autoreload"
   ]
  },
  {
   "cell_type": "code",
   "execution_count": 21,
   "id": "502fbb0b-93f4-4384-9cb9-fedfdec611ac",
   "metadata": {},
   "outputs": [],
   "source": [
    "# This should be equivalent to '/kaggle/input' in kaggel environment\n",
    "# Meaning to say, we should place our working data folder same as the Kaggle datasets structure to make our life easier\n",
    "DATA_DIR = '../data/'"
   ]
  },
  {
   "cell_type": "code",
   "execution_count": 22,
   "id": "d575be7f-25ac-42a7-bee9-27605f28e0d0",
   "metadata": {},
   "outputs": [
    {
     "name": "stdout",
     "output_type": "stream",
     "text": [
      "CPU times: user 3.89 s, sys: 1.11 s, total: 5 s\n",
      "Wall time: 5.75 s\n"
     ]
    }
   ],
   "source": [
    "%%time\n",
    "train = pd.read_csv(f\"{DATA_DIR}/optiver-trading-at-the-close/train.csv\")"
   ]
  },
  {
   "cell_type": "code",
   "execution_count": 23,
   "id": "b9cb266c-4010-424b-a063-d3f6880d0cdb",
   "metadata": {
    "tags": []
   },
   "outputs": [
    {
     "name": "stdout",
     "output_type": "stream",
     "text": [
      "CPU times: user 1.75 s, sys: 139 ms, total: 1.89 s\n",
      "Wall time: 1.73 s\n"
     ]
    }
   ],
   "source": [
    "%%time\n",
    "train.to_parquet(f'{DATA_DIR}/optiver-train-data/raw_train.parquet')"
   ]
  },
  {
   "cell_type": "markdown",
   "id": "c1d6c89c-85ff-4a41-86c1-b90b2aea2cbf",
   "metadata": {},
   "source": [
    "# Prepare Data Zip for loop data pipeline"
   ]
  },
  {
   "cell_type": "markdown",
   "id": "8d4d75a9-00bb-45e9-82d1-c95b94721d0f",
   "metadata": {},
   "source": [
    "## For validation data"
   ]
  },
  {
   "cell_type": "code",
   "execution_count": 24,
   "id": "a51c7bb1-70e7-4edb-be30-b42a5eeeb3fd",
   "metadata": {},
   "outputs": [],
   "source": [
    "# val_iter_zip = setup_validation_zip(data_dir=DATA_DIR, val_start_date=435, val_end_date=480)\n",
    "# joblib.dump(val_iter_zip, f'{DATA_DIR}/optiver-train-data/iter_val_subset.pkl')"
   ]
  },
  {
   "cell_type": "markdown",
   "id": "bbbef479-7710-4f22-a7b4-9579cdd55433",
   "metadata": {},
   "source": [
    "# Simple Cleaning\n",
    "Steps:\n",
    "- Remove columns\n",
    "- Downcast DataType\n",
    "- Rename columns\n",
    "- Remove stock-date pairs with missing data (exclude far_price and near_price)\n",
    "\n",
    "Further Enhancements:\n",
    "- Not sure if we could use row_id & time_id to ease our preprocessing, but atm just drop both of them"
   ]
  },
  {
   "cell_type": "code",
   "execution_count": 25,
   "id": "e3ae17f7-f8dc-40db-972a-e113810fd4b0",
   "metadata": {},
   "outputs": [],
   "source": [
    "missing_stock_dates = joblib.load(f\"{DATA_DIR}/optiver-preprocess-helpers/missing_stock_dates.pkl\")"
   ]
  },
  {
   "cell_type": "code",
   "execution_count": 26,
   "id": "03e37c76-fbaa-4589-b513-c6af7ba8c1a6",
   "metadata": {},
   "outputs": [
    {
     "name": "stdout",
     "output_type": "stream",
     "text": [
      "(5237980, 17)\n"
     ]
    },
    {
     "data": {
      "text/html": [
       "<div>\n",
       "<style scoped>\n",
       "    .dataframe tbody tr th:only-of-type {\n",
       "        vertical-align: middle;\n",
       "    }\n",
       "\n",
       "    .dataframe tbody tr th {\n",
       "        vertical-align: top;\n",
       "    }\n",
       "\n",
       "    .dataframe thead th {\n",
       "        text-align: right;\n",
       "    }\n",
       "</style>\n",
       "<table border=\"1\" class=\"dataframe\">\n",
       "  <thead>\n",
       "    <tr style=\"text-align: right;\">\n",
       "      <th></th>\n",
       "      <th>stock_id</th>\n",
       "      <th>date_id</th>\n",
       "      <th>seconds_in_bucket</th>\n",
       "      <th>imbalance_size</th>\n",
       "      <th>imbalance_buy_sell_flag</th>\n",
       "      <th>reference_price</th>\n",
       "      <th>matched_size</th>\n",
       "      <th>far_price</th>\n",
       "      <th>near_price</th>\n",
       "      <th>bid_price</th>\n",
       "      <th>bid_size</th>\n",
       "      <th>ask_price</th>\n",
       "      <th>ask_size</th>\n",
       "      <th>wap</th>\n",
       "      <th>target</th>\n",
       "      <th>time_id</th>\n",
       "      <th>row_id</th>\n",
       "    </tr>\n",
       "  </thead>\n",
       "  <tbody>\n",
       "    <tr>\n",
       "      <th>0</th>\n",
       "      <td>0</td>\n",
       "      <td>0</td>\n",
       "      <td>0</td>\n",
       "      <td>3,180,603</td>\n",
       "      <td>1</td>\n",
       "      <td>1</td>\n",
       "      <td>13,380,277</td>\n",
       "      <td>NaN</td>\n",
       "      <td>NaN</td>\n",
       "      <td>1</td>\n",
       "      <td>60,652</td>\n",
       "      <td>1</td>\n",
       "      <td>8,493</td>\n",
       "      <td>1</td>\n",
       "      <td>-3</td>\n",
       "      <td>0</td>\n",
       "      <td>0_0_0</td>\n",
       "    </tr>\n",
       "    <tr>\n",
       "      <th>1</th>\n",
       "      <td>1</td>\n",
       "      <td>0</td>\n",
       "      <td>0</td>\n",
       "      <td>166,604</td>\n",
       "      <td>-1</td>\n",
       "      <td>1</td>\n",
       "      <td>1,642,214</td>\n",
       "      <td>NaN</td>\n",
       "      <td>NaN</td>\n",
       "      <td>1</td>\n",
       "      <td>3,233</td>\n",
       "      <td>1</td>\n",
       "      <td>20,605</td>\n",
       "      <td>1</td>\n",
       "      <td>-6</td>\n",
       "      <td>0</td>\n",
       "      <td>0_0_1</td>\n",
       "    </tr>\n",
       "    <tr>\n",
       "      <th>2</th>\n",
       "      <td>2</td>\n",
       "      <td>0</td>\n",
       "      <td>0</td>\n",
       "      <td>302,880</td>\n",
       "      <td>-1</td>\n",
       "      <td>1</td>\n",
       "      <td>1,819,368</td>\n",
       "      <td>NaN</td>\n",
       "      <td>NaN</td>\n",
       "      <td>1</td>\n",
       "      <td>37,956</td>\n",
       "      <td>1</td>\n",
       "      <td>18,995</td>\n",
       "      <td>1</td>\n",
       "      <td>-8</td>\n",
       "      <td>0</td>\n",
       "      <td>0_0_2</td>\n",
       "    </tr>\n",
       "    <tr>\n",
       "      <th>3</th>\n",
       "      <td>3</td>\n",
       "      <td>0</td>\n",
       "      <td>0</td>\n",
       "      <td>11,917,682</td>\n",
       "      <td>-1</td>\n",
       "      <td>1</td>\n",
       "      <td>18,389,746</td>\n",
       "      <td>NaN</td>\n",
       "      <td>NaN</td>\n",
       "      <td>1</td>\n",
       "      <td>2,325</td>\n",
       "      <td>1</td>\n",
       "      <td>479,032</td>\n",
       "      <td>1</td>\n",
       "      <td>-4</td>\n",
       "      <td>0</td>\n",
       "      <td>0_0_3</td>\n",
       "    </tr>\n",
       "    <tr>\n",
       "      <th>4</th>\n",
       "      <td>4</td>\n",
       "      <td>0</td>\n",
       "      <td>0</td>\n",
       "      <td>447,550</td>\n",
       "      <td>-1</td>\n",
       "      <td>1</td>\n",
       "      <td>17,860,615</td>\n",
       "      <td>NaN</td>\n",
       "      <td>NaN</td>\n",
       "      <td>1</td>\n",
       "      <td>16,486</td>\n",
       "      <td>1</td>\n",
       "      <td>434</td>\n",
       "      <td>1</td>\n",
       "      <td>-7</td>\n",
       "      <td>0</td>\n",
       "      <td>0_0_4</td>\n",
       "    </tr>\n",
       "  </tbody>\n",
       "</table>\n",
       "</div>"
      ],
      "text/plain": [
       "   stock_id  date_id  seconds_in_bucket  imbalance_size  \\\n",
       "0         0        0                  0       3,180,603   \n",
       "1         1        0                  0         166,604   \n",
       "2         2        0                  0         302,880   \n",
       "3         3        0                  0      11,917,682   \n",
       "4         4        0                  0         447,550   \n",
       "\n",
       "   imbalance_buy_sell_flag  reference_price  matched_size  far_price  \\\n",
       "0                        1                1    13,380,277        NaN   \n",
       "1                       -1                1     1,642,214        NaN   \n",
       "2                       -1                1     1,819,368        NaN   \n",
       "3                       -1                1    18,389,746        NaN   \n",
       "4                       -1                1    17,860,615        NaN   \n",
       "\n",
       "   near_price  bid_price  bid_size  ask_price  ask_size  wap  target  time_id  \\\n",
       "0         NaN          1    60,652          1     8,493    1      -3        0   \n",
       "1         NaN          1     3,233          1    20,605    1      -6        0   \n",
       "2         NaN          1    37,956          1    18,995    1      -8        0   \n",
       "3         NaN          1     2,325          1   479,032    1      -4        0   \n",
       "4         NaN          1    16,486          1       434    1      -7        0   \n",
       "\n",
       "  row_id  \n",
       "0  0_0_0  \n",
       "1  0_0_1  \n",
       "2  0_0_2  \n",
       "3  0_0_3  \n",
       "4  0_0_4  "
      ]
     },
     "execution_count": 26,
     "metadata": {},
     "output_type": "execute_result"
    }
   ],
   "source": [
    "print(train.shape)\n",
    "train.head()"
   ]
  },
  {
   "cell_type": "code",
   "execution_count": 27,
   "id": "9e2da630-8940-4d5f-a74e-1ee22acc4094",
   "metadata": {},
   "outputs": [
    {
     "name": "stdout",
     "output_type": "stream",
     "text": [
      "CPU times: user 199 ms, sys: 295 ms, total: 494 ms\n",
      "Wall time: 519 ms\n"
     ]
    }
   ],
   "source": [
    "%%time\n",
    "train = clean_df(train, missing_stock_dates=missing_stock_dates)"
   ]
  },
  {
   "cell_type": "code",
   "execution_count": 28,
   "id": "3caa4f15-2c4d-4869-9f2a-401d17445f38",
   "metadata": {},
   "outputs": [
    {
     "name": "stdout",
     "output_type": "stream",
     "text": [
      "(5237760, 15)\n"
     ]
    },
    {
     "data": {
      "text/html": [
       "<div>\n",
       "<style scoped>\n",
       "    .dataframe tbody tr th:only-of-type {\n",
       "        vertical-align: middle;\n",
       "    }\n",
       "\n",
       "    .dataframe tbody tr th {\n",
       "        vertical-align: top;\n",
       "    }\n",
       "\n",
       "    .dataframe thead th {\n",
       "        text-align: right;\n",
       "    }\n",
       "</style>\n",
       "<table border=\"1\" class=\"dataframe\">\n",
       "  <thead>\n",
       "    <tr style=\"text-align: right;\">\n",
       "      <th></th>\n",
       "      <th>stock_id</th>\n",
       "      <th>date_id</th>\n",
       "      <th>seconds</th>\n",
       "      <th>imb_size</th>\n",
       "      <th>imb_flag</th>\n",
       "      <th>ref_price</th>\n",
       "      <th>matched_size</th>\n",
       "      <th>far_price</th>\n",
       "      <th>near_price</th>\n",
       "      <th>bid_price</th>\n",
       "      <th>bid_size</th>\n",
       "      <th>ask_price</th>\n",
       "      <th>ask_size</th>\n",
       "      <th>wa_price</th>\n",
       "      <th>target</th>\n",
       "    </tr>\n",
       "  </thead>\n",
       "  <tbody>\n",
       "    <tr>\n",
       "      <th>0</th>\n",
       "      <td>0</td>\n",
       "      <td>0</td>\n",
       "      <td>0</td>\n",
       "      <td>3,180,603</td>\n",
       "      <td>1</td>\n",
       "      <td>1</td>\n",
       "      <td>13,380,277</td>\n",
       "      <td>NaN</td>\n",
       "      <td>NaN</td>\n",
       "      <td>1</td>\n",
       "      <td>60,652</td>\n",
       "      <td>1</td>\n",
       "      <td>8,493</td>\n",
       "      <td>1</td>\n",
       "      <td>-3</td>\n",
       "    </tr>\n",
       "    <tr>\n",
       "      <th>1</th>\n",
       "      <td>1</td>\n",
       "      <td>0</td>\n",
       "      <td>0</td>\n",
       "      <td>-166,604</td>\n",
       "      <td>-1</td>\n",
       "      <td>1</td>\n",
       "      <td>1,642,214</td>\n",
       "      <td>NaN</td>\n",
       "      <td>NaN</td>\n",
       "      <td>1</td>\n",
       "      <td>3,233</td>\n",
       "      <td>1</td>\n",
       "      <td>20,605</td>\n",
       "      <td>1</td>\n",
       "      <td>-6</td>\n",
       "    </tr>\n",
       "    <tr>\n",
       "      <th>2</th>\n",
       "      <td>2</td>\n",
       "      <td>0</td>\n",
       "      <td>0</td>\n",
       "      <td>-302,880</td>\n",
       "      <td>-1</td>\n",
       "      <td>1</td>\n",
       "      <td>1,819,368</td>\n",
       "      <td>NaN</td>\n",
       "      <td>NaN</td>\n",
       "      <td>1</td>\n",
       "      <td>37,956</td>\n",
       "      <td>1</td>\n",
       "      <td>18,995</td>\n",
       "      <td>1</td>\n",
       "      <td>-8</td>\n",
       "    </tr>\n",
       "    <tr>\n",
       "      <th>3</th>\n",
       "      <td>3</td>\n",
       "      <td>0</td>\n",
       "      <td>0</td>\n",
       "      <td>-11,917,682</td>\n",
       "      <td>-1</td>\n",
       "      <td>1</td>\n",
       "      <td>18,389,746</td>\n",
       "      <td>NaN</td>\n",
       "      <td>NaN</td>\n",
       "      <td>1</td>\n",
       "      <td>2,325</td>\n",
       "      <td>1</td>\n",
       "      <td>479,032</td>\n",
       "      <td>1</td>\n",
       "      <td>-4</td>\n",
       "    </tr>\n",
       "    <tr>\n",
       "      <th>4</th>\n",
       "      <td>4</td>\n",
       "      <td>0</td>\n",
       "      <td>0</td>\n",
       "      <td>-447,550</td>\n",
       "      <td>-1</td>\n",
       "      <td>1</td>\n",
       "      <td>17,860,614</td>\n",
       "      <td>NaN</td>\n",
       "      <td>NaN</td>\n",
       "      <td>1</td>\n",
       "      <td>16,486</td>\n",
       "      <td>1</td>\n",
       "      <td>434</td>\n",
       "      <td>1</td>\n",
       "      <td>-7</td>\n",
       "    </tr>\n",
       "  </tbody>\n",
       "</table>\n",
       "</div>"
      ],
      "text/plain": [
       "   stock_id  date_id  seconds    imb_size  imb_flag  ref_price  matched_size  \\\n",
       "0         0        0        0   3,180,603         1          1    13,380,277   \n",
       "1         1        0        0    -166,604        -1          1     1,642,214   \n",
       "2         2        0        0    -302,880        -1          1     1,819,368   \n",
       "3         3        0        0 -11,917,682        -1          1    18,389,746   \n",
       "4         4        0        0    -447,550        -1          1    17,860,614   \n",
       "\n",
       "   far_price  near_price  bid_price  bid_size  ask_price  ask_size  wa_price  \\\n",
       "0        NaN         NaN          1    60,652          1     8,493         1   \n",
       "1        NaN         NaN          1     3,233          1    20,605         1   \n",
       "2        NaN         NaN          1    37,956          1    18,995         1   \n",
       "3        NaN         NaN          1     2,325          1   479,032         1   \n",
       "4        NaN         NaN          1    16,486          1       434         1   \n",
       "\n",
       "   target  \n",
       "0      -3  \n",
       "1      -6  \n",
       "2      -8  \n",
       "3      -4  \n",
       "4      -7  "
      ]
     },
     "execution_count": 28,
     "metadata": {},
     "output_type": "execute_result"
    }
   ],
   "source": [
    "print(train.shape)\n",
    "train.head()"
   ]
  },
  {
   "cell_type": "markdown",
   "id": "d724ccdd-6d48-4f30-be93-9c401a2896e7",
   "metadata": {},
   "source": [
    "- Simple cleaning is done successfully :)"
   ]
  },
  {
   "cell_type": "code",
   "execution_count": 29,
   "id": "a32ded82-80f9-4566-8c0b-bb0f7cd040eb",
   "metadata": {
    "tags": []
   },
   "outputs": [
    {
     "name": "stdout",
     "output_type": "stream",
     "text": [
      "CPU times: user 1.17 s, sys: 53.2 ms, total: 1.22 s\n",
      "Wall time: 1.13 s\n"
     ]
    }
   ],
   "source": [
    "%%time\n",
    "train.to_parquet(f'{DATA_DIR}/optiver-train-data/cleaned_train.parquet')"
   ]
  },
  {
   "cell_type": "markdown",
   "id": "ad669b18-9848-4b87-9cee-be8d3ad82e8f",
   "metadata": {},
   "source": [
    "# Simple Clipping"
   ]
  },
  {
   "cell_type": "markdown",
   "id": "6cf6afb1-4c4d-47d8-9216-ce7d614d2631",
   "metadata": {},
   "source": [
    "Steps:\n",
    "- ~Clip price columns from both tails~ Since I tau the benchmark is wap=1 at seconds 0, so the prices are relative aldy, no need to clip I think\n",
    "- ~Clip volume columns from upper tail~\n",
    "- Clip target column from both tails\n",
    "- Create 2 extra binary target columns (Not sure if these are useful)\n",
    "\n",
    "Further Enhancements:\n",
    "- To implement stock-based clipping instead of global clipping, because some stock might have high trading volumes / higher volatility?\n",
    "- By defining the bound using outlier factor instead of simple percentile for all [price / volume] columns?"
   ]
  },
  {
   "cell_type": "code",
   "execution_count": 30,
   "id": "b102cac6-6a56-4e60-b534-58f928fd2f01",
   "metadata": {
    "tags": []
   },
   "outputs": [],
   "source": [
    "# base_price_cols = get_cols(train, contains=\"price\")\n",
    "# price_clippers = get_price_clippers(train, base_price_cols)"
   ]
  },
  {
   "cell_type": "code",
   "execution_count": 31,
   "id": "e02025ff-b7c5-4e3c-8484-12d08fdf9925",
   "metadata": {
    "tags": []
   },
   "outputs": [],
   "source": [
    "# base_volume_cols = get_cols(train, contains=\"size\")\n",
    "# volume_clippers = get_volume_clippers(train, base_volume_cols)"
   ]
  },
  {
   "cell_type": "code",
   "execution_count": 39,
   "id": "58558ce3-67a5-4103-991c-a254aa89d905",
   "metadata": {},
   "outputs": [],
   "source": [
    "# Set the float formatting options\n",
    "pd.options.display.float_format = lambda x: f\"{x:,.0f}\""
   ]
  },
  {
   "cell_type": "code",
   "execution_count": 40,
   "id": "4262b974-27ae-4211-8ee5-811c4d0b6fc0",
   "metadata": {},
   "outputs": [
    {
     "data": {
      "text/html": [
       "<div>\n",
       "<style scoped>\n",
       "    .dataframe tbody tr th:only-of-type {\n",
       "        vertical-align: middle;\n",
       "    }\n",
       "\n",
       "    .dataframe tbody tr th {\n",
       "        vertical-align: top;\n",
       "    }\n",
       "\n",
       "    .dataframe thead th {\n",
       "        text-align: right;\n",
       "    }\n",
       "</style>\n",
       "<table border=\"1\" class=\"dataframe\">\n",
       "  <thead>\n",
       "    <tr style=\"text-align: right;\">\n",
       "      <th></th>\n",
       "      <th>target</th>\n",
       "      <th>clipped_target</th>\n",
       "      <th>is_positive_target</th>\n",
       "      <th>is_mild_target</th>\n",
       "    </tr>\n",
       "  </thead>\n",
       "  <tbody>\n",
       "    <tr>\n",
       "      <th>count</th>\n",
       "      <td>5,237,760</td>\n",
       "      <td>5,237,760</td>\n",
       "      <td>5,237,760</td>\n",
       "      <td>5,237,760</td>\n",
       "    </tr>\n",
       "    <tr>\n",
       "      <th>mean</th>\n",
       "      <td>-0</td>\n",
       "      <td>-0</td>\n",
       "      <td>0</td>\n",
       "      <td>1</td>\n",
       "    </tr>\n",
       "    <tr>\n",
       "      <th>std</th>\n",
       "      <td>9</td>\n",
       "      <td>9</td>\n",
       "      <td>0</td>\n",
       "      <td>0</td>\n",
       "    </tr>\n",
       "    <tr>\n",
       "      <th>min</th>\n",
       "      <td>-385</td>\n",
       "      <td>-100</td>\n",
       "      <td>0</td>\n",
       "      <td>0</td>\n",
       "    </tr>\n",
       "    <tr>\n",
       "      <th>25%</th>\n",
       "      <td>-5</td>\n",
       "      <td>-5</td>\n",
       "      <td>0</td>\n",
       "      <td>0</td>\n",
       "    </tr>\n",
       "    <tr>\n",
       "      <th>50%</th>\n",
       "      <td>-0</td>\n",
       "      <td>-0</td>\n",
       "      <td>0</td>\n",
       "      <td>1</td>\n",
       "    </tr>\n",
       "    <tr>\n",
       "      <th>75%</th>\n",
       "      <td>4</td>\n",
       "      <td>4</td>\n",
       "      <td>1</td>\n",
       "      <td>1</td>\n",
       "    </tr>\n",
       "    <tr>\n",
       "      <th>max</th>\n",
       "      <td>446</td>\n",
       "      <td>100</td>\n",
       "      <td>1</td>\n",
       "      <td>1</td>\n",
       "    </tr>\n",
       "  </tbody>\n",
       "</table>\n",
       "</div>"
      ],
      "text/plain": [
       "         target  clipped_target  is_positive_target  is_mild_target\n",
       "count 5,237,760       5,237,760           5,237,760       5,237,760\n",
       "mean         -0              -0                   0               1\n",
       "std           9               9                   0               0\n",
       "min        -385            -100                   0               0\n",
       "25%          -5              -5                   0               0\n",
       "50%          -0              -0                   0               1\n",
       "75%           4               4                   1               1\n",
       "max         446             100                   1               1"
      ]
     },
     "execution_count": 40,
     "metadata": {},
     "output_type": "execute_result"
    }
   ],
   "source": [
    "train[get_cols(train, \"target\")].describe()"
   ]
  },
  {
   "cell_type": "code",
   "execution_count": 41,
   "id": "f89604cf-26b9-45e8-88a1-a8bc1b03fdc1",
   "metadata": {
    "tags": []
   },
   "outputs": [
    {
     "name": "stdout",
     "output_type": "stream",
     "text": [
      "CPU times: user 29.5 ms, sys: 28.2 ms, total: 57.7 ms\n",
      "Wall time: 57.3 ms\n"
     ]
    }
   ],
   "source": [
    "%%time\n",
    "train = clip_df(train)"
   ]
  },
  {
   "cell_type": "code",
   "execution_count": 43,
   "id": "9c7b16ef-fd3e-4694-881a-80fd328d7c94",
   "metadata": {},
   "outputs": [
    {
     "data": {
      "text/html": [
       "<div>\n",
       "<style scoped>\n",
       "    .dataframe tbody tr th:only-of-type {\n",
       "        vertical-align: middle;\n",
       "    }\n",
       "\n",
       "    .dataframe tbody tr th {\n",
       "        vertical-align: top;\n",
       "    }\n",
       "\n",
       "    .dataframe thead th {\n",
       "        text-align: right;\n",
       "    }\n",
       "</style>\n",
       "<table border=\"1\" class=\"dataframe\">\n",
       "  <thead>\n",
       "    <tr style=\"text-align: right;\">\n",
       "      <th></th>\n",
       "      <th>target</th>\n",
       "      <th>clipped_target</th>\n",
       "      <th>is_positive_target</th>\n",
       "      <th>is_mild_target</th>\n",
       "    </tr>\n",
       "  </thead>\n",
       "  <tbody>\n",
       "    <tr>\n",
       "      <th>count</th>\n",
       "      <td>5,237,760</td>\n",
       "      <td>5,237,760</td>\n",
       "      <td>5,237,760</td>\n",
       "      <td>5,237,760</td>\n",
       "    </tr>\n",
       "    <tr>\n",
       "      <th>mean</th>\n",
       "      <td>-0</td>\n",
       "      <td>-0</td>\n",
       "      <td>0</td>\n",
       "      <td>1</td>\n",
       "    </tr>\n",
       "    <tr>\n",
       "      <th>std</th>\n",
       "      <td>9</td>\n",
       "      <td>9</td>\n",
       "      <td>0</td>\n",
       "      <td>0</td>\n",
       "    </tr>\n",
       "    <tr>\n",
       "      <th>min</th>\n",
       "      <td>-385</td>\n",
       "      <td>-100</td>\n",
       "      <td>0</td>\n",
       "      <td>0</td>\n",
       "    </tr>\n",
       "    <tr>\n",
       "      <th>25%</th>\n",
       "      <td>-5</td>\n",
       "      <td>-5</td>\n",
       "      <td>0</td>\n",
       "      <td>0</td>\n",
       "    </tr>\n",
       "    <tr>\n",
       "      <th>50%</th>\n",
       "      <td>-0</td>\n",
       "      <td>-0</td>\n",
       "      <td>0</td>\n",
       "      <td>1</td>\n",
       "    </tr>\n",
       "    <tr>\n",
       "      <th>75%</th>\n",
       "      <td>4</td>\n",
       "      <td>4</td>\n",
       "      <td>1</td>\n",
       "      <td>1</td>\n",
       "    </tr>\n",
       "    <tr>\n",
       "      <th>max</th>\n",
       "      <td>446</td>\n",
       "      <td>100</td>\n",
       "      <td>1</td>\n",
       "      <td>1</td>\n",
       "    </tr>\n",
       "  </tbody>\n",
       "</table>\n",
       "</div>"
      ],
      "text/plain": [
       "         target  clipped_target  is_positive_target  is_mild_target\n",
       "count 5,237,760       5,237,760           5,237,760       5,237,760\n",
       "mean         -0              -0                   0               1\n",
       "std           9               9                   0               0\n",
       "min        -385            -100                   0               0\n",
       "25%          -5              -5                   0               0\n",
       "50%          -0              -0                   0               1\n",
       "75%           4               4                   1               1\n",
       "max         446             100                   1               1"
      ]
     },
     "execution_count": 43,
     "metadata": {},
     "output_type": "execute_result"
    }
   ],
   "source": [
    "train[get_cols(train, \"target\")].describe()"
   ]
  },
  {
   "cell_type": "code",
   "execution_count": 45,
   "id": "1c7f1fb3-3d0a-450e-80c7-b7f409e50a45",
   "metadata": {},
   "outputs": [],
   "source": [
    "pd.reset_option(\"display.float_format\")"
   ]
  },
  {
   "cell_type": "code",
   "execution_count": 46,
   "id": "8e51fe1b-88e3-4701-844e-021e4f933b0c",
   "metadata": {},
   "outputs": [
    {
     "data": {
      "text/html": [
       "<div>\n",
       "<style scoped>\n",
       "    .dataframe tbody tr th:only-of-type {\n",
       "        vertical-align: middle;\n",
       "    }\n",
       "\n",
       "    .dataframe tbody tr th {\n",
       "        vertical-align: top;\n",
       "    }\n",
       "\n",
       "    .dataframe thead th {\n",
       "        text-align: right;\n",
       "    }\n",
       "</style>\n",
       "<table border=\"1\" class=\"dataframe\">\n",
       "  <thead>\n",
       "    <tr style=\"text-align: right;\">\n",
       "      <th></th>\n",
       "      <th>target</th>\n",
       "      <th>clipped_target</th>\n",
       "      <th>is_positive_target</th>\n",
       "      <th>is_mild_target</th>\n",
       "    </tr>\n",
       "  </thead>\n",
       "  <tbody>\n",
       "    <tr>\n",
       "      <th>count</th>\n",
       "      <td>5.237760e+06</td>\n",
       "      <td>5.237760e+06</td>\n",
       "      <td>5.237760e+06</td>\n",
       "      <td>5.237760e+06</td>\n",
       "    </tr>\n",
       "    <tr>\n",
       "      <th>mean</th>\n",
       "      <td>-4.758888e-02</td>\n",
       "      <td>-4.879543e-02</td>\n",
       "      <td>4.957493e-01</td>\n",
       "      <td>5.009888e-01</td>\n",
       "    </tr>\n",
       "    <tr>\n",
       "      <th>std</th>\n",
       "      <td>9.452816e+00</td>\n",
       "      <td>9.354238e+00</td>\n",
       "      <td>4.999820e-01</td>\n",
       "      <td>4.999991e-01</td>\n",
       "    </tr>\n",
       "    <tr>\n",
       "      <th>min</th>\n",
       "      <td>-3.852898e+02</td>\n",
       "      <td>-1.000000e+02</td>\n",
       "      <td>0.000000e+00</td>\n",
       "      <td>0.000000e+00</td>\n",
       "    </tr>\n",
       "    <tr>\n",
       "      <th>25%</th>\n",
       "      <td>-4.559755e+00</td>\n",
       "      <td>-4.559755e+00</td>\n",
       "      <td>0.000000e+00</td>\n",
       "      <td>0.000000e+00</td>\n",
       "    </tr>\n",
       "    <tr>\n",
       "      <th>50%</th>\n",
       "      <td>-6.020069e-02</td>\n",
       "      <td>-6.020069e-02</td>\n",
       "      <td>0.000000e+00</td>\n",
       "      <td>1.000000e+00</td>\n",
       "    </tr>\n",
       "    <tr>\n",
       "      <th>75%</th>\n",
       "      <td>4.409552e+00</td>\n",
       "      <td>4.409552e+00</td>\n",
       "      <td>1.000000e+00</td>\n",
       "      <td>1.000000e+00</td>\n",
       "    </tr>\n",
       "    <tr>\n",
       "      <th>max</th>\n",
       "      <td>4.460704e+02</td>\n",
       "      <td>1.000000e+02</td>\n",
       "      <td>1.000000e+00</td>\n",
       "      <td>1.000000e+00</td>\n",
       "    </tr>\n",
       "  </tbody>\n",
       "</table>\n",
       "</div>"
      ],
      "text/plain": [
       "             target  clipped_target  is_positive_target  is_mild_target\n",
       "count  5.237760e+06    5.237760e+06        5.237760e+06    5.237760e+06\n",
       "mean  -4.758888e-02   -4.879543e-02        4.957493e-01    5.009888e-01\n",
       "std    9.452816e+00    9.354238e+00        4.999820e-01    4.999991e-01\n",
       "min   -3.852898e+02   -1.000000e+02        0.000000e+00    0.000000e+00\n",
       "25%   -4.559755e+00   -4.559755e+00        0.000000e+00    0.000000e+00\n",
       "50%   -6.020069e-02   -6.020069e-02        0.000000e+00    1.000000e+00\n",
       "75%    4.409552e+00    4.409552e+00        1.000000e+00    1.000000e+00\n",
       "max    4.460704e+02    1.000000e+02        1.000000e+00    1.000000e+00"
      ]
     },
     "execution_count": 46,
     "metadata": {},
     "output_type": "execute_result"
    }
   ],
   "source": [
    "train[get_cols(train, \"target\")].describe()"
   ]
  },
  {
   "cell_type": "markdown",
   "id": "0cf2e3b6-292e-4ca9-a361-0b992fe0f819",
   "metadata": {},
   "source": [
    "- Simple clipping is done successfully :)"
   ]
  },
  {
   "cell_type": "code",
   "execution_count": 47,
   "id": "6afd7806-c243-402a-82e3-a042168defef",
   "metadata": {},
   "outputs": [
    {
     "name": "stdout",
     "output_type": "stream",
     "text": [
      "CPU times: user 1.38 s, sys: 38.2 ms, total: 1.41 s\n",
      "Wall time: 1.3 s\n"
     ]
    }
   ],
   "source": [
    "%%time\n",
    "train.to_parquet(f'{DATA_DIR}/optiver-train-data/clipped_train.parquet')"
   ]
  },
  {
   "cell_type": "code",
   "execution_count": 48,
   "id": "e6b9d108-a496-4319-a575-dc6f14f37660",
   "metadata": {},
   "outputs": [],
   "source": [
    "# joblib.dump(price_clippers, f\"{DATA_DIR}/optiver-preprocess-helpers/price_clippers.pkl\")\n",
    "# joblib.dump(volume_clippers, f\"{DATA_DIR}/optiver-preprocess-helpers/volume_clippers.pkl\")"
   ]
  },
  {
   "cell_type": "code",
   "execution_count": null,
   "id": "c3cd8a53-5dc5-491a-ad9c-208e8695b414",
   "metadata": {},
   "outputs": [],
   "source": []
  }
 ],
 "metadata": {
  "kernelspec": {
   "display_name": "optiver",
   "language": "python",
   "name": "optiver"
  },
  "language_info": {
   "codemirror_mode": {
    "name": "ipython",
    "version": 3
   },
   "file_extension": ".py",
   "mimetype": "text/x-python",
   "name": "python",
   "nbconvert_exporter": "python",
   "pygments_lexer": "ipython3",
   "version": "3.10.0"
  },
  "toc-autonumbering": true
 },
 "nbformat": 4,
 "nbformat_minor": 5
}
