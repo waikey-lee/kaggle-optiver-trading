{
 "cells": [
  {
   "cell_type": "markdown",
   "id": "f41fed03-9c02-4ae2-9f62-803067f2c38e",
   "metadata": {},
   "source": [
    "# Setup"
   ]
  },
  {
   "cell_type": "code",
   "execution_count": 1,
   "id": "dae926f5-1e89-4719-9e09-5d3d18d4d47f",
   "metadata": {},
   "outputs": [],
   "source": [
    "import sys\n",
    "# sys.path.append(\"/kaggle/input/python-helpers/\") # Comment this out when you are not in Kaggle kernel\n",
    "sys.path.append(\"../\") # Comment this out when you are not in local environment\n",
    "import utils\n",
    "from utils import (\n",
    "    # General Functions\n",
    "    check_memory_usage, check_memory_by_global_variable, # For memory handling\n",
    "    get_time_now, cprint, # For logging\n",
    "    get_cols, downcast_to_32bit, my_concat, my_power, my_log, list_diff, # For preprocessing\n",
    "    plot_feature_importance, plot_scatterplot, # For visualization\n",
    "    get_feature_summary, # For feature engineering & feature selection\n",
    "    check_auc, plot_heatmap, # For EDA\n",
    "    # Competition Constants\n",
    "    META_COLUMNS, \n",
    "    # Competition Functions\n",
    "    filter_df, sort_df, check_target_dependency, # EDA\n",
    "    calculate_psi, # Validation\n",
    "    train_lgbm, # Model Training\n",
    "    clean_df, get_price_clippers, get_volume_clippers, clip_df, # Pre-processing: Clean & Clip\n",
    "    calc_robust_scale, calc_std_scale, scale_base_columns,  # Pre-processing: Scaling\n",
    "    setup_validation_zip, # Simulation\n",
    "    lgbm_inference_by_batch, # Inference\n",
    "    zero_sum, # Post-processing\n",
    ")\n",
    "from utils import (\n",
    "    get_master_daily_target_data, generate_interday_target_features, \n",
    "    get_master_daily_price_data, generate_interday_price_features, \n",
    "    get_master_daily_volume_data, generate_interday_volume_features\n",
    ")"
   ]
  },
  {
   "cell_type": "code",
   "execution_count": 2,
   "id": "f8ed829d-a584-4ac4-a5ca-1919641dd9d5",
   "metadata": {},
   "outputs": [],
   "source": [
    "import gc\n",
    "import joblib\n",
    "import matplotlib.pyplot as plt\n",
    "import numpy as np\n",
    "import pandas as pd\n",
    "import seaborn as sns\n",
    "from itertools import chain, repeat\n",
    "from tqdm import tqdm\n",
    "tqdm.pandas()"
   ]
  },
  {
   "cell_type": "code",
   "execution_count": 3,
   "id": "ab83df4e-0753-4abc-8e52-99e3d94ff82c",
   "metadata": {},
   "outputs": [],
   "source": [
    "%load_ext autoreload\n",
    "%autoreload"
   ]
  },
  {
   "cell_type": "code",
   "execution_count": 4,
   "id": "502fbb0b-93f4-4384-9cb9-fedfdec611ac",
   "metadata": {},
   "outputs": [],
   "source": [
    "# This should be equivalent to '/kaggle/input' in kaggel environment\n",
    "# Meaning to say, we should place our working data folder same as the Kaggle datasets structure to make our life easier\n",
    "DATA_DIR = '../data/'"
   ]
  },
  {
   "cell_type": "code",
   "execution_count": 5,
   "id": "d575be7f-25ac-42a7-bee9-27605f28e0d0",
   "metadata": {},
   "outputs": [
    {
     "name": "stdout",
     "output_type": "stream",
     "text": [
      "CPU times: user 4.18 s, sys: 955 ms, total: 5.14 s\n",
      "Wall time: 6.68 s\n"
     ]
    }
   ],
   "source": [
    "%%time\n",
    "train = pd.read_csv(f\"{DATA_DIR}/optiver-trading-at-the-close/train.csv\")"
   ]
  },
  {
   "cell_type": "code",
   "execution_count": 6,
   "id": "b9cb266c-4010-424b-a063-d3f6880d0cdb",
   "metadata": {
    "tags": []
   },
   "outputs": [
    {
     "name": "stdout",
     "output_type": "stream",
     "text": [
      "CPU times: user 1.9 s, sys: 176 ms, total: 2.08 s\n",
      "Wall time: 2.19 s\n"
     ]
    }
   ],
   "source": [
    "%%time\n",
    "train.to_parquet(f'{DATA_DIR}/optiver-train-data/raw_train.parquet')"
   ]
  },
  {
   "cell_type": "markdown",
   "id": "c1d6c89c-85ff-4a41-86c1-b90b2aea2cbf",
   "metadata": {},
   "source": [
    "# Prepare Data Zip for loop data pipeline"
   ]
  },
  {
   "cell_type": "markdown",
   "id": "8d4d75a9-00bb-45e9-82d1-c95b94721d0f",
   "metadata": {},
   "source": [
    "## For validation data"
   ]
  },
  {
   "cell_type": "code",
   "execution_count": 7,
   "id": "a51c7bb1-70e7-4edb-be30-b42a5eeeb3fd",
   "metadata": {},
   "outputs": [],
   "source": [
    "# val_iter_zip = setup_validation_zip(data_dir=DATA_DIR, val_start_date=435, val_end_date=480)\n",
    "# joblib.dump(val_iter_zip, f'{DATA_DIR}/optiver-train-data/iter_val_subset.pkl')"
   ]
  },
  {
   "cell_type": "markdown",
   "id": "bbbef479-7710-4f22-a7b4-9579cdd55433",
   "metadata": {},
   "source": [
    "# Simple Cleaning\n",
    "Steps:\n",
    "- Remove columns\n",
    "- Downcast DataType\n",
    "- Rename columns\n",
    "- Remove stock-date pairs with missing data (exclude far_price and near_price)\n",
    "\n",
    "Further Enhancements:\n",
    "- Not sure if we could use row_id & time_id to ease our preprocessing, but atm just drop both of them"
   ]
  },
  {
   "cell_type": "code",
   "execution_count": 8,
   "id": "e3ae17f7-f8dc-40db-972a-e113810fd4b0",
   "metadata": {},
   "outputs": [],
   "source": [
    "missing_stock_dates = joblib.load(f\"{DATA_DIR}/optiver-preprocess-helpers/missing_stock_dates.pkl\")"
   ]
  },
  {
   "cell_type": "code",
   "execution_count": 9,
   "id": "03e37c76-fbaa-4589-b513-c6af7ba8c1a6",
   "metadata": {},
   "outputs": [
    {
     "name": "stdout",
     "output_type": "stream",
     "text": [
      "(5237980, 17)\n"
     ]
    },
    {
     "data": {
      "text/html": [
       "<div>\n",
       "<style scoped>\n",
       "    .dataframe tbody tr th:only-of-type {\n",
       "        vertical-align: middle;\n",
       "    }\n",
       "\n",
       "    .dataframe tbody tr th {\n",
       "        vertical-align: top;\n",
       "    }\n",
       "\n",
       "    .dataframe thead th {\n",
       "        text-align: right;\n",
       "    }\n",
       "</style>\n",
       "<table border=\"1\" class=\"dataframe\">\n",
       "  <thead>\n",
       "    <tr style=\"text-align: right;\">\n",
       "      <th></th>\n",
       "      <th>stock_id</th>\n",
       "      <th>date_id</th>\n",
       "      <th>seconds_in_bucket</th>\n",
       "      <th>imbalance_size</th>\n",
       "      <th>imbalance_buy_sell_flag</th>\n",
       "      <th>reference_price</th>\n",
       "      <th>matched_size</th>\n",
       "      <th>far_price</th>\n",
       "      <th>near_price</th>\n",
       "      <th>bid_price</th>\n",
       "      <th>bid_size</th>\n",
       "      <th>ask_price</th>\n",
       "      <th>ask_size</th>\n",
       "      <th>wap</th>\n",
       "      <th>target</th>\n",
       "      <th>time_id</th>\n",
       "      <th>row_id</th>\n",
       "    </tr>\n",
       "  </thead>\n",
       "  <tbody>\n",
       "    <tr>\n",
       "      <th>0</th>\n",
       "      <td>0</td>\n",
       "      <td>0</td>\n",
       "      <td>0</td>\n",
       "      <td>3180602.69</td>\n",
       "      <td>1</td>\n",
       "      <td>0.999812</td>\n",
       "      <td>13380276.64</td>\n",
       "      <td>NaN</td>\n",
       "      <td>NaN</td>\n",
       "      <td>0.999812</td>\n",
       "      <td>60651.50</td>\n",
       "      <td>1.000026</td>\n",
       "      <td>8493.03</td>\n",
       "      <td>1.0</td>\n",
       "      <td>-3.029704</td>\n",
       "      <td>0</td>\n",
       "      <td>0_0_0</td>\n",
       "    </tr>\n",
       "    <tr>\n",
       "      <th>1</th>\n",
       "      <td>1</td>\n",
       "      <td>0</td>\n",
       "      <td>0</td>\n",
       "      <td>166603.91</td>\n",
       "      <td>-1</td>\n",
       "      <td>0.999896</td>\n",
       "      <td>1642214.25</td>\n",
       "      <td>NaN</td>\n",
       "      <td>NaN</td>\n",
       "      <td>0.999896</td>\n",
       "      <td>3233.04</td>\n",
       "      <td>1.000660</td>\n",
       "      <td>20605.09</td>\n",
       "      <td>1.0</td>\n",
       "      <td>-5.519986</td>\n",
       "      <td>0</td>\n",
       "      <td>0_0_1</td>\n",
       "    </tr>\n",
       "    <tr>\n",
       "      <th>2</th>\n",
       "      <td>2</td>\n",
       "      <td>0</td>\n",
       "      <td>0</td>\n",
       "      <td>302879.87</td>\n",
       "      <td>-1</td>\n",
       "      <td>0.999561</td>\n",
       "      <td>1819368.03</td>\n",
       "      <td>NaN</td>\n",
       "      <td>NaN</td>\n",
       "      <td>0.999403</td>\n",
       "      <td>37956.00</td>\n",
       "      <td>1.000298</td>\n",
       "      <td>18995.00</td>\n",
       "      <td>1.0</td>\n",
       "      <td>-8.389950</td>\n",
       "      <td>0</td>\n",
       "      <td>0_0_2</td>\n",
       "    </tr>\n",
       "    <tr>\n",
       "      <th>3</th>\n",
       "      <td>3</td>\n",
       "      <td>0</td>\n",
       "      <td>0</td>\n",
       "      <td>11917682.27</td>\n",
       "      <td>-1</td>\n",
       "      <td>1.000171</td>\n",
       "      <td>18389745.62</td>\n",
       "      <td>NaN</td>\n",
       "      <td>NaN</td>\n",
       "      <td>0.999999</td>\n",
       "      <td>2324.90</td>\n",
       "      <td>1.000214</td>\n",
       "      <td>479032.40</td>\n",
       "      <td>1.0</td>\n",
       "      <td>-4.010200</td>\n",
       "      <td>0</td>\n",
       "      <td>0_0_3</td>\n",
       "    </tr>\n",
       "    <tr>\n",
       "      <th>4</th>\n",
       "      <td>4</td>\n",
       "      <td>0</td>\n",
       "      <td>0</td>\n",
       "      <td>447549.96</td>\n",
       "      <td>-1</td>\n",
       "      <td>0.999532</td>\n",
       "      <td>17860614.95</td>\n",
       "      <td>NaN</td>\n",
       "      <td>NaN</td>\n",
       "      <td>0.999394</td>\n",
       "      <td>16485.54</td>\n",
       "      <td>1.000016</td>\n",
       "      <td>434.10</td>\n",
       "      <td>1.0</td>\n",
       "      <td>-7.349849</td>\n",
       "      <td>0</td>\n",
       "      <td>0_0_4</td>\n",
       "    </tr>\n",
       "  </tbody>\n",
       "</table>\n",
       "</div>"
      ],
      "text/plain": [
       "   stock_id  date_id  seconds_in_bucket  imbalance_size  \\\n",
       "0         0        0                  0      3180602.69   \n",
       "1         1        0                  0       166603.91   \n",
       "2         2        0                  0       302879.87   \n",
       "3         3        0                  0     11917682.27   \n",
       "4         4        0                  0       447549.96   \n",
       "\n",
       "   imbalance_buy_sell_flag  reference_price  matched_size  far_price  \\\n",
       "0                        1         0.999812   13380276.64        NaN   \n",
       "1                       -1         0.999896    1642214.25        NaN   \n",
       "2                       -1         0.999561    1819368.03        NaN   \n",
       "3                       -1         1.000171   18389745.62        NaN   \n",
       "4                       -1         0.999532   17860614.95        NaN   \n",
       "\n",
       "   near_price  bid_price  bid_size  ask_price   ask_size  wap    target  \\\n",
       "0         NaN   0.999812  60651.50   1.000026    8493.03  1.0 -3.029704   \n",
       "1         NaN   0.999896   3233.04   1.000660   20605.09  1.0 -5.519986   \n",
       "2         NaN   0.999403  37956.00   1.000298   18995.00  1.0 -8.389950   \n",
       "3         NaN   0.999999   2324.90   1.000214  479032.40  1.0 -4.010200   \n",
       "4         NaN   0.999394  16485.54   1.000016     434.10  1.0 -7.349849   \n",
       "\n",
       "   time_id row_id  \n",
       "0        0  0_0_0  \n",
       "1        0  0_0_1  \n",
       "2        0  0_0_2  \n",
       "3        0  0_0_3  \n",
       "4        0  0_0_4  "
      ]
     },
     "execution_count": 9,
     "metadata": {},
     "output_type": "execute_result"
    }
   ],
   "source": [
    "print(train.shape)\n",
    "train.head()"
   ]
  },
  {
   "cell_type": "code",
   "execution_count": 10,
   "id": "9e2da630-8940-4d5f-a74e-1ee22acc4094",
   "metadata": {},
   "outputs": [
    {
     "name": "stdout",
     "output_type": "stream",
     "text": [
      "CPU times: user 278 ms, sys: 430 ms, total: 708 ms\n",
      "Wall time: 906 ms\n"
     ]
    }
   ],
   "source": [
    "%%time\n",
    "train = clean_df(train, missing_stock_dates=missing_stock_dates)"
   ]
  },
  {
   "cell_type": "code",
   "execution_count": 11,
   "id": "3caa4f15-2c4d-4869-9f2a-401d17445f38",
   "metadata": {},
   "outputs": [
    {
     "name": "stdout",
     "output_type": "stream",
     "text": [
      "(5237760, 17)\n"
     ]
    },
    {
     "data": {
      "text/html": [
       "<div>\n",
       "<style scoped>\n",
       "    .dataframe tbody tr th:only-of-type {\n",
       "        vertical-align: middle;\n",
       "    }\n",
       "\n",
       "    .dataframe tbody tr th {\n",
       "        vertical-align: top;\n",
       "    }\n",
       "\n",
       "    .dataframe thead th {\n",
       "        text-align: right;\n",
       "    }\n",
       "</style>\n",
       "<table border=\"1\" class=\"dataframe\">\n",
       "  <thead>\n",
       "    <tr style=\"text-align: right;\">\n",
       "      <th></th>\n",
       "      <th>stock_id</th>\n",
       "      <th>date_id</th>\n",
       "      <th>seconds</th>\n",
       "      <th>imb_size</th>\n",
       "      <th>imb_flag</th>\n",
       "      <th>ref_price</th>\n",
       "      <th>matched_size</th>\n",
       "      <th>far_price</th>\n",
       "      <th>near_price</th>\n",
       "      <th>bid_price</th>\n",
       "      <th>bid_size</th>\n",
       "      <th>ask_price</th>\n",
       "      <th>ask_size</th>\n",
       "      <th>wa_price</th>\n",
       "      <th>target</th>\n",
       "      <th>c_size</th>\n",
       "      <th>c_price</th>\n",
       "    </tr>\n",
       "  </thead>\n",
       "  <tbody>\n",
       "    <tr>\n",
       "      <th>0</th>\n",
       "      <td>0</td>\n",
       "      <td>0</td>\n",
       "      <td>0</td>\n",
       "      <td>3.180603e+06</td>\n",
       "      <td>1</td>\n",
       "      <td>0.999812</td>\n",
       "      <td>13380277.00</td>\n",
       "      <td>NaN</td>\n",
       "      <td>NaN</td>\n",
       "      <td>0.999812</td>\n",
       "      <td>60651.500000</td>\n",
       "      <td>1.000026</td>\n",
       "      <td>8493.030273</td>\n",
       "      <td>1.0</td>\n",
       "      <td>-3.029704</td>\n",
       "      <td>69144.531250</td>\n",
       "      <td>0.999838</td>\n",
       "    </tr>\n",
       "    <tr>\n",
       "      <th>1</th>\n",
       "      <td>1</td>\n",
       "      <td>0</td>\n",
       "      <td>0</td>\n",
       "      <td>1.666039e+05</td>\n",
       "      <td>-1</td>\n",
       "      <td>0.999896</td>\n",
       "      <td>1642214.25</td>\n",
       "      <td>NaN</td>\n",
       "      <td>NaN</td>\n",
       "      <td>0.999896</td>\n",
       "      <td>3233.040039</td>\n",
       "      <td>1.000660</td>\n",
       "      <td>20605.089844</td>\n",
       "      <td>1.0</td>\n",
       "      <td>-5.519986</td>\n",
       "      <td>23838.128906</td>\n",
       "      <td>1.000556</td>\n",
       "    </tr>\n",
       "    <tr>\n",
       "      <th>2</th>\n",
       "      <td>2</td>\n",
       "      <td>0</td>\n",
       "      <td>0</td>\n",
       "      <td>3.028799e+05</td>\n",
       "      <td>-1</td>\n",
       "      <td>0.999561</td>\n",
       "      <td>1819368.00</td>\n",
       "      <td>NaN</td>\n",
       "      <td>NaN</td>\n",
       "      <td>0.999403</td>\n",
       "      <td>37956.000000</td>\n",
       "      <td>1.000298</td>\n",
       "      <td>18995.000000</td>\n",
       "      <td>1.0</td>\n",
       "      <td>-8.389950</td>\n",
       "      <td>56951.000000</td>\n",
       "      <td>0.999701</td>\n",
       "    </tr>\n",
       "    <tr>\n",
       "      <th>3</th>\n",
       "      <td>3</td>\n",
       "      <td>0</td>\n",
       "      <td>0</td>\n",
       "      <td>1.191768e+07</td>\n",
       "      <td>-1</td>\n",
       "      <td>1.000171</td>\n",
       "      <td>18389746.00</td>\n",
       "      <td>NaN</td>\n",
       "      <td>NaN</td>\n",
       "      <td>0.999999</td>\n",
       "      <td>2324.899902</td>\n",
       "      <td>1.000214</td>\n",
       "      <td>479032.406250</td>\n",
       "      <td>1.0</td>\n",
       "      <td>-4.010201</td>\n",
       "      <td>481357.312500</td>\n",
       "      <td>1.000213</td>\n",
       "    </tr>\n",
       "    <tr>\n",
       "      <th>4</th>\n",
       "      <td>4</td>\n",
       "      <td>0</td>\n",
       "      <td>0</td>\n",
       "      <td>4.475500e+05</td>\n",
       "      <td>-1</td>\n",
       "      <td>0.999532</td>\n",
       "      <td>17860614.00</td>\n",
       "      <td>NaN</td>\n",
       "      <td>NaN</td>\n",
       "      <td>0.999394</td>\n",
       "      <td>16485.539062</td>\n",
       "      <td>1.000016</td>\n",
       "      <td>434.100006</td>\n",
       "      <td>1.0</td>\n",
       "      <td>-7.349849</td>\n",
       "      <td>16919.638672</td>\n",
       "      <td>0.999410</td>\n",
       "    </tr>\n",
       "  </tbody>\n",
       "</table>\n",
       "</div>"
      ],
      "text/plain": [
       "   stock_id  date_id  seconds      imb_size  imb_flag  ref_price  \\\n",
       "0         0        0        0  3.180603e+06         1   0.999812   \n",
       "1         1        0        0  1.666039e+05        -1   0.999896   \n",
       "2         2        0        0  3.028799e+05        -1   0.999561   \n",
       "3         3        0        0  1.191768e+07        -1   1.000171   \n",
       "4         4        0        0  4.475500e+05        -1   0.999532   \n",
       "\n",
       "   matched_size  far_price  near_price  bid_price      bid_size  ask_price  \\\n",
       "0   13380277.00        NaN         NaN   0.999812  60651.500000   1.000026   \n",
       "1    1642214.25        NaN         NaN   0.999896   3233.040039   1.000660   \n",
       "2    1819368.00        NaN         NaN   0.999403  37956.000000   1.000298   \n",
       "3   18389746.00        NaN         NaN   0.999999   2324.899902   1.000214   \n",
       "4   17860614.00        NaN         NaN   0.999394  16485.539062   1.000016   \n",
       "\n",
       "        ask_size  wa_price    target         c_size   c_price  \n",
       "0    8493.030273       1.0 -3.029704   69144.531250  0.999838  \n",
       "1   20605.089844       1.0 -5.519986   23838.128906  1.000556  \n",
       "2   18995.000000       1.0 -8.389950   56951.000000  0.999701  \n",
       "3  479032.406250       1.0 -4.010201  481357.312500  1.000213  \n",
       "4     434.100006       1.0 -7.349849   16919.638672  0.999410  "
      ]
     },
     "execution_count": 11,
     "metadata": {},
     "output_type": "execute_result"
    }
   ],
   "source": [
    "print(train.shape)\n",
    "train.head()"
   ]
  },
  {
   "cell_type": "markdown",
   "id": "d724ccdd-6d48-4f30-be93-9c401a2896e7",
   "metadata": {},
   "source": [
    "- Simple cleaning is done successfully :)"
   ]
  },
  {
   "cell_type": "code",
   "execution_count": 12,
   "id": "a32ded82-80f9-4566-8c0b-bb0f7cd040eb",
   "metadata": {
    "tags": []
   },
   "outputs": [
    {
     "name": "stdout",
     "output_type": "stream",
     "text": [
      "CPU times: user 1.58 s, sys: 65 ms, total: 1.65 s\n",
      "Wall time: 1.82 s\n"
     ]
    }
   ],
   "source": [
    "%%time\n",
    "train.to_parquet(f'{DATA_DIR}/optiver-train-data/cleaned_train.parquet')"
   ]
  },
  {
   "cell_type": "markdown",
   "id": "ad669b18-9848-4b87-9cee-be8d3ad82e8f",
   "metadata": {},
   "source": [
    "# Simple Clipping"
   ]
  },
  {
   "cell_type": "markdown",
   "id": "6cf6afb1-4c4d-47d8-9216-ce7d614d2631",
   "metadata": {},
   "source": [
    "Steps:\n",
    "- ~Clip price columns from both tails~ Since I tau the benchmark is wap=1 at seconds 0, so the prices are relative aldy, no need to clip I think\n",
    "- ~Clip volume columns from upper tail~\n",
    "- Clip target column from both tails\n",
    "- Create 2 extra binary target columns (Not sure if these are useful)\n",
    "\n",
    "Further Enhancements:\n",
    "- To implement stock-based clipping instead of global clipping, because some stock might have high trading volumes / higher volatility?\n",
    "- By defining the bound using outlier factor instead of simple percentile for all [price / volume] columns?"
   ]
  },
  {
   "cell_type": "code",
   "execution_count": 13,
   "id": "68faeb47-2cee-4eeb-889a-5ff99af306d6",
   "metadata": {},
   "outputs": [
    {
     "name": "stdout",
     "output_type": "stream",
     "text": [
      "\u001b[34m\u001b[1mFor ref_price, the global clip bound is\u001b[0m \u001b[32m\u001b[1m(0.9759, 1.0289)\u001b[0m\n",
      "\u001b[34m\u001b[1mFor far_price, the global clip bound is\u001b[0m \u001b[32m\u001b[1m(0.7097, 1.6328)\u001b[0m\n",
      "\u001b[34m\u001b[1mFor near_price, the global clip bound is\u001b[0m \u001b[32m\u001b[1m(0.8922, 1.1146)\u001b[0m\n",
      "\u001b[34m\u001b[1mFor bid_price, the global clip bound is\u001b[0m \u001b[32m\u001b[1m(0.9747, 1.0268)\u001b[0m\n",
      "\u001b[34m\u001b[1mFor ask_price, the global clip bound is\u001b[0m \u001b[32m\u001b[1m(0.9770, 1.0297)\u001b[0m\n",
      "\u001b[34m\u001b[1mFor wa_price, the global clip bound is\u001b[0m \u001b[32m\u001b[1m(0.9761, 1.0282)\u001b[0m\n",
      "\u001b[34m\u001b[1mFor c_price, the global clip bound is\u001b[0m \u001b[32m\u001b[1m(0.9762, 1.0282)\u001b[0m\n"
     ]
    }
   ],
   "source": [
    "base_price_cols = get_cols(train, contains=\"price\")\n",
    "price_clippers = get_price_clippers(train, base_price_cols)"
   ]
  },
  {
   "cell_type": "code",
   "execution_count": 14,
   "id": "e02025ff-b7c5-4e3c-8484-12d08fdf9925",
   "metadata": {
    "tags": []
   },
   "outputs": [],
   "source": [
    "# base_volume_cols = get_cols(train, contains=\"size\")\n",
    "# volume_clippers = get_volume_clippers(train, base_volume_cols)"
   ]
  },
  {
   "cell_type": "code",
   "execution_count": 15,
   "id": "58558ce3-67a5-4103-991c-a254aa89d905",
   "metadata": {},
   "outputs": [],
   "source": [
    "# Set the float formatting options\n",
    "pd.options.display.float_format = lambda x: f\"{x:,.4f}\""
   ]
  },
  {
   "cell_type": "code",
   "execution_count": 16,
   "id": "4262b974-27ae-4211-8ee5-811c4d0b6fc0",
   "metadata": {},
   "outputs": [
    {
     "data": {
      "text/html": [
       "<div>\n",
       "<style scoped>\n",
       "    .dataframe tbody tr th:only-of-type {\n",
       "        vertical-align: middle;\n",
       "    }\n",
       "\n",
       "    .dataframe tbody tr th {\n",
       "        vertical-align: top;\n",
       "    }\n",
       "\n",
       "    .dataframe thead th {\n",
       "        text-align: right;\n",
       "    }\n",
       "</style>\n",
       "<table border=\"1\" class=\"dataframe\">\n",
       "  <thead>\n",
       "    <tr style=\"text-align: right;\">\n",
       "      <th></th>\n",
       "      <th>ref_price</th>\n",
       "      <th>far_price</th>\n",
       "      <th>near_price</th>\n",
       "      <th>bid_price</th>\n",
       "      <th>ask_price</th>\n",
       "      <th>wa_price</th>\n",
       "      <th>c_price</th>\n",
       "    </tr>\n",
       "  </thead>\n",
       "  <tbody>\n",
       "    <tr>\n",
       "      <th>count</th>\n",
       "      <td>5,237,760.0000</td>\n",
       "      <td>2,343,638.0000</td>\n",
       "      <td>2,380,800.0000</td>\n",
       "      <td>5,237,760.0000</td>\n",
       "      <td>5,237,760.0000</td>\n",
       "      <td>5,237,760.0000</td>\n",
       "      <td>5,237,760.0000</td>\n",
       "    </tr>\n",
       "    <tr>\n",
       "      <th>mean</th>\n",
       "      <td>1.0000</td>\n",
       "      <td>1.0017</td>\n",
       "      <td>0.9997</td>\n",
       "      <td>0.9997</td>\n",
       "      <td>1.0003</td>\n",
       "      <td>1.0000</td>\n",
       "      <td>1.0000</td>\n",
       "    </tr>\n",
       "    <tr>\n",
       "      <th>std</th>\n",
       "      <td>0.0025</td>\n",
       "      <td>0.7215</td>\n",
       "      <td>0.0122</td>\n",
       "      <td>0.0025</td>\n",
       "      <td>0.0025</td>\n",
       "      <td>0.0025</td>\n",
       "      <td>0.0025</td>\n",
       "    </tr>\n",
       "    <tr>\n",
       "      <th>min</th>\n",
       "      <td>0.9353</td>\n",
       "      <td>0.0001</td>\n",
       "      <td>0.7870</td>\n",
       "      <td>0.9349</td>\n",
       "      <td>0.9398</td>\n",
       "      <td>0.9380</td>\n",
       "      <td>0.9367</td>\n",
       "    </tr>\n",
       "    <tr>\n",
       "      <th>25%</th>\n",
       "      <td>0.9988</td>\n",
       "      <td>0.9963</td>\n",
       "      <td>0.9971</td>\n",
       "      <td>0.9985</td>\n",
       "      <td>0.9990</td>\n",
       "      <td>0.9988</td>\n",
       "      <td>0.9988</td>\n",
       "    </tr>\n",
       "    <tr>\n",
       "      <th>50%</th>\n",
       "      <td>1.0000</td>\n",
       "      <td>0.9999</td>\n",
       "      <td>0.9999</td>\n",
       "      <td>0.9997</td>\n",
       "      <td>1.0002</td>\n",
       "      <td>1.0000</td>\n",
       "      <td>1.0000</td>\n",
       "    </tr>\n",
       "    <tr>\n",
       "      <th>75%</th>\n",
       "      <td>1.0012</td>\n",
       "      <td>1.0033</td>\n",
       "      <td>1.0026</td>\n",
       "      <td>1.0009</td>\n",
       "      <td>1.0014</td>\n",
       "      <td>1.0011</td>\n",
       "      <td>1.0012</td>\n",
       "    </tr>\n",
       "    <tr>\n",
       "      <th>max</th>\n",
       "      <td>1.0775</td>\n",
       "      <td>437.9531</td>\n",
       "      <td>1.3097</td>\n",
       "      <td>1.0775</td>\n",
       "      <td>1.0778</td>\n",
       "      <td>1.0777</td>\n",
       "      <td>1.0776</td>\n",
       "    </tr>\n",
       "  </tbody>\n",
       "</table>\n",
       "</div>"
      ],
      "text/plain": [
       "           ref_price      far_price     near_price      bid_price  \\\n",
       "count 5,237,760.0000 2,343,638.0000 2,380,800.0000 5,237,760.0000   \n",
       "mean          1.0000         1.0017         0.9997         0.9997   \n",
       "std           0.0025         0.7215         0.0122         0.0025   \n",
       "min           0.9353         0.0001         0.7870         0.9349   \n",
       "25%           0.9988         0.9963         0.9971         0.9985   \n",
       "50%           1.0000         0.9999         0.9999         0.9997   \n",
       "75%           1.0012         1.0033         1.0026         1.0009   \n",
       "max           1.0775       437.9531         1.3097         1.0775   \n",
       "\n",
       "           ask_price       wa_price        c_price  \n",
       "count 5,237,760.0000 5,237,760.0000 5,237,760.0000  \n",
       "mean          1.0003         1.0000         1.0000  \n",
       "std           0.0025         0.0025         0.0025  \n",
       "min           0.9398         0.9380         0.9367  \n",
       "25%           0.9990         0.9988         0.9988  \n",
       "50%           1.0002         1.0000         1.0000  \n",
       "75%           1.0014         1.0011         1.0012  \n",
       "max           1.0778         1.0777         1.0776  "
      ]
     },
     "execution_count": 16,
     "metadata": {},
     "output_type": "execute_result"
    }
   ],
   "source": [
    "train[get_cols(train, \"price\")].describe()"
   ]
  },
  {
   "cell_type": "code",
   "execution_count": 17,
   "id": "f89604cf-26b9-45e8-88a1-a8bc1b03fdc1",
   "metadata": {
    "tags": []
   },
   "outputs": [
    {
     "name": "stdout",
     "output_type": "stream",
     "text": [
      "CPU times: user 226 ms, sys: 161 ms, total: 387 ms\n",
      "Wall time: 428 ms\n"
     ]
    }
   ],
   "source": [
    "%%time\n",
    "train = clip_df(train, price_clippers=price_clippers)"
   ]
  },
  {
   "cell_type": "code",
   "execution_count": 18,
   "id": "9c7b16ef-fd3e-4694-881a-80fd328d7c94",
   "metadata": {},
   "outputs": [
    {
     "data": {
      "text/html": [
       "<div>\n",
       "<style scoped>\n",
       "    .dataframe tbody tr th:only-of-type {\n",
       "        vertical-align: middle;\n",
       "    }\n",
       "\n",
       "    .dataframe tbody tr th {\n",
       "        vertical-align: top;\n",
       "    }\n",
       "\n",
       "    .dataframe thead th {\n",
       "        text-align: right;\n",
       "    }\n",
       "</style>\n",
       "<table border=\"1\" class=\"dataframe\">\n",
       "  <thead>\n",
       "    <tr style=\"text-align: right;\">\n",
       "      <th></th>\n",
       "      <th>ref_price</th>\n",
       "      <th>far_price</th>\n",
       "      <th>near_price</th>\n",
       "      <th>bid_price</th>\n",
       "      <th>ask_price</th>\n",
       "      <th>wa_price</th>\n",
       "      <th>c_price</th>\n",
       "    </tr>\n",
       "  </thead>\n",
       "  <tbody>\n",
       "    <tr>\n",
       "      <th>count</th>\n",
       "      <td>5,237,760.0000</td>\n",
       "      <td>2,343,638.0000</td>\n",
       "      <td>2,380,800.0000</td>\n",
       "      <td>5,237,760.0000</td>\n",
       "      <td>5,237,760.0000</td>\n",
       "      <td>5,237,760.0000</td>\n",
       "      <td>5,237,760.0000</td>\n",
       "    </tr>\n",
       "    <tr>\n",
       "      <th>mean</th>\n",
       "      <td>1.0000</td>\n",
       "      <td>0.9997</td>\n",
       "      <td>0.9997</td>\n",
       "      <td>0.9997</td>\n",
       "      <td>1.0003</td>\n",
       "      <td>1.0000</td>\n",
       "      <td>1.0000</td>\n",
       "    </tr>\n",
       "    <tr>\n",
       "      <th>std</th>\n",
       "      <td>0.0025</td>\n",
       "      <td>0.0194</td>\n",
       "      <td>0.0121</td>\n",
       "      <td>0.0025</td>\n",
       "      <td>0.0025</td>\n",
       "      <td>0.0025</td>\n",
       "      <td>0.0025</td>\n",
       "    </tr>\n",
       "    <tr>\n",
       "      <th>min</th>\n",
       "      <td>0.9759</td>\n",
       "      <td>0.7097</td>\n",
       "      <td>0.8922</td>\n",
       "      <td>0.9747</td>\n",
       "      <td>0.9770</td>\n",
       "      <td>0.9761</td>\n",
       "      <td>0.9762</td>\n",
       "    </tr>\n",
       "    <tr>\n",
       "      <th>25%</th>\n",
       "      <td>0.9988</td>\n",
       "      <td>0.9963</td>\n",
       "      <td>0.9971</td>\n",
       "      <td>0.9985</td>\n",
       "      <td>0.9990</td>\n",
       "      <td>0.9988</td>\n",
       "      <td>0.9988</td>\n",
       "    </tr>\n",
       "    <tr>\n",
       "      <th>50%</th>\n",
       "      <td>1.0000</td>\n",
       "      <td>0.9999</td>\n",
       "      <td>0.9999</td>\n",
       "      <td>0.9997</td>\n",
       "      <td>1.0002</td>\n",
       "      <td>1.0000</td>\n",
       "      <td>1.0000</td>\n",
       "    </tr>\n",
       "    <tr>\n",
       "      <th>75%</th>\n",
       "      <td>1.0012</td>\n",
       "      <td>1.0033</td>\n",
       "      <td>1.0026</td>\n",
       "      <td>1.0009</td>\n",
       "      <td>1.0014</td>\n",
       "      <td>1.0011</td>\n",
       "      <td>1.0012</td>\n",
       "    </tr>\n",
       "    <tr>\n",
       "      <th>max</th>\n",
       "      <td>1.0289</td>\n",
       "      <td>1.6328</td>\n",
       "      <td>1.1146</td>\n",
       "      <td>1.0268</td>\n",
       "      <td>1.0297</td>\n",
       "      <td>1.0282</td>\n",
       "      <td>1.0282</td>\n",
       "    </tr>\n",
       "  </tbody>\n",
       "</table>\n",
       "</div>"
      ],
      "text/plain": [
       "           ref_price      far_price     near_price      bid_price  \\\n",
       "count 5,237,760.0000 2,343,638.0000 2,380,800.0000 5,237,760.0000   \n",
       "mean          1.0000         0.9997         0.9997         0.9997   \n",
       "std           0.0025         0.0194         0.0121         0.0025   \n",
       "min           0.9759         0.7097         0.8922         0.9747   \n",
       "25%           0.9988         0.9963         0.9971         0.9985   \n",
       "50%           1.0000         0.9999         0.9999         0.9997   \n",
       "75%           1.0012         1.0033         1.0026         1.0009   \n",
       "max           1.0289         1.6328         1.1146         1.0268   \n",
       "\n",
       "           ask_price       wa_price        c_price  \n",
       "count 5,237,760.0000 5,237,760.0000 5,237,760.0000  \n",
       "mean          1.0003         1.0000         1.0000  \n",
       "std           0.0025         0.0025         0.0025  \n",
       "min           0.9770         0.9761         0.9762  \n",
       "25%           0.9990         0.9988         0.9988  \n",
       "50%           1.0002         1.0000         1.0000  \n",
       "75%           1.0014         1.0011         1.0012  \n",
       "max           1.0297         1.0282         1.0282  "
      ]
     },
     "execution_count": 18,
     "metadata": {},
     "output_type": "execute_result"
    }
   ],
   "source": [
    "train[get_cols(train, \"price\")].describe()"
   ]
  },
  {
   "cell_type": "code",
   "execution_count": 19,
   "id": "1c7f1fb3-3d0a-450e-80c7-b7f409e50a45",
   "metadata": {},
   "outputs": [],
   "source": [
    "pd.reset_option(\"display.float_format\")"
   ]
  },
  {
   "cell_type": "markdown",
   "id": "0cf2e3b6-292e-4ca9-a361-0b992fe0f819",
   "metadata": {},
   "source": [
    "- Simple clipping is done successfully :)"
   ]
  },
  {
   "cell_type": "code",
   "execution_count": 20,
   "id": "6afd7806-c243-402a-82e3-a042168defef",
   "metadata": {},
   "outputs": [
    {
     "name": "stdout",
     "output_type": "stream",
     "text": [
      "CPU times: user 1.82 s, sys: 60.4 ms, total: 1.88 s\n",
      "Wall time: 2.09 s\n"
     ]
    }
   ],
   "source": [
    "%%time\n",
    "train.to_parquet(f'{DATA_DIR}/optiver-train-data/clipped_train.parquet')"
   ]
  },
  {
   "cell_type": "code",
   "execution_count": 21,
   "id": "e6b9d108-a496-4319-a575-dc6f14f37660",
   "metadata": {},
   "outputs": [
    {
     "data": {
      "text/plain": [
       "['../data//optiver-preprocess-helpers/price_clippers.pkl']"
      ]
     },
     "execution_count": 21,
     "metadata": {},
     "output_type": "execute_result"
    }
   ],
   "source": [
    "joblib.dump(price_clippers, f\"{DATA_DIR}/optiver-preprocess-helpers/price_clippers.pkl\")\n",
    "# joblib.dump(volume_clippers, f\"{DATA_DIR}/optiver-preprocess-helpers/volume_clippers.pkl\")"
   ]
  },
  {
   "cell_type": "code",
   "execution_count": null,
   "id": "c3cd8a53-5dc5-491a-ad9c-208e8695b414",
   "metadata": {},
   "outputs": [],
   "source": []
  },
  {
   "cell_type": "code",
   "execution_count": null,
   "id": "7cdb75eb-16ae-4782-89a6-aff0f60b675f",
   "metadata": {},
   "outputs": [],
   "source": []
  }
 ],
 "metadata": {
  "kernelspec": {
   "display_name": "optiver",
   "language": "python",
   "name": "optiver"
  },
  "language_info": {
   "codemirror_mode": {
    "name": "ipython",
    "version": 3
   },
   "file_extension": ".py",
   "mimetype": "text/x-python",
   "name": "python",
   "nbconvert_exporter": "python",
   "pygments_lexer": "ipython3",
   "version": "3.10.0"
  },
  "toc-autonumbering": true
 },
 "nbformat": 4,
 "nbformat_minor": 5
}
