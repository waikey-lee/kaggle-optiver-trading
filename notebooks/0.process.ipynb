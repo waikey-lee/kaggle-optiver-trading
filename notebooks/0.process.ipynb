{
 "cells": [
  {
   "cell_type": "markdown",
   "id": "f41fed03-9c02-4ae2-9f62-803067f2c38e",
   "metadata": {},
   "source": [
    "# Preprocessing Pipeline"
   ]
  },
  {
   "cell_type": "code",
   "execution_count": 2,
   "id": "dae926f5-1e89-4719-9e09-5d3d18d4d47f",
   "metadata": {},
   "outputs": [],
   "source": [
    "import sys\n",
    "# sys.path.append(\"/kaggle/input/python-helpers/\")\n",
    "sys.path.append(\"../\")\n",
    "import common_utils\n",
    "from common_utils import (\n",
    "    check_memory_usage, check_memory_by_global_variable, # For memory handling\n",
    "    get_time_now, cprint, # For logging\n",
    "    get_cols, downcast_to_32bit, my_concat, my_power, my_log, list_diff, # For preprocessing\n",
    "    plot_feature_importance, plot_scatterplot, # For visualization\n",
    "    get_feature_summary, # For feature engineering & feature selection\n",
    "    check_auc # For EDA\n",
    ")\n",
    "from comp_utils import (\n",
    "    zero_sum, clean_df\n",
    ")"
   ]
  },
  {
   "cell_type": "code",
   "execution_count": 11,
   "id": "f8ed829d-a584-4ac4-a5ca-1919641dd9d5",
   "metadata": {},
   "outputs": [],
   "source": [
    "import gc\n",
    "import numpy as np\n",
    "import pandas as pd\n",
    "from tqdm import tqdm"
   ]
  },
  {
   "cell_type": "code",
   "execution_count": 4,
   "id": "ab83df4e-0753-4abc-8e52-99e3d94ff82c",
   "metadata": {},
   "outputs": [],
   "source": [
    "%load_ext autoreload\n",
    "%autoreload"
   ]
  },
  {
   "cell_type": "code",
   "execution_count": 5,
   "id": "502fbb0b-93f4-4384-9cb9-fedfdec611ac",
   "metadata": {},
   "outputs": [],
   "source": [
    "DATA_DIR = '../data/'"
   ]
  },
  {
   "cell_type": "markdown",
   "id": "bbbef479-7710-4f22-a7b4-9579cdd55433",
   "metadata": {},
   "source": [
    "## Simple Cleaning\n",
    "- Remove columns\n",
    "- Downcast DataType\n",
    "- Rename columns"
   ]
  },
  {
   "cell_type": "code",
   "execution_count": 21,
   "id": "d575be7f-25ac-42a7-bee9-27605f28e0d0",
   "metadata": {},
   "outputs": [
    {
     "name": "stdout",
     "output_type": "stream",
     "text": [
      "CPU times: user 3.68 s, sys: 555 ms, total: 4.24 s\n",
      "Wall time: 4.24 s\n"
     ]
    }
   ],
   "source": [
    "%%time\n",
    "train = pd.read_csv(f\"{DATA_DIR}/optiver-trading-at-the-close/train.csv\")"
   ]
  },
  {
   "cell_type": "code",
   "execution_count": 22,
   "id": "aaba25bb-fbec-4151-803c-d7d8b4c19122",
   "metadata": {},
   "outputs": [],
   "source": [
    "def clean_df(df, columns_to_drop=['row_id', 'time_id']):\n",
    "    df = df.drop(columns=columns_to_drop, errors=\"ignore\")\n",
    "    df = downcast_to_32bit(df)\n",
    "    df = df.rename(\n",
    "        columns={\n",
    "            \"seconds_in_bucket\": \"seconds\",\n",
    "            \"imbalance_size\": \"imb_size\",\n",
    "            \"imbalance_buy_sell_flag\": \"imb_flag\",\n",
    "            \"reference_price\": \"ref_price\",\n",
    "            \"wap\": \"wa_price\", \n",
    "        }\n",
    "    )\n",
    "    return df"
   ]
  },
  {
   "cell_type": "code",
   "execution_count": 23,
   "id": "9e2da630-8940-4d5f-a74e-1ee22acc4094",
   "metadata": {},
   "outputs": [
    {
     "name": "stderr",
     "output_type": "stream",
     "text": [
      "100%|████████████████████████████████████████████████████████████████████████████████████████████████████████████████████████████████████████████████████████████████████████████████| 15/15 [00:00<00:00, 188.04it/s]\n"
     ]
    },
    {
     "name": "stdout",
     "output_type": "stream",
     "text": [
      "CPU times: user 161 ms, sys: 209 ms, total: 370 ms\n",
      "Wall time: 368 ms\n"
     ]
    },
    {
     "data": {
      "text/plain": [
       "90"
      ]
     },
     "execution_count": 23,
     "metadata": {},
     "output_type": "execute_result"
    }
   ],
   "source": [
    "%%time\n",
    "train = clean_df(train)\n",
    "gc.collect()"
   ]
  },
  {
   "cell_type": "code",
   "execution_count": 24,
   "id": "a32ded82-80f9-4566-8c0b-bb0f7cd040eb",
   "metadata": {
    "tags": []
   },
   "outputs": [
    {
     "name": "stdout",
     "output_type": "stream",
     "text": [
      "CPU times: user 1.24 s, sys: 67.7 ms, total: 1.31 s\n",
      "Wall time: 1.13 s\n"
     ]
    }
   ],
   "source": [
    "%%time\n",
    "train.to_parquet(f'{DATA_DIR}/optiver-train-data/raw_train.parquet')"
   ]
  }
 ],
 "metadata": {
  "kernelspec": {
   "display_name": "optiver",
   "language": "python",
   "name": "optiver"
  },
  "language_info": {
   "codemirror_mode": {
    "name": "ipython",
    "version": 3
   },
   "file_extension": ".py",
   "mimetype": "text/x-python",
   "name": "python",
   "nbconvert_exporter": "python",
   "pygments_lexer": "ipython3",
   "version": "3.10.0"
  },
  "toc-autonumbering": true
 },
 "nbformat": 4,
 "nbformat_minor": 5
}
